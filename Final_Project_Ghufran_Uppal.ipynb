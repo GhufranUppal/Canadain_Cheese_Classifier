{
 "cells": [
  {
   "cell_type": "markdown",
   "metadata": {},
   "source": [
    "# Machine Learning Models for predicting if a Cheese is ORGANIC or not - based on data set  derived from the Data Set Originally provided at the Govenment of Canada Open Government Portal - Ghufran Uppal\n"
   ]
  },
  {
   "cell_type": "markdown",
   "metadata": {},
   "source": [
    "# Introduction "
   ]
  },
  {
   "cell_type": "markdown",
   "metadata": {},
   "source": [
    "# Question(s) of Interest"
   ]
  },
  {
   "cell_type": "markdown",
   "metadata": {},
   "source": [
    "In this Project, I will be building machine learning Models for predicting if a cheese is Organic (1.0)or Non-Organic (0.0) based on the data set provided to us. Organic cheeses are made with organic milk from farms that are concerned with respecting nature's balance and ensuring well - being of the animals.\n",
    "\n",
    "I will start with the exploratory data analysis of the data set, followed by the creation of pandas data frame that will contain all the relevant features for building the machine learning model. This will be followed by building a pre-processor for processing the data frame, building a baseline model (using dummy classifier) and then building machine learning models using more advanced algorithms.For this classification problem, I will be using Random Forest Classifier and Linear Regressor algorithms for Building more adavanced Machine Learning Models.My positive label will be 1.0 (Organic)and I will be using F1 Score and recall score to judge my models.\n",
    "\n",
    "At the same time, I will be keeping an eye on the training and testing scores to make sure that I have the right balance and my model is not under-fitting or over-fitting. \n"
   ]
  },
  {
   "cell_type": "code",
   "execution_count": 1374,
   "metadata": {},
   "outputs": [
    {
     "data": {
      "text/plain": [
       "DataTransformerRegistry.enable('default')"
      ]
     },
     "execution_count": 1374,
     "metadata": {},
     "output_type": "execute_result"
    }
   ],
   "source": [
    "from hashlib import sha1\n",
    "from sklearn.feature_extraction.text import CountVectorizer\n",
    "import altair as alt\n",
    "import graphviz\n",
    "import numpy as np\n",
    "import pandas as pd\n",
    "import string\n",
    "from sklearn import tree\n",
    "from sklearn.dummy import DummyClassifier\n",
    "from sklearn.tree import DecisionTreeClassifier\n",
    "from sklearn.model_selection import train_test_split, cross_validate\n",
    "from sklearn.neighbors import KNeighborsClassifier\n",
    "from sklearn.impute import SimpleImputer\n",
    "from sklearn.pipeline import Pipeline, make_pipeline\n",
    "from sklearn.compose import make_column_transformer \n",
    "from sklearn.model_selection import GridSearchCV, RandomizedSearchCV\n",
    "from sklearn.ensemble import RandomForestClassifier, RandomForestRegressor\n",
    "from sklearn.preprocessing import (\n",
    "    FunctionTransformer,\n",
    "    Normalizer,\n",
    "    OneHotEncoder,\n",
    "    StandardScaler,\n",
    "    normalize,\n",
    "    scale)\n",
    "from sklearn.metrics import plot_confusion_matrix, classification_report\n",
    "from sklearn.svm import SVC, SVR\n",
    "\n",
    "from scipy.stats import lognorm, loguniform, randint\n",
    "from matplotlib import pyplot as plt\n",
    "from sklearn.pipeline import Pipeline, make_pipeline\n",
    "from sklearn.impute import SimpleImputer\n",
    "from sklearn.preprocessing import (\n",
    "    FunctionTransformer,\n",
    "    Normalizer,\n",
    "    OneHotEncoder,\n",
    "    StandardScaler,\n",
    "    normalize,\n",
    "    scale)\n",
    "\n",
    "#alt.renderers.enable('mimetype')\n",
    "alt.data_transformers.disable_max_rows()"
   ]
  },
  {
   "cell_type": "markdown",
   "metadata": {},
   "source": [
    "# Expoloratory Data Analysis"
   ]
  },
  {
   "cell_type": "markdown",
   "metadata": {},
   "source": [
    "Importing the data in the csv provided in the Project Data Folder "
   ]
  },
  {
   "cell_type": "code",
   "execution_count": 1375,
   "metadata": {},
   "outputs": [],
   "source": [
    "canadian_cheese = pd.read_csv (\"data/canadianCheeseDirectory.csv\")"
   ]
  },
  {
   "cell_type": "markdown",
   "metadata": {},
   "source": [
    "Let us look at the data in the Data Frame canadian_cheese"
   ]
  },
  {
   "cell_type": "code",
   "execution_count": 1376,
   "metadata": {},
   "outputs": [
    {
     "data": {
      "text/html": [
       "<div>\n",
       "<style scoped>\n",
       "    .dataframe tbody tr th:only-of-type {\n",
       "        vertical-align: middle;\n",
       "    }\n",
       "\n",
       "    .dataframe tbody tr th {\n",
       "        vertical-align: top;\n",
       "    }\n",
       "\n",
       "    .dataframe thead th {\n",
       "        text-align: right;\n",
       "    }\n",
       "</style>\n",
       "<table border=\"1\" class=\"dataframe\">\n",
       "  <thead>\n",
       "    <tr style=\"text-align: right;\">\n",
       "      <th></th>\n",
       "      <th>CheeseId</th>\n",
       "      <th>CheeseNameEn</th>\n",
       "      <th>CheeseNameFr</th>\n",
       "      <th>ManufacturerNameEn</th>\n",
       "      <th>ManufacturerNameFr</th>\n",
       "      <th>ManufacturerProvCode</th>\n",
       "      <th>ManufacturingTypeEn</th>\n",
       "      <th>ManufacturingTypeFr</th>\n",
       "      <th>WebSiteEn</th>\n",
       "      <th>WebSiteFr</th>\n",
       "      <th>...</th>\n",
       "      <th>Organic</th>\n",
       "      <th>CategoryTypeEn</th>\n",
       "      <th>CategoryTypeFr</th>\n",
       "      <th>MilkTypeEn</th>\n",
       "      <th>MilkTypeFr</th>\n",
       "      <th>MilkTreatmentTypeEn</th>\n",
       "      <th>MilkTreatmentTypeFr</th>\n",
       "      <th>RindTypeEn</th>\n",
       "      <th>RindTypeFr</th>\n",
       "      <th>LastUpdateDate</th>\n",
       "    </tr>\n",
       "  </thead>\n",
       "  <tbody>\n",
       "    <tr>\n",
       "      <th>0</th>\n",
       "      <td>228</td>\n",
       "      <td>NaN</td>\n",
       "      <td>Sieur de Duplessis (Le)</td>\n",
       "      <td>NaN</td>\n",
       "      <td>Fromages la faim de loup</td>\n",
       "      <td>NB</td>\n",
       "      <td>Farmstead</td>\n",
       "      <td>Fermière</td>\n",
       "      <td>NaN</td>\n",
       "      <td>NaN</td>\n",
       "      <td>...</td>\n",
       "      <td>0</td>\n",
       "      <td>Firm Cheese</td>\n",
       "      <td>Pâte ferme</td>\n",
       "      <td>Ewe</td>\n",
       "      <td>Brebis</td>\n",
       "      <td>Raw Milk</td>\n",
       "      <td>Lait cru</td>\n",
       "      <td>Washed Rind</td>\n",
       "      <td>Croûte lavée</td>\n",
       "      <td>2016-02-03</td>\n",
       "    </tr>\n",
       "    <tr>\n",
       "      <th>1</th>\n",
       "      <td>242</td>\n",
       "      <td>NaN</td>\n",
       "      <td>Tomme Le Champ Doré</td>\n",
       "      <td>NaN</td>\n",
       "      <td>Fromages la faim de loup</td>\n",
       "      <td>NB</td>\n",
       "      <td>Farmstead</td>\n",
       "      <td>Fermière</td>\n",
       "      <td>NaN</td>\n",
       "      <td>NaN</td>\n",
       "      <td>...</td>\n",
       "      <td>0</td>\n",
       "      <td>Semi-soft Cheese</td>\n",
       "      <td>Pâte demi-ferme</td>\n",
       "      <td>Cow</td>\n",
       "      <td>Vache</td>\n",
       "      <td>Raw Milk</td>\n",
       "      <td>Lait cru</td>\n",
       "      <td>Washed Rind</td>\n",
       "      <td>Croûte lavée</td>\n",
       "      <td>2016-02-03</td>\n",
       "    </tr>\n",
       "  </tbody>\n",
       "</table>\n",
       "<p>2 rows × 30 columns</p>\n",
       "</div>"
      ],
      "text/plain": [
       "   CheeseId CheeseNameEn             CheeseNameFr ManufacturerNameEn  \\\n",
       "0       228          NaN  Sieur de Duplessis (Le)                NaN   \n",
       "1       242          NaN      Tomme Le Champ Doré                NaN   \n",
       "\n",
       "         ManufacturerNameFr ManufacturerProvCode ManufacturingTypeEn  \\\n",
       "0  Fromages la faim de loup                   NB           Farmstead   \n",
       "1  Fromages la faim de loup                   NB           Farmstead   \n",
       "\n",
       "  ManufacturingTypeFr WebSiteEn WebSiteFr  ...  Organic    CategoryTypeEn  \\\n",
       "0            Fermière       NaN       NaN  ...        0       Firm Cheese   \n",
       "1            Fermière       NaN       NaN  ...        0  Semi-soft Cheese   \n",
       "\n",
       "    CategoryTypeFr MilkTypeEn MilkTypeFr MilkTreatmentTypeEn  \\\n",
       "0       Pâte ferme        Ewe     Brebis            Raw Milk   \n",
       "1  Pâte demi-ferme        Cow      Vache            Raw Milk   \n",
       "\n",
       "  MilkTreatmentTypeFr   RindTypeEn    RindTypeFr LastUpdateDate  \n",
       "0            Lait cru  Washed Rind  Croûte lavée     2016-02-03  \n",
       "1            Lait cru  Washed Rind  Croûte lavée     2016-02-03  \n",
       "\n",
       "[2 rows x 30 columns]"
      ]
     },
     "execution_count": 1376,
     "metadata": {},
     "output_type": "execute_result"
    }
   ],
   "source": [
    "canadian_cheese.head(2)"
   ]
  },
  {
   "cell_type": "code",
   "execution_count": 1377,
   "metadata": {},
   "outputs": [
    {
     "data": {
      "text/html": [
       "<div>\n",
       "<style scoped>\n",
       "    .dataframe tbody tr th:only-of-type {\n",
       "        vertical-align: middle;\n",
       "    }\n",
       "\n",
       "    .dataframe tbody tr th {\n",
       "        vertical-align: top;\n",
       "    }\n",
       "\n",
       "    .dataframe thead th {\n",
       "        text-align: right;\n",
       "    }\n",
       "</style>\n",
       "<table border=\"1\" class=\"dataframe\">\n",
       "  <thead>\n",
       "    <tr style=\"text-align: right;\">\n",
       "      <th></th>\n",
       "      <th>CheeseId</th>\n",
       "      <th>FatContentPercent</th>\n",
       "      <th>MoisturePercent</th>\n",
       "      <th>Organic</th>\n",
       "    </tr>\n",
       "  </thead>\n",
       "  <tbody>\n",
       "    <tr>\n",
       "      <th>count</th>\n",
       "      <td>1451.000000</td>\n",
       "      <td>1042.000000</td>\n",
       "      <td>1031.000000</td>\n",
       "      <td>1451.000000</td>\n",
       "    </tr>\n",
       "    <tr>\n",
       "      <th>mean</th>\n",
       "      <td>1565.436940</td>\n",
       "      <td>26.625374</td>\n",
       "      <td>47.069544</td>\n",
       "      <td>0.083391</td>\n",
       "    </tr>\n",
       "    <tr>\n",
       "      <th>std</th>\n",
       "      <td>497.777745</td>\n",
       "      <td>7.308941</td>\n",
       "      <td>9.644527</td>\n",
       "      <td>0.276567</td>\n",
       "    </tr>\n",
       "    <tr>\n",
       "      <th>min</th>\n",
       "      <td>228.000000</td>\n",
       "      <td>1.000000</td>\n",
       "      <td>12.000000</td>\n",
       "      <td>0.000000</td>\n",
       "    </tr>\n",
       "    <tr>\n",
       "      <th>25%</th>\n",
       "      <td>1185.500000</td>\n",
       "      <td>24.000000</td>\n",
       "      <td>40.000000</td>\n",
       "      <td>0.000000</td>\n",
       "    </tr>\n",
       "    <tr>\n",
       "      <th>50%</th>\n",
       "      <td>1561.000000</td>\n",
       "      <td>27.000000</td>\n",
       "      <td>46.000000</td>\n",
       "      <td>0.000000</td>\n",
       "    </tr>\n",
       "    <tr>\n",
       "      <th>75%</th>\n",
       "      <td>2002.500000</td>\n",
       "      <td>31.000000</td>\n",
       "      <td>52.000000</td>\n",
       "      <td>0.000000</td>\n",
       "    </tr>\n",
       "    <tr>\n",
       "      <th>max</th>\n",
       "      <td>2391.000000</td>\n",
       "      <td>75.000000</td>\n",
       "      <td>92.000000</td>\n",
       "      <td>1.000000</td>\n",
       "    </tr>\n",
       "  </tbody>\n",
       "</table>\n",
       "</div>"
      ],
      "text/plain": [
       "          CheeseId  FatContentPercent  MoisturePercent      Organic\n",
       "count  1451.000000        1042.000000      1031.000000  1451.000000\n",
       "mean   1565.436940          26.625374        47.069544     0.083391\n",
       "std     497.777745           7.308941         9.644527     0.276567\n",
       "min     228.000000           1.000000        12.000000     0.000000\n",
       "25%    1185.500000          24.000000        40.000000     0.000000\n",
       "50%    1561.000000          27.000000        46.000000     0.000000\n",
       "75%    2002.500000          31.000000        52.000000     0.000000\n",
       "max    2391.000000          75.000000        92.000000     1.000000"
      ]
     },
     "execution_count": 1377,
     "metadata": {},
     "output_type": "execute_result"
    }
   ],
   "source": [
    "canadian_cheese.describe()"
   ]
  },
  {
   "cell_type": "code",
   "execution_count": 1378,
   "metadata": {},
   "outputs": [
    {
     "name": "stdout",
     "output_type": "stream",
     "text": [
      "<class 'pandas.core.frame.DataFrame'>\n",
      "RangeIndex: 1451 entries, 0 to 1450\n",
      "Data columns (total 30 columns):\n",
      " #   Column                Non-Null Count  Dtype  \n",
      "---  ------                --------------  -----  \n",
      " 0   CheeseId              1451 non-null   int64  \n",
      " 1   CheeseNameEn          584 non-null    object \n",
      " 2   CheeseNameFr          1083 non-null   object \n",
      " 3   ManufacturerNameEn    680 non-null    object \n",
      " 4   ManufacturerNameFr    964 non-null    object \n",
      " 5   ManufacturerProvCode  1451 non-null   object \n",
      " 6   ManufacturingTypeEn   1451 non-null   object \n",
      " 7   ManufacturingTypeFr   1451 non-null   object \n",
      " 8   WebSiteEn             875 non-null    object \n",
      " 9   WebSiteFr             784 non-null    object \n",
      " 10  FatContentPercent     1042 non-null   float64\n",
      " 11  MoisturePercent       1031 non-null   float64\n",
      " 12  ParticularitiesEn     505 non-null    object \n",
      " 13  ParticularitiesFr     504 non-null    object \n",
      " 14  FlavourEn             945 non-null    object \n",
      " 15  FlavourFr             942 non-null    object \n",
      " 16  CharacteristicsEn     762 non-null    object \n",
      " 17  CharacteristicsFr     760 non-null    object \n",
      " 18  RipeningEn            742 non-null    object \n",
      " 19  RipeningFr            740 non-null    object \n",
      " 20  Organic               1451 non-null   int64  \n",
      " 21  CategoryTypeEn        1307 non-null   object \n",
      " 22  CategoryTypeFr        1307 non-null   object \n",
      " 23  MilkTypeEn            1430 non-null   object \n",
      " 24  MilkTypeFr            1430 non-null   object \n",
      " 25  MilkTreatmentTypeEn   1236 non-null   object \n",
      " 26  MilkTreatmentTypeFr   1236 non-null   object \n",
      " 27  RindTypeEn            857 non-null    object \n",
      " 28  RindTypeFr            857 non-null    object \n",
      " 29  LastUpdateDate        1451 non-null   object \n",
      "dtypes: float64(2), int64(2), object(26)\n",
      "memory usage: 340.2+ KB\n"
     ]
    }
   ],
   "source": [
    "canadian_cheese.info()"
   ]
  },
  {
   "cell_type": "markdown",
   "metadata": {},
   "source": [
    "Based on the above, we can see that most of the columns are classified as type Object by Pandas, which mean that they would be containing Categorical, Binary, Text or other Type of Data. Let us look at our columns more closely"
   ]
  },
  {
   "cell_type": "code",
   "execution_count": 1379,
   "metadata": {},
   "outputs": [
    {
     "data": {
      "text/plain": [
       "Index(['CheeseId', 'CheeseNameEn', 'CheeseNameFr', 'ManufacturerNameEn',\n",
       "       'ManufacturerNameFr', 'ManufacturerProvCode', 'ManufacturingTypeEn',\n",
       "       'ManufacturingTypeFr', 'WebSiteEn', 'WebSiteFr', 'FatContentPercent',\n",
       "       'MoisturePercent', 'ParticularitiesEn', 'ParticularitiesFr',\n",
       "       'FlavourEn', 'FlavourFr', 'CharacteristicsEn', 'CharacteristicsFr',\n",
       "       'RipeningEn', 'RipeningFr', 'Organic', 'CategoryTypeEn',\n",
       "       'CategoryTypeFr', 'MilkTypeEn', 'MilkTypeFr', 'MilkTreatmentTypeEn',\n",
       "       'MilkTreatmentTypeFr', 'RindTypeEn', 'RindTypeFr', 'LastUpdateDate'],\n",
       "      dtype='object')"
      ]
     },
     "execution_count": 1379,
     "metadata": {},
     "output_type": "execute_result"
    }
   ],
   "source": [
    "canadian_cheese.columns"
   ]
  },
  {
   "cell_type": "markdown",
   "metadata": {},
   "source": [
    "Let us look at the Data contained in the following columns"
   ]
  },
  {
   "cell_type": "code",
   "execution_count": 1380,
   "metadata": {},
   "outputs": [],
   "source": [
    "canadian_cheese_other_columns_1 = canadian_cheese[['WebSiteEn','WebSiteFr', 'LastUpdateDate']]"
   ]
  },
  {
   "cell_type": "code",
   "execution_count": 1381,
   "metadata": {},
   "outputs": [
    {
     "data": {
      "text/html": [
       "<div>\n",
       "<style scoped>\n",
       "    .dataframe tbody tr th:only-of-type {\n",
       "        vertical-align: middle;\n",
       "    }\n",
       "\n",
       "    .dataframe tbody tr th {\n",
       "        vertical-align: top;\n",
       "    }\n",
       "\n",
       "    .dataframe thead th {\n",
       "        text-align: right;\n",
       "    }\n",
       "</style>\n",
       "<table border=\"1\" class=\"dataframe\">\n",
       "  <thead>\n",
       "    <tr style=\"text-align: right;\">\n",
       "      <th></th>\n",
       "      <th>WebSiteEn</th>\n",
       "      <th>WebSiteFr</th>\n",
       "      <th>LastUpdateDate</th>\n",
       "    </tr>\n",
       "  </thead>\n",
       "  <tbody>\n",
       "    <tr>\n",
       "      <th>0</th>\n",
       "      <td>NaN</td>\n",
       "      <td>NaN</td>\n",
       "      <td>2016-02-03</td>\n",
       "    </tr>\n",
       "    <tr>\n",
       "      <th>1</th>\n",
       "      <td>NaN</td>\n",
       "      <td>NaN</td>\n",
       "      <td>2016-02-03</td>\n",
       "    </tr>\n",
       "    <tr>\n",
       "      <th>2</th>\n",
       "      <td>http://www.trestelle.ca/english/</td>\n",
       "      <td>http://www.trestelle.ca/francais/</td>\n",
       "      <td>2016-02-03</td>\n",
       "    </tr>\n",
       "    <tr>\n",
       "      <th>3</th>\n",
       "      <td>NaN</td>\n",
       "      <td>NaN</td>\n",
       "      <td>2016-02-03</td>\n",
       "    </tr>\n",
       "    <tr>\n",
       "      <th>4</th>\n",
       "      <td>NaN</td>\n",
       "      <td>NaN</td>\n",
       "      <td>2016-02-03</td>\n",
       "    </tr>\n",
       "    <tr>\n",
       "      <th>...</th>\n",
       "      <td>...</td>\n",
       "      <td>...</td>\n",
       "      <td>...</td>\n",
       "    </tr>\n",
       "    <tr>\n",
       "      <th>1446</th>\n",
       "      <td>http://https://www.knoydartfarm.org</td>\n",
       "      <td>NaN</td>\n",
       "      <td>2020-03-10</td>\n",
       "    </tr>\n",
       "    <tr>\n",
       "      <th>1447</th>\n",
       "      <td>http://www.fresk-o.com</td>\n",
       "      <td>NaN</td>\n",
       "      <td>2020-03-10</td>\n",
       "    </tr>\n",
       "    <tr>\n",
       "      <th>1448</th>\n",
       "      <td>http://www.blueharbourcheese.com</td>\n",
       "      <td>NaN</td>\n",
       "      <td>2020-03-06</td>\n",
       "    </tr>\n",
       "    <tr>\n",
       "      <th>1449</th>\n",
       "      <td>http://www.blueharbourcheese.com</td>\n",
       "      <td>NaN</td>\n",
       "      <td>2020-03-06</td>\n",
       "    </tr>\n",
       "    <tr>\n",
       "      <th>1450</th>\n",
       "      <td>http://www.thecheesefactory.ca</td>\n",
       "      <td>NaN</td>\n",
       "      <td>2020-03-10</td>\n",
       "    </tr>\n",
       "  </tbody>\n",
       "</table>\n",
       "<p>1451 rows × 3 columns</p>\n",
       "</div>"
      ],
      "text/plain": [
       "                                WebSiteEn                          WebSiteFr  \\\n",
       "0                                     NaN                                NaN   \n",
       "1                                     NaN                                NaN   \n",
       "2        http://www.trestelle.ca/english/  http://www.trestelle.ca/francais/   \n",
       "3                                     NaN                                NaN   \n",
       "4                                     NaN                                NaN   \n",
       "...                                   ...                                ...   \n",
       "1446  http://https://www.knoydartfarm.org                                NaN   \n",
       "1447               http://www.fresk-o.com                                NaN   \n",
       "1448     http://www.blueharbourcheese.com                                NaN   \n",
       "1449     http://www.blueharbourcheese.com                                NaN   \n",
       "1450       http://www.thecheesefactory.ca                                NaN   \n",
       "\n",
       "     LastUpdateDate  \n",
       "0        2016-02-03  \n",
       "1        2016-02-03  \n",
       "2        2016-02-03  \n",
       "3        2016-02-03  \n",
       "4        2016-02-03  \n",
       "...             ...  \n",
       "1446     2020-03-10  \n",
       "1447     2020-03-10  \n",
       "1448     2020-03-06  \n",
       "1449     2020-03-06  \n",
       "1450     2020-03-10  \n",
       "\n",
       "[1451 rows x 3 columns]"
      ]
     },
     "execution_count": 1381,
     "metadata": {},
     "output_type": "execute_result"
    }
   ],
   "source": [
    "canadian_cheese_other_columns_1"
   ]
  },
  {
   "cell_type": "markdown",
   "metadata": {},
   "source": [
    "As these Column have Special Characters(Date Time) and do not seem to be correlated to our Prediction Variable as well, let us drop these columns"
   ]
  },
  {
   "cell_type": "code",
   "execution_count": 1382,
   "metadata": {},
   "outputs": [],
   "source": [
    "canadian_cheese_rev_1=canadian_cheese.drop(columns =['WebSiteEn','WebSiteFr','LastUpdateDate'])"
   ]
  },
  {
   "cell_type": "code",
   "execution_count": 1383,
   "metadata": {},
   "outputs": [
    {
     "data": {
      "text/html": [
       "<div>\n",
       "<style scoped>\n",
       "    .dataframe tbody tr th:only-of-type {\n",
       "        vertical-align: middle;\n",
       "    }\n",
       "\n",
       "    .dataframe tbody tr th {\n",
       "        vertical-align: top;\n",
       "    }\n",
       "\n",
       "    .dataframe thead th {\n",
       "        text-align: right;\n",
       "    }\n",
       "</style>\n",
       "<table border=\"1\" class=\"dataframe\">\n",
       "  <thead>\n",
       "    <tr style=\"text-align: right;\">\n",
       "      <th></th>\n",
       "      <th>CheeseId</th>\n",
       "      <th>CheeseNameEn</th>\n",
       "      <th>CheeseNameFr</th>\n",
       "      <th>ManufacturerNameEn</th>\n",
       "      <th>ManufacturerNameFr</th>\n",
       "      <th>ManufacturerProvCode</th>\n",
       "      <th>ManufacturingTypeEn</th>\n",
       "      <th>ManufacturingTypeFr</th>\n",
       "      <th>FatContentPercent</th>\n",
       "      <th>MoisturePercent</th>\n",
       "      <th>...</th>\n",
       "      <th>RipeningFr</th>\n",
       "      <th>Organic</th>\n",
       "      <th>CategoryTypeEn</th>\n",
       "      <th>CategoryTypeFr</th>\n",
       "      <th>MilkTypeEn</th>\n",
       "      <th>MilkTypeFr</th>\n",
       "      <th>MilkTreatmentTypeEn</th>\n",
       "      <th>MilkTreatmentTypeFr</th>\n",
       "      <th>RindTypeEn</th>\n",
       "      <th>RindTypeFr</th>\n",
       "    </tr>\n",
       "  </thead>\n",
       "  <tbody>\n",
       "    <tr>\n",
       "      <th>0</th>\n",
       "      <td>228</td>\n",
       "      <td>NaN</td>\n",
       "      <td>Sieur de Duplessis (Le)</td>\n",
       "      <td>NaN</td>\n",
       "      <td>Fromages la faim de loup</td>\n",
       "      <td>NB</td>\n",
       "      <td>Farmstead</td>\n",
       "      <td>Fermière</td>\n",
       "      <td>24.2</td>\n",
       "      <td>47.0</td>\n",
       "      <td>...</td>\n",
       "      <td>9 mois</td>\n",
       "      <td>0</td>\n",
       "      <td>Firm Cheese</td>\n",
       "      <td>Pâte ferme</td>\n",
       "      <td>Ewe</td>\n",
       "      <td>Brebis</td>\n",
       "      <td>Raw Milk</td>\n",
       "      <td>Lait cru</td>\n",
       "      <td>Washed Rind</td>\n",
       "      <td>Croûte lavée</td>\n",
       "    </tr>\n",
       "    <tr>\n",
       "      <th>1</th>\n",
       "      <td>242</td>\n",
       "      <td>NaN</td>\n",
       "      <td>Tomme Le Champ Doré</td>\n",
       "      <td>NaN</td>\n",
       "      <td>Fromages la faim de loup</td>\n",
       "      <td>NB</td>\n",
       "      <td>Farmstead</td>\n",
       "      <td>Fermière</td>\n",
       "      <td>24.2</td>\n",
       "      <td>47.9</td>\n",
       "      <td>...</td>\n",
       "      <td>NaN</td>\n",
       "      <td>0</td>\n",
       "      <td>Semi-soft Cheese</td>\n",
       "      <td>Pâte demi-ferme</td>\n",
       "      <td>Cow</td>\n",
       "      <td>Vache</td>\n",
       "      <td>Raw Milk</td>\n",
       "      <td>Lait cru</td>\n",
       "      <td>Washed Rind</td>\n",
       "      <td>Croûte lavée</td>\n",
       "    </tr>\n",
       "  </tbody>\n",
       "</table>\n",
       "<p>2 rows × 27 columns</p>\n",
       "</div>"
      ],
      "text/plain": [
       "   CheeseId CheeseNameEn             CheeseNameFr ManufacturerNameEn  \\\n",
       "0       228          NaN  Sieur de Duplessis (Le)                NaN   \n",
       "1       242          NaN      Tomme Le Champ Doré                NaN   \n",
       "\n",
       "         ManufacturerNameFr ManufacturerProvCode ManufacturingTypeEn  \\\n",
       "0  Fromages la faim de loup                   NB           Farmstead   \n",
       "1  Fromages la faim de loup                   NB           Farmstead   \n",
       "\n",
       "  ManufacturingTypeFr  FatContentPercent  MoisturePercent  ... RipeningFr  \\\n",
       "0            Fermière               24.2             47.0  ...     9 mois   \n",
       "1            Fermière               24.2             47.9  ...        NaN   \n",
       "\n",
       "  Organic    CategoryTypeEn   CategoryTypeFr MilkTypeEn MilkTypeFr  \\\n",
       "0       0       Firm Cheese       Pâte ferme        Ewe     Brebis   \n",
       "1       0  Semi-soft Cheese  Pâte demi-ferme        Cow      Vache   \n",
       "\n",
       "  MilkTreatmentTypeEn MilkTreatmentTypeFr   RindTypeEn    RindTypeFr  \n",
       "0            Raw Milk            Lait cru  Washed Rind  Croûte lavée  \n",
       "1            Raw Milk            Lait cru  Washed Rind  Croûte lavée  \n",
       "\n",
       "[2 rows x 27 columns]"
      ]
     },
     "execution_count": 1383,
     "metadata": {},
     "output_type": "execute_result"
    }
   ],
   "source": [
    "canadian_cheese_rev_1.head(2)"
   ]
  },
  {
   "cell_type": "code",
   "execution_count": 1384,
   "metadata": {},
   "outputs": [],
   "source": [
    "canadian_cheese_other_columns_2 = canadian_cheese[['CheeseNameEn','CheeseNameFr']]"
   ]
  },
  {
   "cell_type": "code",
   "execution_count": 1385,
   "metadata": {},
   "outputs": [
    {
     "data": {
      "text/html": [
       "<div>\n",
       "<style scoped>\n",
       "    .dataframe tbody tr th:only-of-type {\n",
       "        vertical-align: middle;\n",
       "    }\n",
       "\n",
       "    .dataframe tbody tr th {\n",
       "        vertical-align: top;\n",
       "    }\n",
       "\n",
       "    .dataframe thead th {\n",
       "        text-align: right;\n",
       "    }\n",
       "</style>\n",
       "<table border=\"1\" class=\"dataframe\">\n",
       "  <thead>\n",
       "    <tr style=\"text-align: right;\">\n",
       "      <th></th>\n",
       "      <th>CheeseNameEn</th>\n",
       "      <th>CheeseNameFr</th>\n",
       "    </tr>\n",
       "  </thead>\n",
       "  <tbody>\n",
       "    <tr>\n",
       "      <th>0</th>\n",
       "      <td>NaN</td>\n",
       "      <td>Sieur de Duplessis (Le)</td>\n",
       "    </tr>\n",
       "    <tr>\n",
       "      <th>1</th>\n",
       "      <td>NaN</td>\n",
       "      <td>Tomme Le Champ Doré</td>\n",
       "    </tr>\n",
       "    <tr>\n",
       "      <th>2</th>\n",
       "      <td>Provolone Sette Fette (Tre-Stelle)</td>\n",
       "      <td>Provolone Sette Fette (Tre-Stelle)</td>\n",
       "    </tr>\n",
       "    <tr>\n",
       "      <th>3</th>\n",
       "      <td>NaN</td>\n",
       "      <td>Geai Bleu (Le)</td>\n",
       "    </tr>\n",
       "    <tr>\n",
       "      <th>4</th>\n",
       "      <td>NaN</td>\n",
       "      <td>Gamin (Le)</td>\n",
       "    </tr>\n",
       "    <tr>\n",
       "      <th>...</th>\n",
       "      <td>...</td>\n",
       "      <td>...</td>\n",
       "    </tr>\n",
       "    <tr>\n",
       "      <th>1446</th>\n",
       "      <td>Knoydart</td>\n",
       "      <td>Knoydart</td>\n",
       "    </tr>\n",
       "    <tr>\n",
       "      <th>1447</th>\n",
       "      <td>FRESK-O</td>\n",
       "      <td>FRESK-O</td>\n",
       "    </tr>\n",
       "    <tr>\n",
       "      <th>1448</th>\n",
       "      <td>Electric Blue</td>\n",
       "      <td>Electric Blue</td>\n",
       "    </tr>\n",
       "    <tr>\n",
       "      <th>1449</th>\n",
       "      <td>Hip Hop</td>\n",
       "      <td>Hip Hop</td>\n",
       "    </tr>\n",
       "    <tr>\n",
       "      <th>1450</th>\n",
       "      <td>Super Fresh Cheese Curds</td>\n",
       "      <td>Super Fresh Cheese Curds</td>\n",
       "    </tr>\n",
       "  </tbody>\n",
       "</table>\n",
       "<p>1451 rows × 2 columns</p>\n",
       "</div>"
      ],
      "text/plain": [
       "                            CheeseNameEn                        CheeseNameFr\n",
       "0                                    NaN             Sieur de Duplessis (Le)\n",
       "1                                    NaN                 Tomme Le Champ Doré\n",
       "2     Provolone Sette Fette (Tre-Stelle)  Provolone Sette Fette (Tre-Stelle)\n",
       "3                                    NaN                      Geai Bleu (Le)\n",
       "4                                    NaN                          Gamin (Le)\n",
       "...                                  ...                                 ...\n",
       "1446                            Knoydart                            Knoydart\n",
       "1447                             FRESK-O                             FRESK-O\n",
       "1448                       Electric Blue                       Electric Blue\n",
       "1449                             Hip Hop                             Hip Hop\n",
       "1450            Super Fresh Cheese Curds            Super Fresh Cheese Curds\n",
       "\n",
       "[1451 rows x 2 columns]"
      ]
     },
     "execution_count": 1385,
     "metadata": {},
     "output_type": "execute_result"
    }
   ],
   "source": [
    "canadian_cheese_other_columns_2"
   ]
  },
  {
   "cell_type": "code",
   "execution_count": 1386,
   "metadata": {},
   "outputs": [
    {
     "data": {
      "text/plain": [
       "CheeseNameEn    867\n",
       "CheeseNameFr    368\n",
       "dtype: int64"
      ]
     },
     "execution_count": 1386,
     "metadata": {},
     "output_type": "execute_result"
    }
   ],
   "source": [
    "canadian_cheese_other_columns_2[['CheeseNameEn', 'CheeseNameFr']].isnull().sum()"
   ]
  },
  {
   "cell_type": "markdown",
   "metadata": {},
   "source": [
    "These Columns contianing Significant number of the null values and also do not relate to our target variable, so let us drop them"
   ]
  },
  {
   "cell_type": "code",
   "execution_count": 1387,
   "metadata": {},
   "outputs": [],
   "source": [
    "canadian_cheese_rev_2=canadian_cheese_rev_1.drop(columns =['CheeseNameEn','CheeseNameFr','RindTypeEn'])"
   ]
  },
  {
   "cell_type": "markdown",
   "metadata": {},
   "source": [
    "Let us look at the Data Frame after these column drops"
   ]
  },
  {
   "cell_type": "code",
   "execution_count": 1388,
   "metadata": {},
   "outputs": [
    {
     "name": "stdout",
     "output_type": "stream",
     "text": [
      "<class 'pandas.core.frame.DataFrame'>\n",
      "RangeIndex: 1451 entries, 0 to 1450\n",
      "Data columns (total 24 columns):\n",
      " #   Column                Non-Null Count  Dtype  \n",
      "---  ------                --------------  -----  \n",
      " 0   CheeseId              1451 non-null   int64  \n",
      " 1   ManufacturerNameEn    680 non-null    object \n",
      " 2   ManufacturerNameFr    964 non-null    object \n",
      " 3   ManufacturerProvCode  1451 non-null   object \n",
      " 4   ManufacturingTypeEn   1451 non-null   object \n",
      " 5   ManufacturingTypeFr   1451 non-null   object \n",
      " 6   FatContentPercent     1042 non-null   float64\n",
      " 7   MoisturePercent       1031 non-null   float64\n",
      " 8   ParticularitiesEn     505 non-null    object \n",
      " 9   ParticularitiesFr     504 non-null    object \n",
      " 10  FlavourEn             945 non-null    object \n",
      " 11  FlavourFr             942 non-null    object \n",
      " 12  CharacteristicsEn     762 non-null    object \n",
      " 13  CharacteristicsFr     760 non-null    object \n",
      " 14  RipeningEn            742 non-null    object \n",
      " 15  RipeningFr            740 non-null    object \n",
      " 16  Organic               1451 non-null   int64  \n",
      " 17  CategoryTypeEn        1307 non-null   object \n",
      " 18  CategoryTypeFr        1307 non-null   object \n",
      " 19  MilkTypeEn            1430 non-null   object \n",
      " 20  MilkTypeFr            1430 non-null   object \n",
      " 21  MilkTreatmentTypeEn   1236 non-null   object \n",
      " 22  MilkTreatmentTypeFr   1236 non-null   object \n",
      " 23  RindTypeFr            857 non-null    object \n",
      "dtypes: float64(2), int64(2), object(20)\n",
      "memory usage: 272.2+ KB\n"
     ]
    }
   ],
   "source": [
    "canadian_cheese_rev_2.info()"
   ]
  },
  {
   "cell_type": "markdown",
   "metadata": {},
   "source": [
    "\n"
   ]
  },
  {
   "cell_type": "markdown",
   "metadata": {},
   "source": [
    "Let us import the other csv file provided as a part of this Data Set and look at the Data"
   ]
  },
  {
   "cell_type": "code",
   "execution_count": 1389,
   "metadata": {},
   "outputs": [],
   "source": [
    "cheese_data = pd.read_csv (\"data/cheese_data.csv\")"
   ]
  },
  {
   "cell_type": "code",
   "execution_count": 1390,
   "metadata": {},
   "outputs": [
    {
     "data": {
      "text/html": [
       "<div>\n",
       "<style scoped>\n",
       "    .dataframe tbody tr th:only-of-type {\n",
       "        vertical-align: middle;\n",
       "    }\n",
       "\n",
       "    .dataframe tbody tr th {\n",
       "        vertical-align: top;\n",
       "    }\n",
       "\n",
       "    .dataframe thead th {\n",
       "        text-align: right;\n",
       "    }\n",
       "</style>\n",
       "<table border=\"1\" class=\"dataframe\">\n",
       "  <thead>\n",
       "    <tr style=\"text-align: right;\">\n",
       "      <th></th>\n",
       "      <th>CheeseId</th>\n",
       "      <th>ManufacturerProvCode</th>\n",
       "      <th>ManufacturingTypeEn</th>\n",
       "      <th>MoisturePercent</th>\n",
       "      <th>FlavourEn</th>\n",
       "      <th>CharacteristicsEn</th>\n",
       "      <th>Organic</th>\n",
       "      <th>CategoryTypeEn</th>\n",
       "      <th>MilkTypeEn</th>\n",
       "      <th>MilkTreatmentTypeEn</th>\n",
       "      <th>RindTypeEn</th>\n",
       "      <th>CheeseName</th>\n",
       "      <th>FatLevel</th>\n",
       "    </tr>\n",
       "  </thead>\n",
       "  <tbody>\n",
       "    <tr>\n",
       "      <th>0</th>\n",
       "      <td>228</td>\n",
       "      <td>NB</td>\n",
       "      <td>Farmstead</td>\n",
       "      <td>47.0</td>\n",
       "      <td>Sharp, lactic</td>\n",
       "      <td>Uncooked</td>\n",
       "      <td>0</td>\n",
       "      <td>Firm Cheese</td>\n",
       "      <td>Ewe</td>\n",
       "      <td>Raw Milk</td>\n",
       "      <td>Washed Rind</td>\n",
       "      <td>Sieur de Duplessis (Le)</td>\n",
       "      <td>lower fat</td>\n",
       "    </tr>\n",
       "    <tr>\n",
       "      <th>1</th>\n",
       "      <td>242</td>\n",
       "      <td>NB</td>\n",
       "      <td>Farmstead</td>\n",
       "      <td>47.9</td>\n",
       "      <td>Sharp, lactic, lightly caramelized</td>\n",
       "      <td>Uncooked</td>\n",
       "      <td>0</td>\n",
       "      <td>Semi-soft Cheese</td>\n",
       "      <td>Cow</td>\n",
       "      <td>Raw Milk</td>\n",
       "      <td>Washed Rind</td>\n",
       "      <td>Tomme Le Champ Doré</td>\n",
       "      <td>lower fat</td>\n",
       "    </tr>\n",
       "  </tbody>\n",
       "</table>\n",
       "</div>"
      ],
      "text/plain": [
       "   CheeseId ManufacturerProvCode ManufacturingTypeEn  MoisturePercent  \\\n",
       "0       228                   NB           Farmstead             47.0   \n",
       "1       242                   NB           Farmstead             47.9   \n",
       "\n",
       "                            FlavourEn CharacteristicsEn  Organic  \\\n",
       "0                       Sharp, lactic          Uncooked        0   \n",
       "1  Sharp, lactic, lightly caramelized          Uncooked        0   \n",
       "\n",
       "     CategoryTypeEn MilkTypeEn MilkTreatmentTypeEn   RindTypeEn  \\\n",
       "0       Firm Cheese        Ewe            Raw Milk  Washed Rind   \n",
       "1  Semi-soft Cheese        Cow            Raw Milk  Washed Rind   \n",
       "\n",
       "                CheeseName   FatLevel  \n",
       "0  Sieur de Duplessis (Le)  lower fat  \n",
       "1      Tomme Le Champ Doré  lower fat  "
      ]
     },
     "execution_count": 1390,
     "metadata": {},
     "output_type": "execute_result"
    }
   ],
   "source": [
    "cheese_data.head(2)"
   ]
  },
  {
   "cell_type": "code",
   "execution_count": 1391,
   "metadata": {},
   "outputs": [
    {
     "name": "stdout",
     "output_type": "stream",
     "text": [
      "<class 'pandas.core.frame.DataFrame'>\n",
      "RangeIndex: 1042 entries, 0 to 1041\n",
      "Data columns (total 13 columns):\n",
      " #   Column                Non-Null Count  Dtype  \n",
      "---  ------                --------------  -----  \n",
      " 0   CheeseId              1042 non-null   int64  \n",
      " 1   ManufacturerProvCode  1042 non-null   object \n",
      " 2   ManufacturingTypeEn   1042 non-null   object \n",
      " 3   MoisturePercent       1028 non-null   float64\n",
      " 4   FlavourEn             801 non-null    object \n",
      " 5   CharacteristicsEn     643 non-null    object \n",
      " 6   Organic               1042 non-null   int64  \n",
      " 7   CategoryTypeEn        1019 non-null   object \n",
      " 8   MilkTypeEn            1041 non-null   object \n",
      " 9   MilkTreatmentTypeEn   977 non-null    object \n",
      " 10  RindTypeEn            721 non-null    object \n",
      " 11  CheeseName            1042 non-null   object \n",
      " 12  FatLevel              1042 non-null   object \n",
      "dtypes: float64(1), int64(2), object(10)\n",
      "memory usage: 106.0+ KB\n"
     ]
    }
   ],
   "source": [
    "cheese_data.info()"
   ]
  },
  {
   "cell_type": "markdown",
   "metadata": {},
   "source": [
    "As many of the columns contained in this data frame is same as the cheese data Data Frame,let us look at the columns which are present only in this data frame and which are of interest to us with regard to our prediction"
   ]
  },
  {
   "cell_type": "code",
   "execution_count": 1392,
   "metadata": {},
   "outputs": [
    {
     "data": {
      "text/plain": [
       "Index(['CheeseName', 'FatLevel', 'RindTypeEn'], dtype='object')"
      ]
     },
     "execution_count": 1392,
     "metadata": {},
     "output_type": "execute_result"
    }
   ],
   "source": [
    "cols_to_use = cheese_data.columns.difference(canadian_cheese_rev_2.columns)\n",
    "cols_to_use"
   ]
  },
  {
   "cell_type": "code",
   "execution_count": 1393,
   "metadata": {},
   "outputs": [
    {
     "data": {
      "text/html": [
       "<div>\n",
       "<style scoped>\n",
       "    .dataframe tbody tr th:only-of-type {\n",
       "        vertical-align: middle;\n",
       "    }\n",
       "\n",
       "    .dataframe tbody tr th {\n",
       "        vertical-align: top;\n",
       "    }\n",
       "\n",
       "    .dataframe thead th {\n",
       "        text-align: right;\n",
       "    }\n",
       "</style>\n",
       "<table border=\"1\" class=\"dataframe\">\n",
       "  <thead>\n",
       "    <tr style=\"text-align: right;\">\n",
       "      <th></th>\n",
       "      <th>CheeseId</th>\n",
       "      <th>CheeseName</th>\n",
       "      <th>FatLevel</th>\n",
       "    </tr>\n",
       "  </thead>\n",
       "  <tbody>\n",
       "    <tr>\n",
       "      <th>0</th>\n",
       "      <td>228</td>\n",
       "      <td>Sieur de Duplessis (Le)</td>\n",
       "      <td>lower fat</td>\n",
       "    </tr>\n",
       "    <tr>\n",
       "      <th>1</th>\n",
       "      <td>242</td>\n",
       "      <td>Tomme Le Champ Doré</td>\n",
       "      <td>lower fat</td>\n",
       "    </tr>\n",
       "    <tr>\n",
       "      <th>2</th>\n",
       "      <td>301</td>\n",
       "      <td>Provolone Sette Fette (Tre-Stelle)</td>\n",
       "      <td>lower fat</td>\n",
       "    </tr>\n",
       "    <tr>\n",
       "      <th>3</th>\n",
       "      <td>303</td>\n",
       "      <td>Geai Bleu (Le)</td>\n",
       "      <td>lower fat</td>\n",
       "    </tr>\n",
       "    <tr>\n",
       "      <th>4</th>\n",
       "      <td>319</td>\n",
       "      <td>Gamin (Le)</td>\n",
       "      <td>lower fat</td>\n",
       "    </tr>\n",
       "    <tr>\n",
       "      <th>...</th>\n",
       "      <td>...</td>\n",
       "      <td>...</td>\n",
       "      <td>...</td>\n",
       "    </tr>\n",
       "    <tr>\n",
       "      <th>1037</th>\n",
       "      <td>2387</td>\n",
       "      <td>Knoydart</td>\n",
       "      <td>higher fat</td>\n",
       "    </tr>\n",
       "    <tr>\n",
       "      <th>1038</th>\n",
       "      <td>2388</td>\n",
       "      <td>FRESK-O</td>\n",
       "      <td>lower fat</td>\n",
       "    </tr>\n",
       "    <tr>\n",
       "      <th>1039</th>\n",
       "      <td>2389</td>\n",
       "      <td>Electric Blue</td>\n",
       "      <td>higher fat</td>\n",
       "    </tr>\n",
       "    <tr>\n",
       "      <th>1040</th>\n",
       "      <td>2390</td>\n",
       "      <td>Hip Hop</td>\n",
       "      <td>higher fat</td>\n",
       "    </tr>\n",
       "    <tr>\n",
       "      <th>1041</th>\n",
       "      <td>2391</td>\n",
       "      <td>Super Fresh Cheese Curds</td>\n",
       "      <td>higher fat</td>\n",
       "    </tr>\n",
       "  </tbody>\n",
       "</table>\n",
       "<p>1042 rows × 3 columns</p>\n",
       "</div>"
      ],
      "text/plain": [
       "      CheeseId                          CheeseName    FatLevel\n",
       "0          228             Sieur de Duplessis (Le)   lower fat\n",
       "1          242                 Tomme Le Champ Doré   lower fat\n",
       "2          301  Provolone Sette Fette (Tre-Stelle)   lower fat\n",
       "3          303                      Geai Bleu (Le)   lower fat\n",
       "4          319                          Gamin (Le)   lower fat\n",
       "...        ...                                 ...         ...\n",
       "1037      2387                            Knoydart  higher fat\n",
       "1038      2388                             FRESK-O   lower fat\n",
       "1039      2389                       Electric Blue  higher fat\n",
       "1040      2390                             Hip Hop  higher fat\n",
       "1041      2391            Super Fresh Cheese Curds  higher fat\n",
       "\n",
       "[1042 rows x 3 columns]"
      ]
     },
     "execution_count": 1393,
     "metadata": {},
     "output_type": "execute_result"
    }
   ],
   "source": [
    "cheese_data_rev_1= cheese_data[['CheeseId','CheeseName','FatLevel']]\n",
    "cheese_data_rev_1"
   ]
  },
  {
   "cell_type": "markdown",
   "metadata": {},
   "source": [
    "let us merge the data so we are using the relevant information contained in both tables for our prediction"
   ]
  },
  {
   "cell_type": "code",
   "execution_count": 1394,
   "metadata": {},
   "outputs": [
    {
     "data": {
      "text/html": [
       "<div>\n",
       "<style scoped>\n",
       "    .dataframe tbody tr th:only-of-type {\n",
       "        vertical-align: middle;\n",
       "    }\n",
       "\n",
       "    .dataframe tbody tr th {\n",
       "        vertical-align: top;\n",
       "    }\n",
       "\n",
       "    .dataframe thead th {\n",
       "        text-align: right;\n",
       "    }\n",
       "</style>\n",
       "<table border=\"1\" class=\"dataframe\">\n",
       "  <thead>\n",
       "    <tr style=\"text-align: right;\">\n",
       "      <th></th>\n",
       "      <th>CheeseId</th>\n",
       "      <th>ManufacturerNameEn</th>\n",
       "      <th>ManufacturerNameFr</th>\n",
       "      <th>ManufacturerProvCode</th>\n",
       "      <th>ManufacturingTypeEn</th>\n",
       "      <th>ManufacturingTypeFr</th>\n",
       "      <th>FatContentPercent</th>\n",
       "      <th>MoisturePercent</th>\n",
       "      <th>ParticularitiesEn</th>\n",
       "      <th>ParticularitiesFr</th>\n",
       "      <th>...</th>\n",
       "      <th>Organic</th>\n",
       "      <th>CategoryTypeEn</th>\n",
       "      <th>CategoryTypeFr</th>\n",
       "      <th>MilkTypeEn</th>\n",
       "      <th>MilkTypeFr</th>\n",
       "      <th>MilkTreatmentTypeEn</th>\n",
       "      <th>MilkTreatmentTypeFr</th>\n",
       "      <th>RindTypeFr</th>\n",
       "      <th>CheeseName</th>\n",
       "      <th>FatLevel</th>\n",
       "    </tr>\n",
       "  </thead>\n",
       "  <tbody>\n",
       "    <tr>\n",
       "      <th>0</th>\n",
       "      <td>228</td>\n",
       "      <td>NaN</td>\n",
       "      <td>Fromages la faim de loup</td>\n",
       "      <td>NB</td>\n",
       "      <td>Farmstead</td>\n",
       "      <td>Fermière</td>\n",
       "      <td>24.2</td>\n",
       "      <td>47.0</td>\n",
       "      <td>NaN</td>\n",
       "      <td>NaN</td>\n",
       "      <td>...</td>\n",
       "      <td>0</td>\n",
       "      <td>Firm Cheese</td>\n",
       "      <td>Pâte ferme</td>\n",
       "      <td>Ewe</td>\n",
       "      <td>Brebis</td>\n",
       "      <td>Raw Milk</td>\n",
       "      <td>Lait cru</td>\n",
       "      <td>Croûte lavée</td>\n",
       "      <td>Sieur de Duplessis (Le)</td>\n",
       "      <td>lower fat</td>\n",
       "    </tr>\n",
       "    <tr>\n",
       "      <th>1</th>\n",
       "      <td>242</td>\n",
       "      <td>NaN</td>\n",
       "      <td>Fromages la faim de loup</td>\n",
       "      <td>NB</td>\n",
       "      <td>Farmstead</td>\n",
       "      <td>Fermière</td>\n",
       "      <td>24.2</td>\n",
       "      <td>47.9</td>\n",
       "      <td>NaN</td>\n",
       "      <td>NaN</td>\n",
       "      <td>...</td>\n",
       "      <td>0</td>\n",
       "      <td>Semi-soft Cheese</td>\n",
       "      <td>Pâte demi-ferme</td>\n",
       "      <td>Cow</td>\n",
       "      <td>Vache</td>\n",
       "      <td>Raw Milk</td>\n",
       "      <td>Lait cru</td>\n",
       "      <td>Croûte lavée</td>\n",
       "      <td>Tomme Le Champ Doré</td>\n",
       "      <td>lower fat</td>\n",
       "    </tr>\n",
       "  </tbody>\n",
       "</table>\n",
       "<p>2 rows × 26 columns</p>\n",
       "</div>"
      ],
      "text/plain": [
       "   CheeseId ManufacturerNameEn        ManufacturerNameFr ManufacturerProvCode  \\\n",
       "0       228                NaN  Fromages la faim de loup                   NB   \n",
       "1       242                NaN  Fromages la faim de loup                   NB   \n",
       "\n",
       "  ManufacturingTypeEn ManufacturingTypeFr  FatContentPercent  MoisturePercent  \\\n",
       "0           Farmstead            Fermière               24.2             47.0   \n",
       "1           Farmstead            Fermière               24.2             47.9   \n",
       "\n",
       "  ParticularitiesEn ParticularitiesFr  ... Organic    CategoryTypeEn  \\\n",
       "0               NaN               NaN  ...       0       Firm Cheese   \n",
       "1               NaN               NaN  ...       0  Semi-soft Cheese   \n",
       "\n",
       "    CategoryTypeFr MilkTypeEn MilkTypeFr MilkTreatmentTypeEn  \\\n",
       "0       Pâte ferme        Ewe     Brebis            Raw Milk   \n",
       "1  Pâte demi-ferme        Cow      Vache            Raw Milk   \n",
       "\n",
       "   MilkTreatmentTypeFr    RindTypeFr               CheeseName   FatLevel  \n",
       "0             Lait cru  Croûte lavée  Sieur de Duplessis (Le)  lower fat  \n",
       "1             Lait cru  Croûte lavée      Tomme Le Champ Doré  lower fat  \n",
       "\n",
       "[2 rows x 26 columns]"
      ]
     },
     "execution_count": 1394,
     "metadata": {},
     "output_type": "execute_result"
    }
   ],
   "source": [
    "merged_df = canadian_cheese_rev_2.merge(cheese_data_rev_1,how ='outer', on ='CheeseId')\n",
    "merged_df.head(2)"
   ]
  },
  {
   "cell_type": "code",
   "execution_count": 1395,
   "metadata": {},
   "outputs": [
    {
     "data": {
      "text/plain": [
       "Index(['CheeseId', 'ManufacturerNameEn', 'ManufacturerNameFr',\n",
       "       'ManufacturerProvCode', 'ManufacturingTypeEn', 'ManufacturingTypeFr',\n",
       "       'FatContentPercent', 'MoisturePercent', 'ParticularitiesEn',\n",
       "       'ParticularitiesFr', 'FlavourEn', 'FlavourFr', 'CharacteristicsEn',\n",
       "       'CharacteristicsFr', 'RipeningEn', 'RipeningFr', 'Organic',\n",
       "       'CategoryTypeEn', 'CategoryTypeFr', 'MilkTypeEn', 'MilkTypeFr',\n",
       "       'MilkTreatmentTypeEn', 'MilkTreatmentTypeFr', 'RindTypeFr',\n",
       "       'CheeseName', 'FatLevel'],\n",
       "      dtype='object')"
      ]
     },
     "execution_count": 1395,
     "metadata": {},
     "output_type": "execute_result"
    }
   ],
   "source": [
    "merged_df.columns"
   ]
  },
  {
   "cell_type": "code",
   "execution_count": 1396,
   "metadata": {},
   "outputs": [
    {
     "name": "stdout",
     "output_type": "stream",
     "text": [
      "<class 'pandas.core.frame.DataFrame'>\n",
      "Int64Index: 1451 entries, 0 to 1450\n",
      "Data columns (total 26 columns):\n",
      " #   Column                Non-Null Count  Dtype  \n",
      "---  ------                --------------  -----  \n",
      " 0   CheeseId              1451 non-null   int64  \n",
      " 1   ManufacturerNameEn    680 non-null    object \n",
      " 2   ManufacturerNameFr    964 non-null    object \n",
      " 3   ManufacturerProvCode  1451 non-null   object \n",
      " 4   ManufacturingTypeEn   1451 non-null   object \n",
      " 5   ManufacturingTypeFr   1451 non-null   object \n",
      " 6   FatContentPercent     1042 non-null   float64\n",
      " 7   MoisturePercent       1031 non-null   float64\n",
      " 8   ParticularitiesEn     505 non-null    object \n",
      " 9   ParticularitiesFr     504 non-null    object \n",
      " 10  FlavourEn             945 non-null    object \n",
      " 11  FlavourFr             942 non-null    object \n",
      " 12  CharacteristicsEn     762 non-null    object \n",
      " 13  CharacteristicsFr     760 non-null    object \n",
      " 14  RipeningEn            742 non-null    object \n",
      " 15  RipeningFr            740 non-null    object \n",
      " 16  Organic               1451 non-null   int64  \n",
      " 17  CategoryTypeEn        1307 non-null   object \n",
      " 18  CategoryTypeFr        1307 non-null   object \n",
      " 19  MilkTypeEn            1430 non-null   object \n",
      " 20  MilkTypeFr            1430 non-null   object \n",
      " 21  MilkTreatmentTypeEn   1236 non-null   object \n",
      " 22  MilkTreatmentTypeFr   1236 non-null   object \n",
      " 23  RindTypeFr            857 non-null    object \n",
      " 24  CheeseName            1042 non-null   object \n",
      " 25  FatLevel              1042 non-null   object \n",
      "dtypes: float64(2), int64(2), object(22)\n",
      "memory usage: 306.1+ KB\n"
     ]
    }
   ],
   "source": [
    "merged_df.info()"
   ]
  },
  {
   "cell_type": "markdown",
   "metadata": {},
   "source": [
    "As Fat level is a  binary column, it is of interest to us and may be what we want to predict- Should we built \n",
    "a classifier for predicting Fat level?"
   ]
  },
  {
   "cell_type": "code",
   "execution_count": 1397,
   "metadata": {},
   "outputs": [],
   "source": [
    "merged_df_fat_pct_level = merged_df[['CheeseId','FatContentPercent','FatLevel']]"
   ]
  },
  {
   "cell_type": "code",
   "execution_count": 1398,
   "metadata": {},
   "outputs": [
    {
     "name": "stdout",
     "output_type": "stream",
     "text": [
      "<class 'pandas.core.frame.DataFrame'>\n",
      "Int64Index: 1451 entries, 0 to 1450\n",
      "Data columns (total 3 columns):\n",
      " #   Column             Non-Null Count  Dtype  \n",
      "---  ------             --------------  -----  \n",
      " 0   CheeseId           1451 non-null   int64  \n",
      " 1   FatContentPercent  1042 non-null   float64\n",
      " 2   FatLevel           1042 non-null   object \n",
      "dtypes: float64(1), int64(1), object(1)\n",
      "memory usage: 45.3+ KB\n"
     ]
    }
   ],
   "source": [
    "merged_df_fat_pct_level.info()"
   ]
  },
  {
   "cell_type": "code",
   "execution_count": 1399,
   "metadata": {},
   "outputs": [
    {
     "data": {
      "text/html": [
       "<div>\n",
       "<style scoped>\n",
       "    .dataframe tbody tr th:only-of-type {\n",
       "        vertical-align: middle;\n",
       "    }\n",
       "\n",
       "    .dataframe tbody tr th {\n",
       "        vertical-align: top;\n",
       "    }\n",
       "\n",
       "    .dataframe thead th {\n",
       "        text-align: right;\n",
       "    }\n",
       "</style>\n",
       "<table border=\"1\" class=\"dataframe\">\n",
       "  <thead>\n",
       "    <tr style=\"text-align: right;\">\n",
       "      <th></th>\n",
       "      <th>CheeseId</th>\n",
       "      <th>FatContentPercent</th>\n",
       "      <th>FatLevel</th>\n",
       "    </tr>\n",
       "  </thead>\n",
       "  <tbody>\n",
       "    <tr>\n",
       "      <th>0</th>\n",
       "      <td>228</td>\n",
       "      <td>24.2</td>\n",
       "      <td>lower fat</td>\n",
       "    </tr>\n",
       "    <tr>\n",
       "      <th>1</th>\n",
       "      <td>242</td>\n",
       "      <td>24.2</td>\n",
       "      <td>lower fat</td>\n",
       "    </tr>\n",
       "    <tr>\n",
       "      <th>2</th>\n",
       "      <td>301</td>\n",
       "      <td>24.0</td>\n",
       "      <td>lower fat</td>\n",
       "    </tr>\n",
       "    <tr>\n",
       "      <th>3</th>\n",
       "      <td>303</td>\n",
       "      <td>29.0</td>\n",
       "      <td>lower fat</td>\n",
       "    </tr>\n",
       "    <tr>\n",
       "      <th>4</th>\n",
       "      <td>319</td>\n",
       "      <td>24.6</td>\n",
       "      <td>lower fat</td>\n",
       "    </tr>\n",
       "    <tr>\n",
       "      <th>...</th>\n",
       "      <td>...</td>\n",
       "      <td>...</td>\n",
       "      <td>...</td>\n",
       "    </tr>\n",
       "    <tr>\n",
       "      <th>1446</th>\n",
       "      <td>2387</td>\n",
       "      <td>36.0</td>\n",
       "      <td>higher fat</td>\n",
       "    </tr>\n",
       "    <tr>\n",
       "      <th>1447</th>\n",
       "      <td>2388</td>\n",
       "      <td>25.0</td>\n",
       "      <td>lower fat</td>\n",
       "    </tr>\n",
       "    <tr>\n",
       "      <th>1448</th>\n",
       "      <td>2389</td>\n",
       "      <td>34.0</td>\n",
       "      <td>higher fat</td>\n",
       "    </tr>\n",
       "    <tr>\n",
       "      <th>1449</th>\n",
       "      <td>2390</td>\n",
       "      <td>40.0</td>\n",
       "      <td>higher fat</td>\n",
       "    </tr>\n",
       "    <tr>\n",
       "      <th>1450</th>\n",
       "      <td>2391</td>\n",
       "      <td>43.3</td>\n",
       "      <td>higher fat</td>\n",
       "    </tr>\n",
       "  </tbody>\n",
       "</table>\n",
       "<p>1042 rows × 3 columns</p>\n",
       "</div>"
      ],
      "text/plain": [
       "      CheeseId  FatContentPercent    FatLevel\n",
       "0          228               24.2   lower fat\n",
       "1          242               24.2   lower fat\n",
       "2          301               24.0   lower fat\n",
       "3          303               29.0   lower fat\n",
       "4          319               24.6   lower fat\n",
       "...        ...                ...         ...\n",
       "1446      2387               36.0  higher fat\n",
       "1447      2388               25.0   lower fat\n",
       "1448      2389               34.0  higher fat\n",
       "1449      2390               40.0  higher fat\n",
       "1450      2391               43.3  higher fat\n",
       "\n",
       "[1042 rows x 3 columns]"
      ]
     },
     "execution_count": 1399,
     "metadata": {},
     "output_type": "execute_result"
    }
   ],
   "source": [
    "merged_df_fat_pct_level.dropna( )"
   ]
  },
  {
   "cell_type": "code",
   "execution_count": 1400,
   "metadata": {},
   "outputs": [
    {
     "data": {
      "text/plain": [
       "<AxesSubplot:ylabel='Frequency'>"
      ]
     },
     "execution_count": 1400,
     "metadata": {},
     "output_type": "execute_result"
    },
    {
     "data": {
      "image/png": "[encoded data removed]",
      "text/plain": [
       "<Figure size 432x288 with 1 Axes>"
      ]
     },
     "metadata": {
      "needs_background": "light"
     },
     "output_type": "display_data"
    }
   ],
   "source": [
    "merged_df_fat_pct_level.pivot(columns = 'FatLevel' , values = 'FatContentPercent', index = 'CheeseId').plot.hist()"
   ]
  },
  {
   "cell_type": "code",
   "execution_count": 1401,
   "metadata": {},
   "outputs": [
    {
     "data": {
      "text/html": [
       "<div>\n",
       "<style scoped>\n",
       "    .dataframe tbody tr th:only-of-type {\n",
       "        vertical-align: middle;\n",
       "    }\n",
       "\n",
       "    .dataframe tbody tr th {\n",
       "        vertical-align: top;\n",
       "    }\n",
       "\n",
       "    .dataframe thead th {\n",
       "        text-align: right;\n",
       "    }\n",
       "</style>\n",
       "<table border=\"1\" class=\"dataframe\">\n",
       "  <thead>\n",
       "    <tr style=\"text-align: right;\">\n",
       "      <th></th>\n",
       "      <th>CheeseId</th>\n",
       "      <th>FatContentPercent</th>\n",
       "      <th>FatLevel</th>\n",
       "    </tr>\n",
       "  </thead>\n",
       "  <tbody>\n",
       "    <tr>\n",
       "      <th>0</th>\n",
       "      <td>228</td>\n",
       "      <td>24.2</td>\n",
       "      <td>lower fat</td>\n",
       "    </tr>\n",
       "    <tr>\n",
       "      <th>1</th>\n",
       "      <td>242</td>\n",
       "      <td>24.2</td>\n",
       "      <td>lower fat</td>\n",
       "    </tr>\n",
       "    <tr>\n",
       "      <th>2</th>\n",
       "      <td>301</td>\n",
       "      <td>24.0</td>\n",
       "      <td>lower fat</td>\n",
       "    </tr>\n",
       "    <tr>\n",
       "      <th>3</th>\n",
       "      <td>303</td>\n",
       "      <td>29.0</td>\n",
       "      <td>lower fat</td>\n",
       "    </tr>\n",
       "    <tr>\n",
       "      <th>4</th>\n",
       "      <td>319</td>\n",
       "      <td>24.6</td>\n",
       "      <td>lower fat</td>\n",
       "    </tr>\n",
       "    <tr>\n",
       "      <th>...</th>\n",
       "      <td>...</td>\n",
       "      <td>...</td>\n",
       "      <td>...</td>\n",
       "    </tr>\n",
       "    <tr>\n",
       "      <th>1442</th>\n",
       "      <td>2383</td>\n",
       "      <td>24.0</td>\n",
       "      <td>lower fat</td>\n",
       "    </tr>\n",
       "    <tr>\n",
       "      <th>1443</th>\n",
       "      <td>2384</td>\n",
       "      <td>24.0</td>\n",
       "      <td>lower fat</td>\n",
       "    </tr>\n",
       "    <tr>\n",
       "      <th>1444</th>\n",
       "      <td>2385</td>\n",
       "      <td>24.0</td>\n",
       "      <td>lower fat</td>\n",
       "    </tr>\n",
       "    <tr>\n",
       "      <th>1445</th>\n",
       "      <td>2386</td>\n",
       "      <td>24.0</td>\n",
       "      <td>lower fat</td>\n",
       "    </tr>\n",
       "    <tr>\n",
       "      <th>1447</th>\n",
       "      <td>2388</td>\n",
       "      <td>25.0</td>\n",
       "      <td>lower fat</td>\n",
       "    </tr>\n",
       "  </tbody>\n",
       "</table>\n",
       "<p>684 rows × 3 columns</p>\n",
       "</div>"
      ],
      "text/plain": [
       "      CheeseId  FatContentPercent   FatLevel\n",
       "0          228               24.2  lower fat\n",
       "1          242               24.2  lower fat\n",
       "2          301               24.0  lower fat\n",
       "3          303               29.0  lower fat\n",
       "4          319               24.6  lower fat\n",
       "...        ...                ...        ...\n",
       "1442      2383               24.0  lower fat\n",
       "1443      2384               24.0  lower fat\n",
       "1444      2385               24.0  lower fat\n",
       "1445      2386               24.0  lower fat\n",
       "1447      2388               25.0  lower fat\n",
       "\n",
       "[684 rows x 3 columns]"
      ]
     },
     "execution_count": 1401,
     "metadata": {},
     "output_type": "execute_result"
    }
   ],
   "source": [
    "low = merged_df_fat_pct_level[merged_df_fat_pct_level['FatLevel'] == 'lower fat']\n",
    "low"
   ]
  },
  {
   "cell_type": "code",
   "execution_count": 1402,
   "metadata": {},
   "outputs": [
    {
     "data": {
      "text/plain": [
       "(array([  2.,  10.,   8.,  21.,   9.,  54.,  62.,  94., 201., 223.]),\n",
       " array([ 1. ,  3.8,  6.6,  9.4, 12.2, 15. , 17.8, 20.6, 23.4, 26.2, 29. ]),\n",
       " <BarContainer object of 10 artists>)"
      ]
     },
     "execution_count": 1402,
     "metadata": {},
     "output_type": "execute_result"
    },
    {
     "data": {
      "image/png": "[encoded data removed]",
      "text/plain": [
       "<Figure size 432x288 with 1 Axes>"
      ]
     },
     "metadata": {
      "needs_background": "light"
     },
     "output_type": "display_data"
    }
   ],
   "source": [
    "plt.hist(low.FatContentPercent)"
   ]
  },
  {
   "cell_type": "markdown",
   "metadata": {},
   "source": [
    "Importing the data in the Table cheese_data"
   ]
  },
  {
   "cell_type": "code",
   "execution_count": 1403,
   "metadata": {},
   "outputs": [
    {
     "data": {
      "text/html": [
       "<div>\n",
       "<style scoped>\n",
       "    .dataframe tbody tr th:only-of-type {\n",
       "        vertical-align: middle;\n",
       "    }\n",
       "\n",
       "    .dataframe tbody tr th {\n",
       "        vertical-align: top;\n",
       "    }\n",
       "\n",
       "    .dataframe thead th {\n",
       "        text-align: right;\n",
       "    }\n",
       "</style>\n",
       "<table border=\"1\" class=\"dataframe\">\n",
       "  <thead>\n",
       "    <tr style=\"text-align: right;\">\n",
       "      <th></th>\n",
       "      <th>CheeseId</th>\n",
       "      <th>FatContentPercent</th>\n",
       "      <th>FatLevel</th>\n",
       "    </tr>\n",
       "  </thead>\n",
       "  <tbody>\n",
       "    <tr>\n",
       "      <th>12</th>\n",
       "      <td>414</td>\n",
       "      <td>33.0</td>\n",
       "      <td>higher fat</td>\n",
       "    </tr>\n",
       "    <tr>\n",
       "      <th>13</th>\n",
       "      <td>415</td>\n",
       "      <td>33.0</td>\n",
       "      <td>higher fat</td>\n",
       "    </tr>\n",
       "    <tr>\n",
       "      <th>14</th>\n",
       "      <td>416</td>\n",
       "      <td>33.0</td>\n",
       "      <td>higher fat</td>\n",
       "    </tr>\n",
       "    <tr>\n",
       "      <th>15</th>\n",
       "      <td>417</td>\n",
       "      <td>31.0</td>\n",
       "      <td>higher fat</td>\n",
       "    </tr>\n",
       "    <tr>\n",
       "      <th>16</th>\n",
       "      <td>418</td>\n",
       "      <td>33.0</td>\n",
       "      <td>higher fat</td>\n",
       "    </tr>\n",
       "    <tr>\n",
       "      <th>...</th>\n",
       "      <td>...</td>\n",
       "      <td>...</td>\n",
       "      <td>...</td>\n",
       "    </tr>\n",
       "    <tr>\n",
       "      <th>1439</th>\n",
       "      <td>2380</td>\n",
       "      <td>35.0</td>\n",
       "      <td>higher fat</td>\n",
       "    </tr>\n",
       "    <tr>\n",
       "      <th>1446</th>\n",
       "      <td>2387</td>\n",
       "      <td>36.0</td>\n",
       "      <td>higher fat</td>\n",
       "    </tr>\n",
       "    <tr>\n",
       "      <th>1448</th>\n",
       "      <td>2389</td>\n",
       "      <td>34.0</td>\n",
       "      <td>higher fat</td>\n",
       "    </tr>\n",
       "    <tr>\n",
       "      <th>1449</th>\n",
       "      <td>2390</td>\n",
       "      <td>40.0</td>\n",
       "      <td>higher fat</td>\n",
       "    </tr>\n",
       "    <tr>\n",
       "      <th>1450</th>\n",
       "      <td>2391</td>\n",
       "      <td>43.3</td>\n",
       "      <td>higher fat</td>\n",
       "    </tr>\n",
       "  </tbody>\n",
       "</table>\n",
       "<p>358 rows × 3 columns</p>\n",
       "</div>"
      ],
      "text/plain": [
       "      CheeseId  FatContentPercent    FatLevel\n",
       "12         414               33.0  higher fat\n",
       "13         415               33.0  higher fat\n",
       "14         416               33.0  higher fat\n",
       "15         417               31.0  higher fat\n",
       "16         418               33.0  higher fat\n",
       "...        ...                ...         ...\n",
       "1439      2380               35.0  higher fat\n",
       "1446      2387               36.0  higher fat\n",
       "1448      2389               34.0  higher fat\n",
       "1449      2390               40.0  higher fat\n",
       "1450      2391               43.3  higher fat\n",
       "\n",
       "[358 rows x 3 columns]"
      ]
     },
     "execution_count": 1403,
     "metadata": {},
     "output_type": "execute_result"
    }
   ],
   "source": [
    "high = merged_df_fat_pct_level[merged_df_fat_pct_level['FatLevel'] == 'higher fat']\n",
    "high"
   ]
  },
  {
   "cell_type": "markdown",
   "metadata": {},
   "source": [
    "Let us look at the data in the Data Frame canadian_cheese"
   ]
  },
  {
   "cell_type": "code",
   "execution_count": 1404,
   "metadata": {},
   "outputs": [
    {
     "data": {
      "text/plain": [
       "(array([286.,  42.,  13.,   5.,   3.,   3.,   4.,   0.,   1.,   1.]),\n",
       " array([30. , 34.5, 39. , 43.5, 48. , 52.5, 57. , 61.5, 66. , 70.5, 75. ]),\n",
       " <BarContainer object of 10 artists>)"
      ]
     },
     "execution_count": 1404,
     "metadata": {},
     "output_type": "execute_result"
    },
    {
     "data": {
      "image/png": "[encoded data removed]",
      "text/plain": [
       "<Figure size 432x288 with 1 Axes>"
      ]
     },
     "metadata": {
      "needs_background": "light"
     },
     "output_type": "display_data"
    }
   ],
   "source": [
    "plt.hist(high.FatContentPercent)"
   ]
  },
  {
   "cell_type": "markdown",
   "metadata": {},
   "source": [
    "As indicated by the above histograms the Fat Level ( \"HIGH\" /\"LOW\") can be predicted based on the Fat Percent, there is a boundary at 30 percent, so any thing above 30 percent is High Level Fat and anything below 30 percent is low Fat. We therefore should not be needing machine learning to predict it."
   ]
  },
  {
   "cell_type": "markdown",
   "metadata": {},
   "source": [
    "Let us look at the Column Organic then , We will be predicting it instead and building our machine learning model accordingly"
   ]
  },
  {
   "cell_type": "code",
   "execution_count": 1405,
   "metadata": {},
   "outputs": [
    {
     "data": {
      "text/plain": [
       "0    1330\n",
       "1     121\n",
       "Name: Organic, dtype: int64"
      ]
     },
     "execution_count": 1405,
     "metadata": {},
     "output_type": "execute_result"
    }
   ],
   "source": [
    "merged_df.Organic.value_counts()"
   ]
  },
  {
   "cell_type": "code",
   "execution_count": 1406,
   "metadata": {},
   "outputs": [
    {
     "data": {
      "image/png": "[encoded data removed]",
      "text/plain": [
       "<Figure size 720x576 with 1 Axes>"
      ]
     },
     "metadata": {},
     "output_type": "display_data"
    }
   ],
   "source": [
    "pd.DataFrame(cheese_data.Organic.value_counts(normalize = True)).plot.pie(y = 'Organic', figsize = (10,8), ylabel = ' ')\n",
    "plt.show()"
   ]
  },
  {
   "cell_type": "markdown",
   "metadata": {},
   "source": [
    "Based on the above chart it is clear that we have un-balanced data in the Organic Column,we will be dealing with it accordingly when building our model"
   ]
  },
  {
   "cell_type": "markdown",
   "metadata": {},
   "source": [
    "** Correlation between numeric columns"
   ]
  },
  {
   "cell_type": "markdown",
   "metadata": {},
   "source": [
    "Let us create a coorelation matrix"
   ]
  },
  {
   "cell_type": "code",
   "execution_count": 1407,
   "metadata": {},
   "outputs": [
    {
     "data": {
      "text/html": [
       "<div>\n",
       "<style scoped>\n",
       "    .dataframe tbody tr th:only-of-type {\n",
       "        vertical-align: middle;\n",
       "    }\n",
       "\n",
       "    .dataframe tbody tr th {\n",
       "        vertical-align: top;\n",
       "    }\n",
       "\n",
       "    .dataframe thead th {\n",
       "        text-align: right;\n",
       "    }\n",
       "</style>\n",
       "<table border=\"1\" class=\"dataframe\">\n",
       "  <thead>\n",
       "    <tr style=\"text-align: right;\">\n",
       "      <th></th>\n",
       "      <th>CheeseId</th>\n",
       "      <th>FatContentPercent</th>\n",
       "      <th>MoisturePercent</th>\n",
       "      <th>Organic</th>\n",
       "    </tr>\n",
       "  </thead>\n",
       "  <tbody>\n",
       "    <tr>\n",
       "      <th>CheeseId</th>\n",
       "      <td>1.000000</td>\n",
       "      <td>0.006493</td>\n",
       "      <td>-0.011575</td>\n",
       "      <td>-0.032797</td>\n",
       "    </tr>\n",
       "    <tr>\n",
       "      <th>FatContentPercent</th>\n",
       "      <td>0.006493</td>\n",
       "      <td>1.000000</td>\n",
       "      <td>-0.690522</td>\n",
       "      <td>0.024411</td>\n",
       "    </tr>\n",
       "    <tr>\n",
       "      <th>MoisturePercent</th>\n",
       "      <td>-0.011575</td>\n",
       "      <td>-0.690522</td>\n",
       "      <td>1.000000</td>\n",
       "      <td>-0.113800</td>\n",
       "    </tr>\n",
       "    <tr>\n",
       "      <th>Organic</th>\n",
       "      <td>-0.032797</td>\n",
       "      <td>0.024411</td>\n",
       "      <td>-0.113800</td>\n",
       "      <td>1.000000</td>\n",
       "    </tr>\n",
       "  </tbody>\n",
       "</table>\n",
       "</div>"
      ],
      "text/plain": [
       "                   CheeseId  FatContentPercent  MoisturePercent   Organic\n",
       "CheeseId           1.000000           0.006493        -0.011575 -0.032797\n",
       "FatContentPercent  0.006493           1.000000        -0.690522  0.024411\n",
       "MoisturePercent   -0.011575          -0.690522         1.000000 -0.113800\n",
       "Organic           -0.032797           0.024411        -0.113800  1.000000"
      ]
     },
     "execution_count": 1407,
     "metadata": {},
     "output_type": "execute_result"
    }
   ],
   "source": [
    "merged_df.corr()"
   ]
  },
  {
   "cell_type": "markdown",
   "metadata": {},
   "source": [
    "Based on this matrix, it looks that MoisturePercent is more related to Organic then FatPerecent"
   ]
  },
  {
   "cell_type": "markdown",
   "metadata": {},
   "source": [
    "** Visual Represenatation of the Numeric Columns"
   ]
  },
  {
   "cell_type": "code",
   "execution_count": 1408,
   "metadata": {},
   "outputs": [
    {
     "data": {
      "text/plain": [
       "<AxesSubplot:ylabel='Frequency'>"
      ]
     },
     "execution_count": 1408,
     "metadata": {},
     "output_type": "execute_result"
    },
    {
     "data": {
      "image/png": "[encoded data removed]",
      "text/plain": [
       "<Figure size 432x288 with 1 Axes>"
      ]
     },
     "metadata": {
      "needs_background": "light"
     },
     "output_type": "display_data"
    }
   ],
   "source": [
    "merged_df.pivot(columns = 'Organic' , values = 'FatContentPercent', index = 'CheeseId').plot.hist()"
   ]
  },
  {
   "cell_type": "code",
   "execution_count": 1409,
   "metadata": {},
   "outputs": [
    {
     "data": {
      "text/plain": [
       "<AxesSubplot:ylabel='Frequency'>"
      ]
     },
     "execution_count": 1409,
     "metadata": {},
     "output_type": "execute_result"
    },
    {
     "data": {
      "image/png": "[encoded data removed]",
      "text/plain": [
       "<Figure size 432x288 with 1 Axes>"
      ]
     },
     "metadata": {
      "needs_background": "light"
     },
     "output_type": "display_data"
    }
   ],
   "source": [
    "merged_df.pivot(columns = 'Organic' , values = 'MoisturePercent', index = 'CheeseId').plot.hist()"
   ]
  },
  {
   "cell_type": "markdown",
   "metadata": {},
   "source": [
    "Based on the above histograms , there is a large overlap of data between the Classes 0 and 1 of the Data set"
   ]
  },
  {
   "cell_type": "markdown",
   "metadata": {},
   "source": [
    "** Visual Represenstation of the Categorical Data "
   ]
  },
  {
   "cell_type": "code",
   "execution_count": 1410,
   "metadata": {},
   "outputs": [
    {
     "data": {
      "text/html": [
       "<div>\n",
       "<style scoped>\n",
       "    .dataframe tbody tr th:only-of-type {\n",
       "        vertical-align: middle;\n",
       "    }\n",
       "\n",
       "    .dataframe tbody tr th {\n",
       "        vertical-align: top;\n",
       "    }\n",
       "\n",
       "    .dataframe thead th {\n",
       "        text-align: right;\n",
       "    }\n",
       "</style>\n",
       "<table border=\"1\" class=\"dataframe\">\n",
       "  <thead>\n",
       "    <tr style=\"text-align: right;\">\n",
       "      <th></th>\n",
       "      <th>ManufacturingTypeEn</th>\n",
       "      <th>Organic</th>\n",
       "      <th>CheeseId</th>\n",
       "    </tr>\n",
       "  </thead>\n",
       "  <tbody>\n",
       "    <tr>\n",
       "      <th>0</th>\n",
       "      <td>Artisan</td>\n",
       "      <td>0</td>\n",
       "      <td>504</td>\n",
       "    </tr>\n",
       "    <tr>\n",
       "      <th>1</th>\n",
       "      <td>Artisan</td>\n",
       "      <td>1</td>\n",
       "      <td>41</td>\n",
       "    </tr>\n",
       "    <tr>\n",
       "      <th>2</th>\n",
       "      <td>Farmstead</td>\n",
       "      <td>0</td>\n",
       "      <td>236</td>\n",
       "    </tr>\n",
       "    <tr>\n",
       "      <th>3</th>\n",
       "      <td>Farmstead</td>\n",
       "      <td>1</td>\n",
       "      <td>68</td>\n",
       "    </tr>\n",
       "    <tr>\n",
       "      <th>4</th>\n",
       "      <td>Industrial</td>\n",
       "      <td>0</td>\n",
       "      <td>590</td>\n",
       "    </tr>\n",
       "    <tr>\n",
       "      <th>5</th>\n",
       "      <td>Industrial</td>\n",
       "      <td>1</td>\n",
       "      <td>12</td>\n",
       "    </tr>\n",
       "  </tbody>\n",
       "</table>\n",
       "</div>"
      ],
      "text/plain": [
       "  ManufacturingTypeEn  Organic  CheeseId\n",
       "0             Artisan        0       504\n",
       "1             Artisan        1        41\n",
       "2           Farmstead        0       236\n",
       "3           Farmstead        1        68\n",
       "4          Industrial        0       590\n",
       "5          Industrial        1        12"
      ]
     },
     "execution_count": 1410,
     "metadata": {},
     "output_type": "execute_result"
    }
   ],
   "source": [
    "manuf_df = merged_df.groupby(['ManufacturingTypeEn','Organic'])[['CheeseId']].count().reset_index()\n",
    "manuf_df "
   ]
  },
  {
   "cell_type": "code",
   "execution_count": 1411,
   "metadata": {},
   "outputs": [],
   "source": [
    "manuf_df['total'] =manuf_df.groupby(['Organic'])['CheeseId'].transform(sum) "
   ]
  },
  {
   "cell_type": "code",
   "execution_count": 1412,
   "metadata": {},
   "outputs": [
    {
     "data": {
      "text/html": [
       "<div>\n",
       "<style scoped>\n",
       "    .dataframe tbody tr th:only-of-type {\n",
       "        vertical-align: middle;\n",
       "    }\n",
       "\n",
       "    .dataframe tbody tr th {\n",
       "        vertical-align: top;\n",
       "    }\n",
       "\n",
       "    .dataframe thead th {\n",
       "        text-align: right;\n",
       "    }\n",
       "</style>\n",
       "<table border=\"1\" class=\"dataframe\">\n",
       "  <thead>\n",
       "    <tr style=\"text-align: right;\">\n",
       "      <th></th>\n",
       "      <th>ManufacturingTypeEn</th>\n",
       "      <th>Organic</th>\n",
       "      <th>CheeseId</th>\n",
       "      <th>total</th>\n",
       "      <th>ratio</th>\n",
       "    </tr>\n",
       "  </thead>\n",
       "  <tbody>\n",
       "    <tr>\n",
       "      <th>0</th>\n",
       "      <td>Artisan</td>\n",
       "      <td>0</td>\n",
       "      <td>504</td>\n",
       "      <td>1330</td>\n",
       "      <td>37.894737</td>\n",
       "    </tr>\n",
       "    <tr>\n",
       "      <th>1</th>\n",
       "      <td>Artisan</td>\n",
       "      <td>1</td>\n",
       "      <td>41</td>\n",
       "      <td>121</td>\n",
       "      <td>33.884298</td>\n",
       "    </tr>\n",
       "    <tr>\n",
       "      <th>2</th>\n",
       "      <td>Farmstead</td>\n",
       "      <td>0</td>\n",
       "      <td>236</td>\n",
       "      <td>1330</td>\n",
       "      <td>17.744361</td>\n",
       "    </tr>\n",
       "    <tr>\n",
       "      <th>3</th>\n",
       "      <td>Farmstead</td>\n",
       "      <td>1</td>\n",
       "      <td>68</td>\n",
       "      <td>121</td>\n",
       "      <td>56.198347</td>\n",
       "    </tr>\n",
       "    <tr>\n",
       "      <th>4</th>\n",
       "      <td>Industrial</td>\n",
       "      <td>0</td>\n",
       "      <td>590</td>\n",
       "      <td>1330</td>\n",
       "      <td>44.360902</td>\n",
       "    </tr>\n",
       "    <tr>\n",
       "      <th>5</th>\n",
       "      <td>Industrial</td>\n",
       "      <td>1</td>\n",
       "      <td>12</td>\n",
       "      <td>121</td>\n",
       "      <td>9.917355</td>\n",
       "    </tr>\n",
       "  </tbody>\n",
       "</table>\n",
       "</div>"
      ],
      "text/plain": [
       "  ManufacturingTypeEn  Organic  CheeseId  total      ratio\n",
       "0             Artisan        0       504   1330  37.894737\n",
       "1             Artisan        1        41    121  33.884298\n",
       "2           Farmstead        0       236   1330  17.744361\n",
       "3           Farmstead        1        68    121  56.198347\n",
       "4          Industrial        0       590   1330  44.360902\n",
       "5          Industrial        1        12    121   9.917355"
      ]
     },
     "execution_count": 1412,
     "metadata": {},
     "output_type": "execute_result"
    }
   ],
   "source": [
    "manuf_df['ratio'] =100*(manuf_df['CheeseId']/manuf_df['total'])\n",
    "manuf_df"
   ]
  },
  {
   "cell_type": "code",
   "execution_count": 1413,
   "metadata": {},
   "outputs": [
    {
     "data": {
      "text/html": [
       "\n",
       "<div id=\"altair-viz-f278775c26664b18ba3dcd70498d5f50\"></div>\n",
       "<script type=\"text/javascript\">\n",
       "  (function(spec, embedOpt){\n",
       "    let outputDiv = document.currentScript.previousElementSibling;\n",
       "    if (outputDiv.id !== \"altair-viz-f278775c26664b18ba3dcd70498d5f50\") {\n",
       "      outputDiv = document.getElementById(\"altair-viz-f278775c26664b18ba3dcd70498d5f50\");\n",
       "    }\n",
       "    const paths = {\n",
       "      \"vega\": \"https://cdn.jsdelivr.net/npm//vega@5?noext\",\n",
       "      \"vega-lib\": \"https://cdn.jsdelivr.net/npm//vega-lib?noext\",\n",
       "      \"vega-lite\": \"https://cdn.jsdelivr.net/npm//vega-lite@4.8.1?noext\",\n",
       "      \"vega-embed\": \"https://cdn.jsdelivr.net/npm//vega-embed@6?noext\",\n",
       "    };\n",
       "\n",
       "    function loadScript(lib) {\n",
       "      return new Promise(function(resolve, reject) {\n",
       "        var s = document.createElement('script');\n",
       "        s.src = paths[lib];\n",
       "        s.async = true;\n",
       "        s.onload = () => resolve(paths[lib]);\n",
       "        s.onerror = () => reject(`Error loading script: ${paths[lib]}`);\n",
       "        document.getElementsByTagName(\"head\")[0].appendChild(s);\n",
       "      });\n",
       "    }\n",
       "\n",
       "    function showError(err) {\n",
       "      outputDiv.innerHTML = `<div class=\"error\" style=\"color:red;\">${err}</div>`;\n",
       "      throw err;\n",
       "    }\n",
       "\n",
       "    function displayChart(vegaEmbed) {\n",
       "      vegaEmbed(outputDiv, spec, embedOpt)\n",
       "        .catch(err => showError(`Javascript Error: ${err.message}<br>This usually means there's a typo in your chart specification. See the javascript console for the full traceback.`));\n",
       "    }\n",
       "\n",
       "    if(typeof define === \"function\" && define.amd) {\n",
       "      requirejs.config({paths});\n",
       "      require([\"vega-embed\"], displayChart, err => showError(`Error loading script: ${err.message}`));\n",
       "    } else if (typeof vegaEmbed === \"function\") {\n",
       "      displayChart(vegaEmbed);\n",
       "    } else {\n",
       "      loadScript(\"vega\")\n",
       "        .then(() => loadScript(\"vega-lite\"))\n",
       "        .then(() => loadScript(\"vega-embed\"))\n",
       "        .catch(showError)\n",
       "        .then(() => displayChart(vegaEmbed));\n",
       "    }\n",
       "  })({\"config\": {\"view\": {\"continuousWidth\": 400, \"continuousHeight\": 300}}, \"data\": {\"name\": \"data-7d83db685ea5ab684013b59215497f2d\"}, \"mark\": {\"type\": \"bar\", \"size\": 20}, \"encoding\": {\"color\": {\"type\": \"quantitative\", \"field\": \"Organic\", \"scale\": {\"scheme\": \"category20b\"}}, \"x\": {\"type\": \"nominal\", \"field\": \"ManufacturingTypeEn\"}, \"y\": {\"type\": \"quantitative\", \"field\": \"ratio\"}}, \"height\": 250, \"width\": 80, \"$schema\": \"https://vega.github.io/schema/vega-lite/v4.8.1.json\", \"datasets\": {\"data-7d83db685ea5ab684013b59215497f2d\": [{\"ManufacturingTypeEn\": \"Artisan\", \"Organic\": 0, \"CheeseId\": 504, \"total\": 1330, \"ratio\": 37.89473684210527}, {\"ManufacturingTypeEn\": \"Artisan\", \"Organic\": 1, \"CheeseId\": 41, \"total\": 121, \"ratio\": 33.88429752066116}, {\"ManufacturingTypeEn\": \"Farmstead\", \"Organic\": 0, \"CheeseId\": 236, \"total\": 1330, \"ratio\": 17.74436090225564}, {\"ManufacturingTypeEn\": \"Farmstead\", \"Organic\": 1, \"CheeseId\": 68, \"total\": 121, \"ratio\": 56.19834710743802}, {\"ManufacturingTypeEn\": \"Industrial\", \"Organic\": 0, \"CheeseId\": 590, \"total\": 1330, \"ratio\": 44.3609022556391}, {\"ManufacturingTypeEn\": \"Industrial\", \"Organic\": 1, \"CheeseId\": 12, \"total\": 121, \"ratio\": 9.917355371900827}]}}, {\"mode\": \"vega-lite\"});\n",
       "</script>"
      ],
      "text/plain": [
       "alt.Chart(...)"
      ]
     },
     "execution_count": 1413,
     "metadata": {},
     "output_type": "execute_result"
    }
   ],
   "source": [
    "alt.Chart(manuf_df).mark_bar(size=20).encode(\n",
    "    x='ManufacturingTypeEn:N',\n",
    "    y='ratio:Q',\n",
    "#     color='genre:N'\n",
    "    color=alt.Color('Organic', scale=alt.Scale(scheme='category20b'))\n",
    ").properties( width=80,\n",
    "    height=250)"
   ]
  },
  {
   "cell_type": "code",
   "execution_count": 1414,
   "metadata": {},
   "outputs": [
    {
     "data": {
      "text/html": [
       "<div>\n",
       "<style scoped>\n",
       "    .dataframe tbody tr th:only-of-type {\n",
       "        vertical-align: middle;\n",
       "    }\n",
       "\n",
       "    .dataframe tbody tr th {\n",
       "        vertical-align: top;\n",
       "    }\n",
       "\n",
       "    .dataframe thead th {\n",
       "        text-align: right;\n",
       "    }\n",
       "</style>\n",
       "<table border=\"1\" class=\"dataframe\">\n",
       "  <thead>\n",
       "    <tr style=\"text-align: right;\">\n",
       "      <th></th>\n",
       "      <th>ManufacturingTypeEn</th>\n",
       "      <th>Organic</th>\n",
       "      <th>CheeseId</th>\n",
       "      <th>total</th>\n",
       "      <th>ratio</th>\n",
       "    </tr>\n",
       "  </thead>\n",
       "  <tbody>\n",
       "    <tr>\n",
       "      <th>1</th>\n",
       "      <td>Artisan</td>\n",
       "      <td>1</td>\n",
       "      <td>41</td>\n",
       "      <td>121</td>\n",
       "      <td>33.884298</td>\n",
       "    </tr>\n",
       "    <tr>\n",
       "      <th>3</th>\n",
       "      <td>Farmstead</td>\n",
       "      <td>1</td>\n",
       "      <td>68</td>\n",
       "      <td>121</td>\n",
       "      <td>56.198347</td>\n",
       "    </tr>\n",
       "    <tr>\n",
       "      <th>5</th>\n",
       "      <td>Industrial</td>\n",
       "      <td>1</td>\n",
       "      <td>12</td>\n",
       "      <td>121</td>\n",
       "      <td>9.917355</td>\n",
       "    </tr>\n",
       "  </tbody>\n",
       "</table>\n",
       "</div>"
      ],
      "text/plain": [
       "  ManufacturingTypeEn  Organic  CheeseId  total      ratio\n",
       "1             Artisan        1        41    121  33.884298\n",
       "3           Farmstead        1        68    121  56.198347\n",
       "5          Industrial        1        12    121   9.917355"
      ]
     },
     "execution_count": 1414,
     "metadata": {},
     "output_type": "execute_result"
    }
   ],
   "source": [
    "manuf_df_organic= manuf_df[manuf_df['Organic']== 1]\n",
    "manuf_df_organic"
   ]
  },
  {
   "cell_type": "code",
   "execution_count": 1415,
   "metadata": {},
   "outputs": [
    {
     "data": {
      "text/html": [
       "\n",
       "<div id=\"altair-viz-0c11497d66f44f0da1793e0edf98d2d7\"></div>\n",
       "<script type=\"text/javascript\">\n",
       "  (function(spec, embedOpt){\n",
       "    let outputDiv = document.currentScript.previousElementSibling;\n",
       "    if (outputDiv.id !== \"altair-viz-0c11497d66f44f0da1793e0edf98d2d7\") {\n",
       "      outputDiv = document.getElementById(\"altair-viz-0c11497d66f44f0da1793e0edf98d2d7\");\n",
       "    }\n",
       "    const paths = {\n",
       "      \"vega\": \"https://cdn.jsdelivr.net/npm//vega@5?noext\",\n",
       "      \"vega-lib\": \"https://cdn.jsdelivr.net/npm//vega-lib?noext\",\n",
       "      \"vega-lite\": \"https://cdn.jsdelivr.net/npm//vega-lite@4.8.1?noext\",\n",
       "      \"vega-embed\": \"https://cdn.jsdelivr.net/npm//vega-embed@6?noext\",\n",
       "    };\n",
       "\n",
       "    function loadScript(lib) {\n",
       "      return new Promise(function(resolve, reject) {\n",
       "        var s = document.createElement('script');\n",
       "        s.src = paths[lib];\n",
       "        s.async = true;\n",
       "        s.onload = () => resolve(paths[lib]);\n",
       "        s.onerror = () => reject(`Error loading script: ${paths[lib]}`);\n",
       "        document.getElementsByTagName(\"head\")[0].appendChild(s);\n",
       "      });\n",
       "    }\n",
       "\n",
       "    function showError(err) {\n",
       "      outputDiv.innerHTML = `<div class=\"error\" style=\"color:red;\">${err}</div>`;\n",
       "      throw err;\n",
       "    }\n",
       "\n",
       "    function displayChart(vegaEmbed) {\n",
       "      vegaEmbed(outputDiv, spec, embedOpt)\n",
       "        .catch(err => showError(`Javascript Error: ${err.message}<br>This usually means there's a typo in your chart specification. See the javascript console for the full traceback.`));\n",
       "    }\n",
       "\n",
       "    if(typeof define === \"function\" && define.amd) {\n",
       "      requirejs.config({paths});\n",
       "      require([\"vega-embed\"], displayChart, err => showError(`Error loading script: ${err.message}`));\n",
       "    } else if (typeof vegaEmbed === \"function\") {\n",
       "      displayChart(vegaEmbed);\n",
       "    } else {\n",
       "      loadScript(\"vega\")\n",
       "        .then(() => loadScript(\"vega-lite\"))\n",
       "        .then(() => loadScript(\"vega-embed\"))\n",
       "        .catch(showError)\n",
       "        .then(() => displayChart(vegaEmbed));\n",
       "    }\n",
       "  })({\"config\": {\"view\": {\"continuousWidth\": 400, \"continuousHeight\": 300}}, \"data\": {\"name\": \"data-9f2a617ce7072d8dda7b113836f75b9b\"}, \"mark\": \"bar\", \"encoding\": {\"x\": {\"type\": \"nominal\", \"field\": \"ManufacturingTypeEn\", \"sort\": \"y\", \"title\": \"Manufacturing Type\"}, \"y\": {\"type\": \"quantitative\", \"field\": \"CheeseId\", \"title\": \" count\"}}, \"height\": 200, \"width\": 200, \"$schema\": \"https://vega.github.io/schema/vega-lite/v4.8.1.json\", \"datasets\": {\"data-9f2a617ce7072d8dda7b113836f75b9b\": [{\"ManufacturingTypeEn\": \"Artisan\", \"Organic\": 1, \"CheeseId\": 41, \"total\": 121, \"ratio\": 33.88429752066116}, {\"ManufacturingTypeEn\": \"Farmstead\", \"Organic\": 1, \"CheeseId\": 68, \"total\": 121, \"ratio\": 56.19834710743802}, {\"ManufacturingTypeEn\": \"Industrial\", \"Organic\": 1, \"CheeseId\": 12, \"total\": 121, \"ratio\": 9.917355371900827}]}}, {\"mode\": \"vega-lite\"});\n",
       "</script>"
      ],
      "text/plain": [
       "alt.Chart(...)"
      ]
     },
     "execution_count": 1415,
     "metadata": {},
     "output_type": "execute_result"
    }
   ],
   "source": [
    "plot_organic =alt.Chart(manuf_df_organic).mark_bar().encode(\n",
    "                    x =alt.X(\"ManufacturingTypeEn\",sort ='y',title=\"Manufacturing Type\"),\n",
    "                    y= alt.Y(\"CheeseId:Q\",title=\" count\")).properties (width =200, height =200)\n",
    "                    \n",
    "plot_organic"
   ]
  },
  {
   "cell_type": "code",
   "execution_count": 1416,
   "metadata": {},
   "outputs": [
    {
     "data": {
      "text/html": [
       "<div>\n",
       "<style scoped>\n",
       "    .dataframe tbody tr th:only-of-type {\n",
       "        vertical-align: middle;\n",
       "    }\n",
       "\n",
       "    .dataframe tbody tr th {\n",
       "        vertical-align: top;\n",
       "    }\n",
       "\n",
       "    .dataframe thead th {\n",
       "        text-align: right;\n",
       "    }\n",
       "</style>\n",
       "<table border=\"1\" class=\"dataframe\">\n",
       "  <thead>\n",
       "    <tr style=\"text-align: right;\">\n",
       "      <th></th>\n",
       "      <th>ManufacturingTypeEn</th>\n",
       "      <th>Organic</th>\n",
       "      <th>CheeseId</th>\n",
       "      <th>total</th>\n",
       "      <th>ratio</th>\n",
       "    </tr>\n",
       "  </thead>\n",
       "  <tbody>\n",
       "    <tr>\n",
       "      <th>0</th>\n",
       "      <td>Artisan</td>\n",
       "      <td>0</td>\n",
       "      <td>504</td>\n",
       "      <td>1330</td>\n",
       "      <td>37.894737</td>\n",
       "    </tr>\n",
       "    <tr>\n",
       "      <th>2</th>\n",
       "      <td>Farmstead</td>\n",
       "      <td>0</td>\n",
       "      <td>236</td>\n",
       "      <td>1330</td>\n",
       "      <td>17.744361</td>\n",
       "    </tr>\n",
       "    <tr>\n",
       "      <th>4</th>\n",
       "      <td>Industrial</td>\n",
       "      <td>0</td>\n",
       "      <td>590</td>\n",
       "      <td>1330</td>\n",
       "      <td>44.360902</td>\n",
       "    </tr>\n",
       "  </tbody>\n",
       "</table>\n",
       "</div>"
      ],
      "text/plain": [
       "  ManufacturingTypeEn  Organic  CheeseId  total      ratio\n",
       "0             Artisan        0       504   1330  37.894737\n",
       "2           Farmstead        0       236   1330  17.744361\n",
       "4          Industrial        0       590   1330  44.360902"
      ]
     },
     "execution_count": 1416,
     "metadata": {},
     "output_type": "execute_result"
    }
   ],
   "source": [
    "manuf_df_non_organic= manuf_df[manuf_df['Organic']== 0]\n",
    "manuf_df_non_organic"
   ]
  },
  {
   "cell_type": "code",
   "execution_count": 1417,
   "metadata": {},
   "outputs": [
    {
     "data": {
      "text/html": [
       "\n",
       "<div id=\"altair-viz-3218520f1fc84207a6634c738118acab\"></div>\n",
       "<script type=\"text/javascript\">\n",
       "  (function(spec, embedOpt){\n",
       "    let outputDiv = document.currentScript.previousElementSibling;\n",
       "    if (outputDiv.id !== \"altair-viz-3218520f1fc84207a6634c738118acab\") {\n",
       "      outputDiv = document.getElementById(\"altair-viz-3218520f1fc84207a6634c738118acab\");\n",
       "    }\n",
       "    const paths = {\n",
       "      \"vega\": \"https://cdn.jsdelivr.net/npm//vega@5?noext\",\n",
       "      \"vega-lib\": \"https://cdn.jsdelivr.net/npm//vega-lib?noext\",\n",
       "      \"vega-lite\": \"https://cdn.jsdelivr.net/npm//vega-lite@4.8.1?noext\",\n",
       "      \"vega-embed\": \"https://cdn.jsdelivr.net/npm//vega-embed@6?noext\",\n",
       "    };\n",
       "\n",
       "    function loadScript(lib) {\n",
       "      return new Promise(function(resolve, reject) {\n",
       "        var s = document.createElement('script');\n",
       "        s.src = paths[lib];\n",
       "        s.async = true;\n",
       "        s.onload = () => resolve(paths[lib]);\n",
       "        s.onerror = () => reject(`Error loading script: ${paths[lib]}`);\n",
       "        document.getElementsByTagName(\"head\")[0].appendChild(s);\n",
       "      });\n",
       "    }\n",
       "\n",
       "    function showError(err) {\n",
       "      outputDiv.innerHTML = `<div class=\"error\" style=\"color:red;\">${err}</div>`;\n",
       "      throw err;\n",
       "    }\n",
       "\n",
       "    function displayChart(vegaEmbed) {\n",
       "      vegaEmbed(outputDiv, spec, embedOpt)\n",
       "        .catch(err => showError(`Javascript Error: ${err.message}<br>This usually means there's a typo in your chart specification. See the javascript console for the full traceback.`));\n",
       "    }\n",
       "\n",
       "    if(typeof define === \"function\" && define.amd) {\n",
       "      requirejs.config({paths});\n",
       "      require([\"vega-embed\"], displayChart, err => showError(`Error loading script: ${err.message}`));\n",
       "    } else if (typeof vegaEmbed === \"function\") {\n",
       "      displayChart(vegaEmbed);\n",
       "    } else {\n",
       "      loadScript(\"vega\")\n",
       "        .then(() => loadScript(\"vega-lite\"))\n",
       "        .then(() => loadScript(\"vega-embed\"))\n",
       "        .catch(showError)\n",
       "        .then(() => displayChart(vegaEmbed));\n",
       "    }\n",
       "  })({\"config\": {\"view\": {\"continuousWidth\": 400, \"continuousHeight\": 300}}, \"data\": {\"name\": \"data-c329a15df520293444b6fc42df039c21\"}, \"mark\": \"bar\", \"encoding\": {\"x\": {\"type\": \"nominal\", \"field\": \"ManufacturingTypeEn\", \"sort\": \"y\", \"title\": \"Manufacturing Type\"}, \"y\": {\"type\": \"quantitative\", \"field\": \"CheeseId\", \"title\": \" count\"}}, \"height\": 200, \"width\": 200, \"$schema\": \"https://vega.github.io/schema/vega-lite/v4.8.1.json\", \"datasets\": {\"data-c329a15df520293444b6fc42df039c21\": [{\"ManufacturingTypeEn\": \"Artisan\", \"Organic\": 0, \"CheeseId\": 504, \"total\": 1330, \"ratio\": 37.89473684210527}, {\"ManufacturingTypeEn\": \"Farmstead\", \"Organic\": 0, \"CheeseId\": 236, \"total\": 1330, \"ratio\": 17.74436090225564}, {\"ManufacturingTypeEn\": \"Industrial\", \"Organic\": 0, \"CheeseId\": 590, \"total\": 1330, \"ratio\": 44.3609022556391}]}}, {\"mode\": \"vega-lite\"});\n",
       "</script>"
      ],
      "text/plain": [
       "alt.Chart(...)"
      ]
     },
     "execution_count": 1417,
     "metadata": {},
     "output_type": "execute_result"
    }
   ],
   "source": [
    "plot_non_organic =alt.Chart(manuf_df_non_organic).mark_bar().encode(\n",
    "                    x =alt.X(\"ManufacturingTypeEn\",sort ='y',title=\"Manufacturing Type\"),\n",
    "                    y= alt.Y(\"CheeseId:Q\",title=\" count\")).properties (width =200, height =200)\n",
    "                    \n",
    "plot_non_organic"
   ]
  },
  {
   "cell_type": "markdown",
   "metadata": {},
   "source": [
    "Based on the above Bar Charts, it is clear that the distribution of Manufacturing Type is different for two Classes/ States, so  this feature can be an important feature for our machine learning Model to learn from "
   ]
  },
  {
   "cell_type": "markdown",
   "metadata": {},
   "source": [
    "** Let us drop all the rows which have more than 70% of null values and also create an index column"
   ]
  },
  {
   "cell_type": "code",
   "execution_count": 1418,
   "metadata": {},
   "outputs": [],
   "source": [
    "data=merged_df[merged_df.isnull().mean(axis =1) < 0.7]"
   ]
  },
  {
   "cell_type": "code",
   "execution_count": 1419,
   "metadata": {},
   "outputs": [
    {
     "data": {
      "text/plain": [
       "12"
      ]
     },
     "execution_count": 1419,
     "metadata": {},
     "output_type": "execute_result"
    }
   ],
   "source": [
    "merged_df.shape[0]- data.shape[0]"
   ]
  },
  {
   "cell_type": "code",
   "execution_count": 1420,
   "metadata": {},
   "outputs": [],
   "source": [
    "data= data.reset_index(drop = True )"
   ]
  },
  {
   "cell_type": "code",
   "execution_count": 1421,
   "metadata": {},
   "outputs": [
    {
     "data": {
      "text/plain": [
       "Index(['CheeseId', 'ManufacturerNameEn', 'ManufacturerNameFr',\n",
       "       'ManufacturerProvCode', 'ManufacturingTypeEn', 'ManufacturingTypeFr',\n",
       "       'FatContentPercent', 'MoisturePercent', 'ParticularitiesEn',\n",
       "       'ParticularitiesFr', 'FlavourEn', 'FlavourFr', 'CharacteristicsEn',\n",
       "       'CharacteristicsFr', 'RipeningEn', 'RipeningFr', 'Organic',\n",
       "       'CategoryTypeEn', 'CategoryTypeFr', 'MilkTypeEn', 'MilkTypeFr',\n",
       "       'MilkTreatmentTypeEn', 'MilkTreatmentTypeFr', 'RindTypeFr',\n",
       "       'CheeseName', 'FatLevel'],\n",
       "      dtype='object')"
      ]
     },
     "execution_count": 1421,
     "metadata": {},
     "output_type": "execute_result"
    }
   ],
   "source": [
    "data.columns"
   ]
  },
  {
   "cell_type": "code",
   "execution_count": 1422,
   "metadata": {},
   "outputs": [],
   "source": [
    "data = data.drop (columns =['CheeseId','CheeseName'])"
   ]
  },
  {
   "cell_type": "markdown",
   "metadata": {},
   "source": [
    "# Train and Test Splits - Feature Vectors and Target Columns"
   ]
  },
  {
   "cell_type": "code",
   "execution_count": 1423,
   "metadata": {},
   "outputs": [],
   "source": [
    "train_df, test_df = train_test_split(data, test_size = 0.2, random_state =2020)"
   ]
  },
  {
   "cell_type": "markdown",
   "metadata": {},
   "source": [
    "Creating the Feature Table and also Target Vector for our train and test data frames"
   ]
  },
  {
   "cell_type": "code",
   "execution_count": 1424,
   "metadata": {},
   "outputs": [],
   "source": [
    "X_train= train_df.drop (columns = ['Organic'])"
   ]
  },
  {
   "cell_type": "code",
   "execution_count": 1425,
   "metadata": {},
   "outputs": [
    {
     "data": {
      "text/html": [
       "<div>\n",
       "<style scoped>\n",
       "    .dataframe tbody tr th:only-of-type {\n",
       "        vertical-align: middle;\n",
       "    }\n",
       "\n",
       "    .dataframe tbody tr th {\n",
       "        vertical-align: top;\n",
       "    }\n",
       "\n",
       "    .dataframe thead th {\n",
       "        text-align: right;\n",
       "    }\n",
       "</style>\n",
       "<table border=\"1\" class=\"dataframe\">\n",
       "  <thead>\n",
       "    <tr style=\"text-align: right;\">\n",
       "      <th></th>\n",
       "      <th>ManufacturerNameEn</th>\n",
       "      <th>ManufacturerNameFr</th>\n",
       "      <th>ManufacturerProvCode</th>\n",
       "      <th>ManufacturingTypeEn</th>\n",
       "      <th>ManufacturingTypeFr</th>\n",
       "      <th>FatContentPercent</th>\n",
       "      <th>MoisturePercent</th>\n",
       "      <th>ParticularitiesEn</th>\n",
       "      <th>ParticularitiesFr</th>\n",
       "      <th>FlavourEn</th>\n",
       "      <th>...</th>\n",
       "      <th>RipeningEn</th>\n",
       "      <th>RipeningFr</th>\n",
       "      <th>CategoryTypeEn</th>\n",
       "      <th>CategoryTypeFr</th>\n",
       "      <th>MilkTypeEn</th>\n",
       "      <th>MilkTypeFr</th>\n",
       "      <th>MilkTreatmentTypeEn</th>\n",
       "      <th>MilkTreatmentTypeFr</th>\n",
       "      <th>RindTypeFr</th>\n",
       "      <th>FatLevel</th>\n",
       "    </tr>\n",
       "  </thead>\n",
       "  <tbody>\n",
       "    <tr>\n",
       "      <th>1313</th>\n",
       "      <td>Skotidakis Goat Farm</td>\n",
       "      <td>NaN</td>\n",
       "      <td>ON</td>\n",
       "      <td>Industrial</td>\n",
       "      <td>Industrielle</td>\n",
       "      <td>NaN</td>\n",
       "      <td>NaN</td>\n",
       "      <td>Made with cow and goat's milk</td>\n",
       "      <td>Fabriqué de lait de vache et de chèvre</td>\n",
       "      <td>NaN</td>\n",
       "      <td>...</td>\n",
       "      <td>NaN</td>\n",
       "      <td>NaN</td>\n",
       "      <td>NaN</td>\n",
       "      <td>NaN</td>\n",
       "      <td>Cow and Goat</td>\n",
       "      <td>Vache et chèvre</td>\n",
       "      <td>Pasteurized</td>\n",
       "      <td>Pasteurisé</td>\n",
       "      <td>NaN</td>\n",
       "      <td>NaN</td>\n",
       "    </tr>\n",
       "  </tbody>\n",
       "</table>\n",
       "<p>1 rows × 23 columns</p>\n",
       "</div>"
      ],
      "text/plain": [
       "        ManufacturerNameEn ManufacturerNameFr ManufacturerProvCode  \\\n",
       "1313  Skotidakis Goat Farm                NaN                   ON   \n",
       "\n",
       "     ManufacturingTypeEn ManufacturingTypeFr  FatContentPercent  \\\n",
       "1313          Industrial        Industrielle                NaN   \n",
       "\n",
       "      MoisturePercent              ParticularitiesEn  \\\n",
       "1313              NaN  Made with cow and goat's milk   \n",
       "\n",
       "                           ParticularitiesFr FlavourEn  ... RipeningEn  \\\n",
       "1313  Fabriqué de lait de vache et de chèvre       NaN  ...        NaN   \n",
       "\n",
       "     RipeningFr CategoryTypeEn CategoryTypeFr    MilkTypeEn       MilkTypeFr  \\\n",
       "1313        NaN            NaN            NaN  Cow and Goat  Vache et chèvre   \n",
       "\n",
       "     MilkTreatmentTypeEn MilkTreatmentTypeFr RindTypeFr FatLevel  \n",
       "1313         Pasteurized          Pasteurisé        NaN      NaN  \n",
       "\n",
       "[1 rows x 23 columns]"
      ]
     },
     "execution_count": 1425,
     "metadata": {},
     "output_type": "execute_result"
    }
   ],
   "source": [
    "X_train.head(1)"
   ]
  },
  {
   "cell_type": "code",
   "execution_count": 1426,
   "metadata": {},
   "outputs": [],
   "source": [
    "y_train= train_df['Organic']"
   ]
  },
  {
   "cell_type": "code",
   "execution_count": 1427,
   "metadata": {},
   "outputs": [
    {
     "data": {
      "text/plain": [
       "1313    0\n",
       "994     0\n",
       "189     0\n",
       "1379    0\n",
       "757     0\n",
       "       ..\n",
       "91      0\n",
       "630     0\n",
       "1347    0\n",
       "392     0\n",
       "864     0\n",
       "Name: Organic, Length: 1151, dtype: int64"
      ]
     },
     "execution_count": 1427,
     "metadata": {},
     "output_type": "execute_result"
    }
   ],
   "source": [
    "y_train"
   ]
  },
  {
   "cell_type": "code",
   "execution_count": 1428,
   "metadata": {},
   "outputs": [
    {
     "name": "stdout",
     "output_type": "stream",
     "text": [
      "<class 'pandas.core.frame.DataFrame'>\n",
      "Int64Index: 1151 entries, 1313 to 864\n",
      "Data columns (total 23 columns):\n",
      " #   Column                Non-Null Count  Dtype  \n",
      "---  ------                --------------  -----  \n",
      " 0   ManufacturerNameEn    539 non-null    object \n",
      " 1   ManufacturerNameFr    770 non-null    object \n",
      " 2   ManufacturerProvCode  1151 non-null   object \n",
      " 3   ManufacturingTypeEn   1151 non-null   object \n",
      " 4   ManufacturingTypeFr   1151 non-null   object \n",
      " 5   FatContentPercent     847 non-null    float64\n",
      " 6   MoisturePercent       839 non-null    float64\n",
      " 7   ParticularitiesEn     395 non-null    object \n",
      " 8   ParticularitiesFr     394 non-null    object \n",
      " 9   FlavourEn             768 non-null    object \n",
      " 10  FlavourFr             765 non-null    object \n",
      " 11  CharacteristicsEn     613 non-null    object \n",
      " 12  CharacteristicsFr     611 non-null    object \n",
      " 13  RipeningEn            598 non-null    object \n",
      " 14  RipeningFr            596 non-null    object \n",
      " 15  CategoryTypeEn        1052 non-null   object \n",
      " 16  CategoryTypeFr        1052 non-null   object \n",
      " 17  MilkTypeEn            1145 non-null   object \n",
      " 18  MilkTypeFr            1145 non-null   object \n",
      " 19  MilkTreatmentTypeEn   995 non-null    object \n",
      " 20  MilkTreatmentTypeFr   995 non-null    object \n",
      " 21  RindTypeFr            697 non-null    object \n",
      " 22  FatLevel              847 non-null    object \n",
      "dtypes: float64(2), object(21)\n",
      "memory usage: 215.8+ KB\n"
     ]
    }
   ],
   "source": [
    "X_train.info()"
   ]
  },
  {
   "cell_type": "code",
   "execution_count": 1429,
   "metadata": {},
   "outputs": [
    {
     "data": {
      "text/plain": [
       "Index(['ManufacturerNameEn', 'ManufacturerNameFr', 'ManufacturerProvCode',\n",
       "       'ManufacturingTypeEn', 'ManufacturingTypeFr', 'FatContentPercent',\n",
       "       'MoisturePercent', 'ParticularitiesEn', 'ParticularitiesFr',\n",
       "       'FlavourEn', 'FlavourFr', 'CharacteristicsEn', 'CharacteristicsFr',\n",
       "       'RipeningEn', 'RipeningFr', 'CategoryTypeEn', 'CategoryTypeFr',\n",
       "       'MilkTypeEn', 'MilkTypeFr', 'MilkTreatmentTypeEn',\n",
       "       'MilkTreatmentTypeFr', 'RindTypeFr', 'FatLevel'],\n",
       "      dtype='object')"
      ]
     },
     "execution_count": 1429,
     "metadata": {},
     "output_type": "execute_result"
    }
   ],
   "source": [
    "X_train.columns\n"
   ]
  },
  {
   "cell_type": "code",
   "execution_count": 1430,
   "metadata": {},
   "outputs": [
    {
     "data": {
      "text/html": [
       "<div>\n",
       "<style scoped>\n",
       "    .dataframe tbody tr th:only-of-type {\n",
       "        vertical-align: middle;\n",
       "    }\n",
       "\n",
       "    .dataframe tbody tr th {\n",
       "        vertical-align: top;\n",
       "    }\n",
       "\n",
       "    .dataframe thead th {\n",
       "        text-align: right;\n",
       "    }\n",
       "</style>\n",
       "<table border=\"1\" class=\"dataframe\">\n",
       "  <thead>\n",
       "    <tr style=\"text-align: right;\">\n",
       "      <th></th>\n",
       "      <th>ParticularitiesEn</th>\n",
       "    </tr>\n",
       "  </thead>\n",
       "  <tbody>\n",
       "    <tr>\n",
       "      <th>1313</th>\n",
       "      <td>Made with cow and goat's milk</td>\n",
       "    </tr>\n",
       "    <tr>\n",
       "      <th>994</th>\n",
       "      <td>NaN</td>\n",
       "    </tr>\n",
       "    <tr>\n",
       "      <th>189</th>\n",
       "      <td>NaN</td>\n",
       "    </tr>\n",
       "    <tr>\n",
       "      <th>1379</th>\n",
       "      <td>NaN</td>\n",
       "    </tr>\n",
       "    <tr>\n",
       "      <th>757</th>\n",
       "      <td>NaN</td>\n",
       "    </tr>\n",
       "    <tr>\n",
       "      <th>...</th>\n",
       "      <td>...</td>\n",
       "    </tr>\n",
       "    <tr>\n",
       "      <th>91</th>\n",
       "      <td>NaN</td>\n",
       "    </tr>\n",
       "    <tr>\n",
       "      <th>630</th>\n",
       "      <td>NaN</td>\n",
       "    </tr>\n",
       "    <tr>\n",
       "      <th>1347</th>\n",
       "      <td>NaN</td>\n",
       "    </tr>\n",
       "    <tr>\n",
       "      <th>392</th>\n",
       "      <td>NaN</td>\n",
       "    </tr>\n",
       "    <tr>\n",
       "      <th>864</th>\n",
       "      <td>NaN</td>\n",
       "    </tr>\n",
       "  </tbody>\n",
       "</table>\n",
       "<p>1151 rows × 1 columns</p>\n",
       "</div>"
      ],
      "text/plain": [
       "                  ParticularitiesEn\n",
       "1313  Made with cow and goat's milk\n",
       "994                             NaN\n",
       "189                             NaN\n",
       "1379                            NaN\n",
       "757                             NaN\n",
       "...                             ...\n",
       "91                              NaN\n",
       "630                             NaN\n",
       "1347                            NaN\n",
       "392                             NaN\n",
       "864                             NaN\n",
       "\n",
       "[1151 rows x 1 columns]"
      ]
     },
     "execution_count": 1430,
     "metadata": {},
     "output_type": "execute_result"
    }
   ],
   "source": [
    "X_train[['ParticularitiesEn']]"
   ]
  },
  {
   "cell_type": "code",
   "execution_count": 1431,
   "metadata": {},
   "outputs": [],
   "source": [
    "X_test= test_df.drop (columns = ['Organic'])"
   ]
  },
  {
   "cell_type": "code",
   "execution_count": 1432,
   "metadata": {},
   "outputs": [],
   "source": [
    "y_test= test_df['Organic']"
   ]
  },
  {
   "cell_type": "markdown",
   "metadata": {},
   "source": [
    "# Preprocessor"
   ]
  },
  {
   "cell_type": "markdown",
   "metadata": {},
   "source": [
    "** Preprocessor - we will need to preprocess our data before it can be used by machine learning algorithm(such as linear regressor).\n",
    "For Numeric Columns , let us use simple imputer for dealing with NaN values and Standard Scaler - For categorical colums - let us use Simple Imputer and One Hot Encoding - For Binary Columns we will use binary Transformer and For colums containing text data we will use Count Vectorizer, we will put everyting in a column transformer"
   ]
  },
  {
   "cell_type": "code",
   "execution_count": 1433,
   "metadata": {},
   "outputs": [
    {
     "data": {
      "text/html": [
       "<div>\n",
       "<style scoped>\n",
       "    .dataframe tbody tr th:only-of-type {\n",
       "        vertical-align: middle;\n",
       "    }\n",
       "\n",
       "    .dataframe tbody tr th {\n",
       "        vertical-align: top;\n",
       "    }\n",
       "\n",
       "    .dataframe thead th {\n",
       "        text-align: right;\n",
       "    }\n",
       "</style>\n",
       "<table border=\"1\" class=\"dataframe\">\n",
       "  <thead>\n",
       "    <tr style=\"text-align: right;\">\n",
       "      <th></th>\n",
       "      <th>0</th>\n",
       "      <th>1</th>\n",
       "      <th>2</th>\n",
       "      <th>3</th>\n",
       "      <th>4</th>\n",
       "      <th>5</th>\n",
       "      <th>6</th>\n",
       "      <th>7</th>\n",
       "      <th>8</th>\n",
       "      <th>9</th>\n",
       "      <th>...</th>\n",
       "      <th>4093</th>\n",
       "      <th>4094</th>\n",
       "      <th>4095</th>\n",
       "      <th>4096</th>\n",
       "      <th>4097</th>\n",
       "      <th>4098</th>\n",
       "      <th>4099</th>\n",
       "      <th>4100</th>\n",
       "      <th>4101</th>\n",
       "      <th>4102</th>\n",
       "    </tr>\n",
       "  </thead>\n",
       "  <tbody>\n",
       "    <tr>\n",
       "      <th>0</th>\n",
       "      <td>0.000000</td>\n",
       "      <td>0.000000</td>\n",
       "      <td>0.0</td>\n",
       "      <td>0.0</td>\n",
       "      <td>0.0</td>\n",
       "      <td>0.0</td>\n",
       "      <td>0.0</td>\n",
       "      <td>0.0</td>\n",
       "      <td>0.0</td>\n",
       "      <td>0.0</td>\n",
       "      <td>...</td>\n",
       "      <td>0.0</td>\n",
       "      <td>0.0</td>\n",
       "      <td>0.0</td>\n",
       "      <td>0.0</td>\n",
       "      <td>0.0</td>\n",
       "      <td>0.0</td>\n",
       "      <td>0.0</td>\n",
       "      <td>0.0</td>\n",
       "      <td>0.0</td>\n",
       "      <td>0.0</td>\n",
       "    </tr>\n",
       "    <tr>\n",
       "      <th>1</th>\n",
       "      <td>-0.248966</td>\n",
       "      <td>-0.268430</td>\n",
       "      <td>1.0</td>\n",
       "      <td>0.0</td>\n",
       "      <td>0.0</td>\n",
       "      <td>0.0</td>\n",
       "      <td>0.0</td>\n",
       "      <td>0.0</td>\n",
       "      <td>0.0</td>\n",
       "      <td>0.0</td>\n",
       "      <td>...</td>\n",
       "      <td>0.0</td>\n",
       "      <td>0.0</td>\n",
       "      <td>0.0</td>\n",
       "      <td>0.0</td>\n",
       "      <td>0.0</td>\n",
       "      <td>0.0</td>\n",
       "      <td>0.0</td>\n",
       "      <td>0.0</td>\n",
       "      <td>0.0</td>\n",
       "      <td>0.0</td>\n",
       "    </tr>\n",
       "    <tr>\n",
       "      <th>2</th>\n",
       "      <td>-0.404634</td>\n",
       "      <td>-0.994377</td>\n",
       "      <td>0.0</td>\n",
       "      <td>0.0</td>\n",
       "      <td>0.0</td>\n",
       "      <td>0.0</td>\n",
       "      <td>0.0</td>\n",
       "      <td>0.0</td>\n",
       "      <td>0.0</td>\n",
       "      <td>0.0</td>\n",
       "      <td>...</td>\n",
       "      <td>0.0</td>\n",
       "      <td>0.0</td>\n",
       "      <td>0.0</td>\n",
       "      <td>0.0</td>\n",
       "      <td>0.0</td>\n",
       "      <td>0.0</td>\n",
       "      <td>0.0</td>\n",
       "      <td>0.0</td>\n",
       "      <td>0.0</td>\n",
       "      <td>0.0</td>\n",
       "    </tr>\n",
       "    <tr>\n",
       "      <th>3</th>\n",
       "      <td>0.685042</td>\n",
       "      <td>-0.994377</td>\n",
       "      <td>0.0</td>\n",
       "      <td>0.0</td>\n",
       "      <td>0.0</td>\n",
       "      <td>0.0</td>\n",
       "      <td>0.0</td>\n",
       "      <td>0.0</td>\n",
       "      <td>0.0</td>\n",
       "      <td>0.0</td>\n",
       "      <td>...</td>\n",
       "      <td>0.0</td>\n",
       "      <td>0.0</td>\n",
       "      <td>0.0</td>\n",
       "      <td>0.0</td>\n",
       "      <td>0.0</td>\n",
       "      <td>0.0</td>\n",
       "      <td>0.0</td>\n",
       "      <td>0.0</td>\n",
       "      <td>0.0</td>\n",
       "      <td>0.0</td>\n",
       "    </tr>\n",
       "    <tr>\n",
       "      <th>4</th>\n",
       "      <td>-0.248966</td>\n",
       "      <td>0.941481</td>\n",
       "      <td>1.0</td>\n",
       "      <td>0.0</td>\n",
       "      <td>0.0</td>\n",
       "      <td>0.0</td>\n",
       "      <td>0.0</td>\n",
       "      <td>0.0</td>\n",
       "      <td>0.0</td>\n",
       "      <td>0.0</td>\n",
       "      <td>...</td>\n",
       "      <td>0.0</td>\n",
       "      <td>0.0</td>\n",
       "      <td>0.0</td>\n",
       "      <td>0.0</td>\n",
       "      <td>0.0</td>\n",
       "      <td>0.0</td>\n",
       "      <td>0.0</td>\n",
       "      <td>0.0</td>\n",
       "      <td>0.0</td>\n",
       "      <td>0.0</td>\n",
       "    </tr>\n",
       "    <tr>\n",
       "      <th>...</th>\n",
       "      <td>...</td>\n",
       "      <td>...</td>\n",
       "      <td>...</td>\n",
       "      <td>...</td>\n",
       "      <td>...</td>\n",
       "      <td>...</td>\n",
       "      <td>...</td>\n",
       "      <td>...</td>\n",
       "      <td>...</td>\n",
       "      <td>...</td>\n",
       "      <td>...</td>\n",
       "      <td>...</td>\n",
       "      <td>...</td>\n",
       "      <td>...</td>\n",
       "      <td>...</td>\n",
       "      <td>...</td>\n",
       "      <td>...</td>\n",
       "      <td>...</td>\n",
       "      <td>...</td>\n",
       "      <td>...</td>\n",
       "      <td>...</td>\n",
       "    </tr>\n",
       "    <tr>\n",
       "      <th>1146</th>\n",
       "      <td>0.218038</td>\n",
       "      <td>-0.026448</td>\n",
       "      <td>0.0</td>\n",
       "      <td>0.0</td>\n",
       "      <td>0.0</td>\n",
       "      <td>0.0</td>\n",
       "      <td>0.0</td>\n",
       "      <td>0.0</td>\n",
       "      <td>0.0</td>\n",
       "      <td>0.0</td>\n",
       "      <td>...</td>\n",
       "      <td>0.0</td>\n",
       "      <td>0.0</td>\n",
       "      <td>0.0</td>\n",
       "      <td>0.0</td>\n",
       "      <td>0.0</td>\n",
       "      <td>0.0</td>\n",
       "      <td>0.0</td>\n",
       "      <td>0.0</td>\n",
       "      <td>0.0</td>\n",
       "      <td>0.0</td>\n",
       "    </tr>\n",
       "    <tr>\n",
       "      <th>1147</th>\n",
       "      <td>-0.093298</td>\n",
       "      <td>1.546436</td>\n",
       "      <td>0.0</td>\n",
       "      <td>0.0</td>\n",
       "      <td>0.0</td>\n",
       "      <td>0.0</td>\n",
       "      <td>0.0</td>\n",
       "      <td>0.0</td>\n",
       "      <td>0.0</td>\n",
       "      <td>0.0</td>\n",
       "      <td>...</td>\n",
       "      <td>0.0</td>\n",
       "      <td>0.0</td>\n",
       "      <td>0.0</td>\n",
       "      <td>0.0</td>\n",
       "      <td>0.0</td>\n",
       "      <td>0.0</td>\n",
       "      <td>0.0</td>\n",
       "      <td>0.0</td>\n",
       "      <td>0.0</td>\n",
       "      <td>0.0</td>\n",
       "    </tr>\n",
       "    <tr>\n",
       "      <th>1148</th>\n",
       "      <td>0.218038</td>\n",
       "      <td>-0.873386</td>\n",
       "      <td>0.0</td>\n",
       "      <td>0.0</td>\n",
       "      <td>0.0</td>\n",
       "      <td>0.0</td>\n",
       "      <td>0.0</td>\n",
       "      <td>0.0</td>\n",
       "      <td>0.0</td>\n",
       "      <td>0.0</td>\n",
       "      <td>...</td>\n",
       "      <td>0.0</td>\n",
       "      <td>0.0</td>\n",
       "      <td>0.0</td>\n",
       "      <td>0.0</td>\n",
       "      <td>0.0</td>\n",
       "      <td>0.0</td>\n",
       "      <td>0.0</td>\n",
       "      <td>0.0</td>\n",
       "      <td>0.0</td>\n",
       "      <td>0.0</td>\n",
       "    </tr>\n",
       "    <tr>\n",
       "      <th>1149</th>\n",
       "      <td>0.685042</td>\n",
       "      <td>-0.994377</td>\n",
       "      <td>1.0</td>\n",
       "      <td>0.0</td>\n",
       "      <td>0.0</td>\n",
       "      <td>0.0</td>\n",
       "      <td>0.0</td>\n",
       "      <td>0.0</td>\n",
       "      <td>0.0</td>\n",
       "      <td>0.0</td>\n",
       "      <td>...</td>\n",
       "      <td>0.0</td>\n",
       "      <td>0.0</td>\n",
       "      <td>0.0</td>\n",
       "      <td>0.0</td>\n",
       "      <td>0.0</td>\n",
       "      <td>0.0</td>\n",
       "      <td>0.0</td>\n",
       "      <td>0.0</td>\n",
       "      <td>0.0</td>\n",
       "      <td>0.0</td>\n",
       "    </tr>\n",
       "    <tr>\n",
       "      <th>1150</th>\n",
       "      <td>0.062370</td>\n",
       "      <td>-0.510412</td>\n",
       "      <td>1.0</td>\n",
       "      <td>0.0</td>\n",
       "      <td>0.0</td>\n",
       "      <td>0.0</td>\n",
       "      <td>0.0</td>\n",
       "      <td>0.0</td>\n",
       "      <td>0.0</td>\n",
       "      <td>0.0</td>\n",
       "      <td>...</td>\n",
       "      <td>0.0</td>\n",
       "      <td>0.0</td>\n",
       "      <td>0.0</td>\n",
       "      <td>0.0</td>\n",
       "      <td>0.0</td>\n",
       "      <td>0.0</td>\n",
       "      <td>0.0</td>\n",
       "      <td>0.0</td>\n",
       "      <td>0.0</td>\n",
       "      <td>0.0</td>\n",
       "    </tr>\n",
       "  </tbody>\n",
       "</table>\n",
       "<p>1151 rows × 4103 columns</p>\n",
       "</div>"
      ],
      "text/plain": [
       "          0         1     2     3     4     5     6     7     8     9     ...  \\\n",
       "0     0.000000  0.000000   0.0   0.0   0.0   0.0   0.0   0.0   0.0   0.0  ...   \n",
       "1    -0.248966 -0.268430   1.0   0.0   0.0   0.0   0.0   0.0   0.0   0.0  ...   \n",
       "2    -0.404634 -0.994377   0.0   0.0   0.0   0.0   0.0   0.0   0.0   0.0  ...   \n",
       "3     0.685042 -0.994377   0.0   0.0   0.0   0.0   0.0   0.0   0.0   0.0  ...   \n",
       "4    -0.248966  0.941481   1.0   0.0   0.0   0.0   0.0   0.0   0.0   0.0  ...   \n",
       "...        ...       ...   ...   ...   ...   ...   ...   ...   ...   ...  ...   \n",
       "1146  0.218038 -0.026448   0.0   0.0   0.0   0.0   0.0   0.0   0.0   0.0  ...   \n",
       "1147 -0.093298  1.546436   0.0   0.0   0.0   0.0   0.0   0.0   0.0   0.0  ...   \n",
       "1148  0.218038 -0.873386   0.0   0.0   0.0   0.0   0.0   0.0   0.0   0.0  ...   \n",
       "1149  0.685042 -0.994377   1.0   0.0   0.0   0.0   0.0   0.0   0.0   0.0  ...   \n",
       "1150  0.062370 -0.510412   1.0   0.0   0.0   0.0   0.0   0.0   0.0   0.0  ...   \n",
       "\n",
       "      4093  4094  4095  4096  4097  4098  4099  4100  4101  4102  \n",
       "0      0.0   0.0   0.0   0.0   0.0   0.0   0.0   0.0   0.0   0.0  \n",
       "1      0.0   0.0   0.0   0.0   0.0   0.0   0.0   0.0   0.0   0.0  \n",
       "2      0.0   0.0   0.0   0.0   0.0   0.0   0.0   0.0   0.0   0.0  \n",
       "3      0.0   0.0   0.0   0.0   0.0   0.0   0.0   0.0   0.0   0.0  \n",
       "4      0.0   0.0   0.0   0.0   0.0   0.0   0.0   0.0   0.0   0.0  \n",
       "...    ...   ...   ...   ...   ...   ...   ...   ...   ...   ...  \n",
       "1146   0.0   0.0   0.0   0.0   0.0   0.0   0.0   0.0   0.0   0.0  \n",
       "1147   0.0   0.0   0.0   0.0   0.0   0.0   0.0   0.0   0.0   0.0  \n",
       "1148   0.0   0.0   0.0   0.0   0.0   0.0   0.0   0.0   0.0   0.0  \n",
       "1149   0.0   0.0   0.0   0.0   0.0   0.0   0.0   0.0   0.0   0.0  \n",
       "1150   0.0   0.0   0.0   0.0   0.0   0.0   0.0   0.0   0.0   0.0  \n",
       "\n",
       "[1151 rows x 4103 columns]"
      ]
     },
     "execution_count": 1433,
     "metadata": {},
     "output_type": "execute_result"
    }
   ],
   "source": [
    "\n",
    "numeric_features=['FatContentPercent','MoisturePercent']\n",
    "categorical_features = ['ManufacturerNameEn', 'ManufacturerNameFr', 'ManufacturerProvCode','ManufacturingTypeEn',\n",
    "                        'ManufacturingTypeFr','RipeningEn','RipeningFr','CategoryTypeEn','CategoryTypeFr',\n",
    "                        'MilkTypeEn','MilkTypeFr','MilkTreatmentTypeEn', 'MilkTreatmentTypeFr','RindTypeFr']\n",
    "binary_features =['FatLevel']\n",
    "#text_features =X_train[['FlavourEn', 'FlavourFr', 'CharacteristicsEn', 'CharacteristicsFr']]\n",
    "imp = SimpleImputer(strategy='constant')\n",
    "vect = CountVectorizer()\n",
    "\n",
    "from sklearn.preprocessing import FunctionTransformer\n",
    "one_dim = FunctionTransformer(np.reshape, kw_args={'newshape':-1})\n",
    "\n",
    "numeric_transformer = make_pipeline(SimpleImputer(strategy =\"mean\"), StandardScaler())\n",
    "categorical_transformer = make_pipeline(SimpleImputer(strategy = 'most_frequent'),OneHotEncoder(dtype=int, handle_unknown = \"ignore\" )) \n",
    "binary_transformer = make_pipeline(SimpleImputer(strategy = 'most_frequent'),OneHotEncoder(dtype=int, drop ='if_binary'))\n",
    "text_transformer =  make_pipeline(imp, one_dim, vect)\n",
    "\n",
    "\n",
    "\n",
    "\n",
    "preprocessor= make_column_transformer ( \n",
    "    (numeric_transformer, ['FatContentPercent','MoisturePercent']),\n",
    "    (categorical_transformer,['ManufacturerNameEn', 'ManufacturerNameFr', 'ManufacturerProvCode','ManufacturingTypeEn',\n",
    "                        'ManufacturingTypeFr','RipeningEn','RipeningFr','CategoryTypeEn','CategoryTypeFr',\n",
    "                        'MilkTypeEn','MilkTypeFr','MilkTreatmentTypeEn', 'MilkTreatmentTypeFr','RindTypeFr']),\n",
    "    (binary_transformer,['FatLevel']), (text_transformer,['FlavourEn']),(text_transformer,['FlavourFr']),\n",
    "    (text_transformer,['CharacteristicsEn']),(text_transformer,['CharacteristicsFr']),(text_transformer,['ParticularitiesEn']),\n",
    "    (text_transformer,['ParticularitiesFr']))                                                                                      \n",
    "\n",
    "\n",
    "main_pipe = preprocessor.fit_transform(X_train)\n",
    "\n",
    "\n",
    "df_7 = pd.DataFrame(main_pipe.toarray())\n",
    "df_7\n",
    "\n",
    "\n"
   ]
  },
  {
   "cell_type": "markdown",
   "metadata": {},
   "source": [
    "# Machine Learning Models"
   ]
  },
  {
   "cell_type": "markdown",
   "metadata": {},
   "source": [
    "# Baseline Model- Dummy Classifier"
   ]
  },
  {
   "cell_type": "code",
   "execution_count": 1434,
   "metadata": {},
   "outputs": [
    {
     "data": {
      "text/plain": [
       "Pipeline(steps=[('preprocessor',\n",
       "                 ColumnTransformer(transformers=[('pipeline-1',\n",
       "                                                  Pipeline(steps=[('simpleimputer',\n",
       "                                                                   SimpleImputer()),\n",
       "                                                                  ('standardscaler',\n",
       "                                                                   StandardScaler())]),\n",
       "                                                  ['FatContentPercent',\n",
       "                                                   'MoisturePercent']),\n",
       "                                                 ('pipeline-2',\n",
       "                                                  Pipeline(steps=[('simpleimputer',\n",
       "                                                                   SimpleImputer(strategy='most_frequent')),\n",
       "                                                                  ('onehotencoder',\n",
       "                                                                   OneHotEncoder(dtype=<class 'int'>,\n",
       "                                                                                 handl...\n",
       "                                                  ['ParticularitiesEn']),\n",
       "                                                 ('pipeline-9',\n",
       "                                                  Pipeline(steps=[('simpleimputer',\n",
       "                                                                   SimpleImputer(strategy='constant')),\n",
       "                                                                  ('functiontransformer',\n",
       "                                                                   FunctionTransformer(func=<function reshape at 0x7fb22c084310>,\n",
       "                                                                                       kw_args={'newshape': -1})),\n",
       "                                                                  ('countvectorizer',\n",
       "                                                                   CountVectorizer())]),\n",
       "                                                  ['ParticularitiesFr'])])),\n",
       "                ('classifier',\n",
       "                 DummyClassifier(random_state=77, strategy='most_frequent'))])"
      ]
     },
     "execution_count": 1434,
     "metadata": {},
     "output_type": "execute_result"
    }
   ],
   "source": [
    "main_pipe_1 = Pipeline(\n",
    "        steps = [(\"preprocessor\", preprocessor),\n",
    "                 (\"classifier\",DummyClassifier(strategy = 'most_frequent',random_state =77))\n",
    "                ])\n",
    "main_pipe_1"
   ]
  },
  {
   "cell_type": "code",
   "execution_count": 1435,
   "metadata": {},
   "outputs": [],
   "source": [
    "model = main_pipe_1.fit (X_train,y_train)"
   ]
  },
  {
   "cell_type": "markdown",
   "metadata": {},
   "source": [
    "Let us do cross validate and create a data frame of train and test score"
   ]
  },
  {
   "cell_type": "code",
   "execution_count": 1436,
   "metadata": {},
   "outputs": [
    {
     "data": {
      "text/html": [
       "<div>\n",
       "<style scoped>\n",
       "    .dataframe tbody tr th:only-of-type {\n",
       "        vertical-align: middle;\n",
       "    }\n",
       "\n",
       "    .dataframe tbody tr th {\n",
       "        vertical-align: top;\n",
       "    }\n",
       "\n",
       "    .dataframe thead th {\n",
       "        text-align: right;\n",
       "    }\n",
       "</style>\n",
       "<table border=\"1\" class=\"dataframe\">\n",
       "  <thead>\n",
       "    <tr style=\"text-align: right;\">\n",
       "      <th></th>\n",
       "      <th>fit_time</th>\n",
       "      <th>score_time</th>\n",
       "      <th>test_score</th>\n",
       "      <th>train_score</th>\n",
       "    </tr>\n",
       "  </thead>\n",
       "  <tbody>\n",
       "    <tr>\n",
       "      <th>0</th>\n",
       "      <td>0.131183</td>\n",
       "      <td>0.042247</td>\n",
       "      <td>0.917749</td>\n",
       "      <td>0.921739</td>\n",
       "    </tr>\n",
       "    <tr>\n",
       "      <th>1</th>\n",
       "      <td>0.119002</td>\n",
       "      <td>0.039348</td>\n",
       "      <td>0.921739</td>\n",
       "      <td>0.920738</td>\n",
       "    </tr>\n",
       "    <tr>\n",
       "      <th>2</th>\n",
       "      <td>0.117119</td>\n",
       "      <td>0.041651</td>\n",
       "      <td>0.921739</td>\n",
       "      <td>0.920738</td>\n",
       "    </tr>\n",
       "    <tr>\n",
       "      <th>3</th>\n",
       "      <td>0.121022</td>\n",
       "      <td>0.043287</td>\n",
       "      <td>0.921739</td>\n",
       "      <td>0.920738</td>\n",
       "    </tr>\n",
       "    <tr>\n",
       "      <th>4</th>\n",
       "      <td>0.117496</td>\n",
       "      <td>0.041707</td>\n",
       "      <td>0.921739</td>\n",
       "      <td>0.920738</td>\n",
       "    </tr>\n",
       "  </tbody>\n",
       "</table>\n",
       "</div>"
      ],
      "text/plain": [
       "   fit_time  score_time  test_score  train_score\n",
       "0  0.131183    0.042247    0.917749     0.921739\n",
       "1  0.119002    0.039348    0.921739     0.920738\n",
       "2  0.117119    0.041651    0.921739     0.920738\n",
       "3  0.121022    0.043287    0.921739     0.920738\n",
       "4  0.117496    0.041707    0.921739     0.920738"
      ]
     },
     "execution_count": 1436,
     "metadata": {},
     "output_type": "execute_result"
    }
   ],
   "source": [
    "\n",
    "cv_scores = cross_validate(main_pipe_1,X_train,y_train, cv=5, return_train_score =True)\n",
    "dummy_scores = pd.DataFrame (cv_scores)\n",
    "dummy_scores"
   ]
  },
  {
   "cell_type": "markdown",
   "metadata": {},
   "source": [
    "Let us look at the mean train score for our validation split"
   ]
  },
  {
   "cell_type": "code",
   "execution_count": 1437,
   "metadata": {},
   "outputs": [
    {
     "data": {
      "text/plain": [
       "0.9209384884105178"
      ]
     },
     "execution_count": 1437,
     "metadata": {},
     "output_type": "execute_result"
    }
   ],
   "source": [
    "dummy_scores[['train_score']].mean()[0]"
   ]
  },
  {
   "cell_type": "markdown",
   "metadata": {},
   "source": [
    "We are getting a very high 'score'with our baseline model because the Data set is highly un-balanced "
   ]
  },
  {
   "cell_type": "code",
   "execution_count": 1438,
   "metadata": {},
   "outputs": [
    {
     "data": {
      "text/plain": [
       "Organic\n",
       "0          1060\n",
       "1            91\n",
       "dtype: int64"
      ]
     },
     "execution_count": 1438,
     "metadata": {},
     "output_type": "execute_result"
    }
   ],
   "source": [
    "pd.DataFrame (y_train).value_counts()"
   ]
  },
  {
   "cell_type": "markdown",
   "metadata": {},
   "source": [
    "To properly our baseline model, let us use the other model performing metrics. This will help us properly evaluate the performance of other models (based on more adavance algorithms) against our base line model "
   ]
  },
  {
   "cell_type": "code",
   "execution_count": 1439,
   "metadata": {},
   "outputs": [
    {
     "data": {
      "text/html": [
       "<div>\n",
       "<style scoped>\n",
       "    .dataframe tbody tr th:only-of-type {\n",
       "        vertical-align: middle;\n",
       "    }\n",
       "\n",
       "    .dataframe tbody tr th {\n",
       "        vertical-align: top;\n",
       "    }\n",
       "\n",
       "    .dataframe thead th {\n",
       "        text-align: right;\n",
       "    }\n",
       "</style>\n",
       "<table border=\"1\" class=\"dataframe\">\n",
       "  <thead>\n",
       "    <tr style=\"text-align: right;\">\n",
       "      <th></th>\n",
       "      <th>fit_time</th>\n",
       "      <th>score_time</th>\n",
       "      <th>test_accuracy</th>\n",
       "      <th>train_accuracy</th>\n",
       "      <th>test_f1</th>\n",
       "      <th>train_f1</th>\n",
       "      <th>test_recall</th>\n",
       "      <th>train_recall</th>\n",
       "      <th>test_precision</th>\n",
       "      <th>train_precision</th>\n",
       "    </tr>\n",
       "  </thead>\n",
       "  <tbody>\n",
       "    <tr>\n",
       "      <th>0</th>\n",
       "      <td>0.119384</td>\n",
       "      <td>0.042799</td>\n",
       "      <td>0.865801</td>\n",
       "      <td>0.852174</td>\n",
       "      <td>0.162162</td>\n",
       "      <td>0.055556</td>\n",
       "      <td>0.157895</td>\n",
       "      <td>0.055556</td>\n",
       "      <td>0.166667</td>\n",
       "      <td>0.055556</td>\n",
       "    </tr>\n",
       "    <tr>\n",
       "      <th>1</th>\n",
       "      <td>0.125218</td>\n",
       "      <td>0.040455</td>\n",
       "      <td>0.865217</td>\n",
       "      <td>0.852334</td>\n",
       "      <td>0.060606</td>\n",
       "      <td>0.042254</td>\n",
       "      <td>0.055556</td>\n",
       "      <td>0.041096</td>\n",
       "      <td>0.066667</td>\n",
       "      <td>0.043478</td>\n",
       "    </tr>\n",
       "    <tr>\n",
       "      <th>2</th>\n",
       "      <td>0.207726</td>\n",
       "      <td>0.097682</td>\n",
       "      <td>0.843478</td>\n",
       "      <td>0.864278</td>\n",
       "      <td>0.052632</td>\n",
       "      <td>0.113475</td>\n",
       "      <td>0.055556</td>\n",
       "      <td>0.109589</td>\n",
       "      <td>0.050000</td>\n",
       "      <td>0.117647</td>\n",
       "    </tr>\n",
       "    <tr>\n",
       "      <th>3</th>\n",
       "      <td>0.308821</td>\n",
       "      <td>0.112070</td>\n",
       "      <td>0.865217</td>\n",
       "      <td>0.847991</td>\n",
       "      <td>0.060606</td>\n",
       "      <td>0.113924</td>\n",
       "      <td>0.055556</td>\n",
       "      <td>0.123288</td>\n",
       "      <td>0.066667</td>\n",
       "      <td>0.105882</td>\n",
       "    </tr>\n",
       "    <tr>\n",
       "      <th>4</th>\n",
       "      <td>0.303366</td>\n",
       "      <td>0.095108</td>\n",
       "      <td>0.847826</td>\n",
       "      <td>0.861021</td>\n",
       "      <td>0.102564</td>\n",
       "      <td>0.058824</td>\n",
       "      <td>0.111111</td>\n",
       "      <td>0.054795</td>\n",
       "      <td>0.095238</td>\n",
       "      <td>0.063492</td>\n",
       "    </tr>\n",
       "  </tbody>\n",
       "</table>\n",
       "</div>"
      ],
      "text/plain": [
       "   fit_time  score_time  test_accuracy  train_accuracy   test_f1  train_f1  \\\n",
       "0  0.119384    0.042799       0.865801        0.852174  0.162162  0.055556   \n",
       "1  0.125218    0.040455       0.865217        0.852334  0.060606  0.042254   \n",
       "2  0.207726    0.097682       0.843478        0.864278  0.052632  0.113475   \n",
       "3  0.308821    0.112070       0.865217        0.847991  0.060606  0.113924   \n",
       "4  0.303366    0.095108       0.847826        0.861021  0.102564  0.058824   \n",
       "\n",
       "   test_recall  train_recall  test_precision  train_precision  \n",
       "0     0.157895      0.055556        0.166667         0.055556  \n",
       "1     0.055556      0.041096        0.066667         0.043478  \n",
       "2     0.055556      0.109589        0.050000         0.117647  \n",
       "3     0.055556      0.123288        0.066667         0.105882  \n",
       "4     0.111111      0.054795        0.095238         0.063492  "
      ]
     },
     "execution_count": 1439,
     "metadata": {},
     "output_type": "execute_result"
    }
   ],
   "source": [
    "from sklearn.metrics import accuracy_score,precision_score, recall_score, f1_score\n",
    "from sklearn.metrics import make_scorer\n",
    "\n",
    "main_pipe_dummy = Pipeline(\n",
    "        steps = [(\"preprocessor\", preprocessor),\n",
    "                 (\"classifier\",DummyClassifier(strategy = 'stratified'))\n",
    "                ])\n",
    "main_pipe_1\n",
    "# create a Model \n",
    "#dummy_model =DummyClassifier(strategy ='stratified')\n",
    "dummy_scores_others = cross_validate(main_pipe_dummy,X_train,y_train,cv=5,scoring =('accuracy','f1','recall','precision'),return_train_score =True)\n",
    "dummy_scores_others = pd.DataFrame(dummy_scores_others)\n",
    "dummy_scores_others"
   ]
  },
  {
   "cell_type": "code",
   "execution_count": 1440,
   "metadata": {},
   "outputs": [
    {
     "data": {
      "text/plain": [
       "fit_time           0.212903\n",
       "score_time         0.077623\n",
       "test_accuracy      0.857508\n",
       "train_accuracy     0.855560\n",
       "test_f1            0.087714\n",
       "train_f1           0.076806\n",
       "test_recall        0.087135\n",
       "train_recall       0.076865\n",
       "test_precision     0.089048\n",
       "train_precision    0.077211\n",
       "dtype: float64"
      ]
     },
     "execution_count": 1440,
     "metadata": {},
     "output_type": "execute_result"
    }
   ],
   "source": [
    "dummy_scores_others_mean = dummy_scores_others.mean()\n",
    "dummy_scores_others_mean"
   ]
  },
  {
   "cell_type": "markdown",
   "metadata": {},
   "source": [
    "As this is a Classification Problem , let us use Random Forest Classifier and Logistic Regressor as the more advanced algorithms to make our Prediction "
   ]
  },
  {
   "cell_type": "markdown",
   "metadata": {},
   "source": [
    "# More Advanced Algorithms"
   ]
  },
  {
   "cell_type": "markdown",
   "metadata": {},
   "source": [
    "# Random Forest Classifier - a very Popular Machine Learning Model"
   ]
  },
  {
   "cell_type": "markdown",
   "metadata": {},
   "source": [
    "** Creating a basic balanced and unbalanced random forest model and using cross validation and F1 Score to measure their performance"
   ]
  },
  {
   "cell_type": "markdown",
   "metadata": {},
   "source": [
    "Unbalanced Pipeline without any argument catering for the unbalanced data set / class weight . "
   ]
  },
  {
   "cell_type": "markdown",
   "metadata": {},
   "source": [
    "please note that for cross validate below, I have passed a set of scoring metrics as our target vector is unbalanced and also our positive class is Organic, so the recall score is an important metric for us to understand the performance of our Machine Learning Model"
   ]
  },
  {
   "cell_type": "code",
   "execution_count": 1441,
   "metadata": {},
   "outputs": [
    {
     "data": {
      "text/html": [
       "<div>\n",
       "<style scoped>\n",
       "    .dataframe tbody tr th:only-of-type {\n",
       "        vertical-align: middle;\n",
       "    }\n",
       "\n",
       "    .dataframe tbody tr th {\n",
       "        vertical-align: top;\n",
       "    }\n",
       "\n",
       "    .dataframe thead th {\n",
       "        text-align: right;\n",
       "    }\n",
       "</style>\n",
       "<table border=\"1\" class=\"dataframe\">\n",
       "  <thead>\n",
       "    <tr style=\"text-align: right;\">\n",
       "      <th></th>\n",
       "      <th>fit_time</th>\n",
       "      <th>score_time</th>\n",
       "      <th>test_accuracy</th>\n",
       "      <th>train_accuracy</th>\n",
       "      <th>test_f1</th>\n",
       "      <th>train_f1</th>\n",
       "      <th>test_recall</th>\n",
       "      <th>train_recall</th>\n",
       "      <th>test_precision</th>\n",
       "      <th>train_precision</th>\n",
       "    </tr>\n",
       "  </thead>\n",
       "  <tbody>\n",
       "    <tr>\n",
       "      <th>0</th>\n",
       "      <td>0.434415</td>\n",
       "      <td>0.063337</td>\n",
       "      <td>0.961039</td>\n",
       "      <td>1.0</td>\n",
       "      <td>0.709677</td>\n",
       "      <td>1.0</td>\n",
       "      <td>0.578947</td>\n",
       "      <td>1.0</td>\n",
       "      <td>0.916667</td>\n",
       "      <td>1.0</td>\n",
       "    </tr>\n",
       "    <tr>\n",
       "      <th>1</th>\n",
       "      <td>0.407605</td>\n",
       "      <td>0.059060</td>\n",
       "      <td>0.960870</td>\n",
       "      <td>1.0</td>\n",
       "      <td>0.666667</td>\n",
       "      <td>1.0</td>\n",
       "      <td>0.500000</td>\n",
       "      <td>1.0</td>\n",
       "      <td>1.000000</td>\n",
       "      <td>1.0</td>\n",
       "    </tr>\n",
       "    <tr>\n",
       "      <th>2</th>\n",
       "      <td>0.408849</td>\n",
       "      <td>0.061971</td>\n",
       "      <td>0.956522</td>\n",
       "      <td>1.0</td>\n",
       "      <td>0.615385</td>\n",
       "      <td>1.0</td>\n",
       "      <td>0.444444</td>\n",
       "      <td>1.0</td>\n",
       "      <td>1.000000</td>\n",
       "      <td>1.0</td>\n",
       "    </tr>\n",
       "    <tr>\n",
       "      <th>3</th>\n",
       "      <td>0.455153</td>\n",
       "      <td>0.070188</td>\n",
       "      <td>0.960870</td>\n",
       "      <td>1.0</td>\n",
       "      <td>0.666667</td>\n",
       "      <td>1.0</td>\n",
       "      <td>0.500000</td>\n",
       "      <td>1.0</td>\n",
       "      <td>1.000000</td>\n",
       "      <td>1.0</td>\n",
       "    </tr>\n",
       "    <tr>\n",
       "      <th>4</th>\n",
       "      <td>0.423744</td>\n",
       "      <td>0.062706</td>\n",
       "      <td>0.960870</td>\n",
       "      <td>1.0</td>\n",
       "      <td>0.666667</td>\n",
       "      <td>1.0</td>\n",
       "      <td>0.500000</td>\n",
       "      <td>1.0</td>\n",
       "      <td>1.000000</td>\n",
       "      <td>1.0</td>\n",
       "    </tr>\n",
       "  </tbody>\n",
       "</table>\n",
       "</div>"
      ],
      "text/plain": [
       "   fit_time  score_time  test_accuracy  train_accuracy   test_f1  train_f1  \\\n",
       "0  0.434415    0.063337       0.961039             1.0  0.709677       1.0   \n",
       "1  0.407605    0.059060       0.960870             1.0  0.666667       1.0   \n",
       "2  0.408849    0.061971       0.956522             1.0  0.615385       1.0   \n",
       "3  0.455153    0.070188       0.960870             1.0  0.666667       1.0   \n",
       "4  0.423744    0.062706       0.960870             1.0  0.666667       1.0   \n",
       "\n",
       "   test_recall  train_recall  test_precision  train_precision  \n",
       "0     0.578947           1.0        0.916667              1.0  \n",
       "1     0.500000           1.0        1.000000              1.0  \n",
       "2     0.444444           1.0        1.000000              1.0  \n",
       "3     0.500000           1.0        1.000000              1.0  \n",
       "4     0.500000           1.0        1.000000              1.0  "
      ]
     },
     "execution_count": 1441,
     "metadata": {},
     "output_type": "execute_result"
    }
   ],
   "source": [
    "from sklearn.ensemble import RandomForestClassifier, RandomForestRegressor\n",
    "unbalanced_pipe = make_pipeline(preprocessor,(RandomForestClassifier(random_state =77)))\n",
    "rf_unbalanced_scores =cross_validate(unbalanced_pipe,X_train,y_train,cv=5,scoring =('accuracy','f1','recall','precision'),return_train_score =True)\n",
    "rf_unbalanced_scores =pd.DataFrame(rf_unbalanced_scores)\n",
    "rf_unbalanced_scores"
   ]
  },
  {
   "cell_type": "code",
   "execution_count": 1442,
   "metadata": {},
   "outputs": [
    {
     "data": {
      "text/plain": [
       "fit_time           0.425953\n",
       "score_time         0.063452\n",
       "test_accuracy      0.960034\n",
       "train_accuracy     1.000000\n",
       "test_f1            0.665012\n",
       "train_f1           1.000000\n",
       "test_recall        0.504678\n",
       "train_recall       1.000000\n",
       "test_precision     0.983333\n",
       "train_precision    1.000000\n",
       "dtype: float64"
      ]
     },
     "execution_count": 1442,
     "metadata": {},
     "output_type": "execute_result"
    }
   ],
   "source": [
    "rf_unbalanced_mean =rf_unbalanced_scores.mean()\n",
    "rf_unbalanced_mean"
   ]
  },
  {
   "cell_type": "markdown",
   "metadata": {},
   "source": [
    "Balanced Pipeline with class weight equal to balanced"
   ]
  },
  {
   "cell_type": "code",
   "execution_count": 1443,
   "metadata": {},
   "outputs": [
    {
     "data": {
      "text/html": [
       "<div>\n",
       "<style scoped>\n",
       "    .dataframe tbody tr th:only-of-type {\n",
       "        vertical-align: middle;\n",
       "    }\n",
       "\n",
       "    .dataframe tbody tr th {\n",
       "        vertical-align: top;\n",
       "    }\n",
       "\n",
       "    .dataframe thead th {\n",
       "        text-align: right;\n",
       "    }\n",
       "</style>\n",
       "<table border=\"1\" class=\"dataframe\">\n",
       "  <thead>\n",
       "    <tr style=\"text-align: right;\">\n",
       "      <th></th>\n",
       "      <th>fit_time</th>\n",
       "      <th>score_time</th>\n",
       "      <th>test_accuracy</th>\n",
       "      <th>train_accuracy</th>\n",
       "      <th>test_f1</th>\n",
       "      <th>train_f1</th>\n",
       "      <th>test_recall</th>\n",
       "      <th>train_recall</th>\n",
       "      <th>test_precision</th>\n",
       "      <th>train_precision</th>\n",
       "    </tr>\n",
       "  </thead>\n",
       "  <tbody>\n",
       "    <tr>\n",
       "      <th>0</th>\n",
       "      <td>0.457063</td>\n",
       "      <td>0.061551</td>\n",
       "      <td>0.956710</td>\n",
       "      <td>1.0</td>\n",
       "      <td>0.687500</td>\n",
       "      <td>1.0</td>\n",
       "      <td>0.578947</td>\n",
       "      <td>1.0</td>\n",
       "      <td>0.846154</td>\n",
       "      <td>1.0</td>\n",
       "    </tr>\n",
       "    <tr>\n",
       "      <th>1</th>\n",
       "      <td>0.436913</td>\n",
       "      <td>0.062351</td>\n",
       "      <td>0.952174</td>\n",
       "      <td>1.0</td>\n",
       "      <td>0.560000</td>\n",
       "      <td>1.0</td>\n",
       "      <td>0.388889</td>\n",
       "      <td>1.0</td>\n",
       "      <td>1.000000</td>\n",
       "      <td>1.0</td>\n",
       "    </tr>\n",
       "    <tr>\n",
       "      <th>2</th>\n",
       "      <td>0.431151</td>\n",
       "      <td>0.059108</td>\n",
       "      <td>0.943478</td>\n",
       "      <td>1.0</td>\n",
       "      <td>0.434783</td>\n",
       "      <td>1.0</td>\n",
       "      <td>0.277778</td>\n",
       "      <td>1.0</td>\n",
       "      <td>1.000000</td>\n",
       "      <td>1.0</td>\n",
       "    </tr>\n",
       "    <tr>\n",
       "      <th>3</th>\n",
       "      <td>0.463154</td>\n",
       "      <td>0.099306</td>\n",
       "      <td>0.956522</td>\n",
       "      <td>1.0</td>\n",
       "      <td>0.642857</td>\n",
       "      <td>1.0</td>\n",
       "      <td>0.500000</td>\n",
       "      <td>1.0</td>\n",
       "      <td>0.900000</td>\n",
       "      <td>1.0</td>\n",
       "    </tr>\n",
       "    <tr>\n",
       "      <th>4</th>\n",
       "      <td>0.536353</td>\n",
       "      <td>0.060375</td>\n",
       "      <td>0.956522</td>\n",
       "      <td>1.0</td>\n",
       "      <td>0.615385</td>\n",
       "      <td>1.0</td>\n",
       "      <td>0.444444</td>\n",
       "      <td>1.0</td>\n",
       "      <td>1.000000</td>\n",
       "      <td>1.0</td>\n",
       "    </tr>\n",
       "  </tbody>\n",
       "</table>\n",
       "</div>"
      ],
      "text/plain": [
       "   fit_time  score_time  test_accuracy  train_accuracy   test_f1  train_f1  \\\n",
       "0  0.457063    0.061551       0.956710             1.0  0.687500       1.0   \n",
       "1  0.436913    0.062351       0.952174             1.0  0.560000       1.0   \n",
       "2  0.431151    0.059108       0.943478             1.0  0.434783       1.0   \n",
       "3  0.463154    0.099306       0.956522             1.0  0.642857       1.0   \n",
       "4  0.536353    0.060375       0.956522             1.0  0.615385       1.0   \n",
       "\n",
       "   test_recall  train_recall  test_precision  train_precision  \n",
       "0     0.578947           1.0        0.846154              1.0  \n",
       "1     0.388889           1.0        1.000000              1.0  \n",
       "2     0.277778           1.0        1.000000              1.0  \n",
       "3     0.500000           1.0        0.900000              1.0  \n",
       "4     0.444444           1.0        1.000000              1.0  "
      ]
     },
     "execution_count": 1443,
     "metadata": {},
     "output_type": "execute_result"
    }
   ],
   "source": [
    "balanced_pipe = make_pipeline(preprocessor,(RandomForestClassifier(class_weight =\"balanced\",random_state =77)))\n",
    "rf_balanced_scores =cross_validate(balanced_pipe,X_train,y_train,cv=5,scoring =('accuracy','f1','recall','precision'),return_train_score =True)\n",
    "rf_balanced_scores =pd.DataFrame(rf_balanced_scores)\n",
    "rf_balanced_scores"
   ]
  },
  {
   "cell_type": "code",
   "execution_count": 1444,
   "metadata": {},
   "outputs": [
    {
     "data": {
      "text/plain": [
       "fit_time           0.464927\n",
       "score_time         0.068538\n",
       "test_accuracy      0.953081\n",
       "train_accuracy     1.000000\n",
       "test_f1            0.588105\n",
       "train_f1           1.000000\n",
       "test_recall        0.438012\n",
       "train_recall       1.000000\n",
       "test_precision     0.949231\n",
       "train_precision    1.000000\n",
       "dtype: float64"
      ]
     },
     "execution_count": 1444,
     "metadata": {},
     "output_type": "execute_result"
    }
   ],
   "source": [
    "rf_balanced_mean = rf_balanced_scores.mean()\n",
    "rf_balanced_mean"
   ]
  },
  {
   "cell_type": "code",
   "execution_count": 1445,
   "metadata": {},
   "outputs": [
    {
     "name": "stdout",
     "output_type": "stream",
     "text": [
      "Dummy Model, Mean Test accuracy 0.86\n",
      "Dummy Model, Mean f1 Score 0.09\n",
      "Balanced RF Model, Mean Test accuracy 0.95\n",
      "Balanced RF Model, Mean Test F1 Score 0.59\n",
      "UnBalanced RF Model, Mean Test  accuracy 0.96\n",
      "UnBalanced RF Model, Mean Test F1 Score 0.67\n"
     ]
    }
   ],
   "source": [
    "print ( \"Dummy Model, Mean Test accuracy\", round (dummy_scores_others_mean['test_accuracy'],2))\n",
    "print ( \"Dummy Model, Mean f1 Score\", round (dummy_scores_others_mean['test_f1'],2))\n",
    "print ( \"Balanced RF Model, Mean Test accuracy\", round (rf_balanced_mean['test_accuracy'],2))\n",
    "print ( \"Balanced RF Model, Mean Test F1 Score\", round (rf_balanced_mean['test_f1'],2))\n",
    "print ( \"UnBalanced RF Model, Mean Test  accuracy\", round(rf_unbalanced_mean['test_accuracy'],2))\n",
    "print ( \"UnBalanced RF Model, Mean Test F1 Score\", round (rf_unbalanced_mean['test_f1'],2))"
   ]
  },
  {
   "cell_type": "markdown",
   "metadata": {},
   "source": [
    "As can be seen above the F1 Score of the Unbalanced Random Forest Model is slightly better than Balanced Random Forest at this time, which is bit surprising as we are dealing with un-balanced data set. However the F1 Scores of both Models are  quite low at this time. However based on F1 Scores, Random Forest Classifier is performing much better than the baseline model"
   ]
  },
  {
   "cell_type": "markdown",
   "metadata": {},
   "source": [
    "** Creating a basic balanced and unbalanced random forest model pipeline and tuning hyperparameters to improve their performance"
   ]
  },
  {
   "cell_type": "markdown",
   "metadata": {},
   "source": [
    "Un-balanced Pipeline without class weight set to default (un-balanced) and optimising hyperparameters"
   ]
  },
  {
   "cell_type": "code",
   "execution_count": 1446,
   "metadata": {},
   "outputs": [
    {
     "name": "stdout",
     "output_type": "stream",
     "text": [
      "Fitting 3 folds for each of 50 candidates, totalling 150 fits\n"
     ]
    },
    {
     "name": "stderr",
     "output_type": "stream",
     "text": [
      "[Parallel(n_jobs=-1)]: Using backend SequentialBackend with 1 concurrent workers.\n",
      "[Parallel(n_jobs=-1)]: Done 150 out of 150 | elapsed:  1.5min finished\n"
     ]
    },
    {
     "data": {
      "text/plain": [
       "RandomizedSearchCV(cv=3,\n",
       "                   estimator=Pipeline(steps=[('columntransformer',\n",
       "                                              ColumnTransformer(transformers=[('pipeline-1',\n",
       "                                                                               Pipeline(steps=[('simpleimputer',\n",
       "                                                                                                SimpleImputer()),\n",
       "                                                                                               ('standardscaler',\n",
       "                                                                                                StandardScaler())]),\n",
       "                                                                               ['FatContentPercent',\n",
       "                                                                                'MoisturePercent']),\n",
       "                                                                              ('pipeline-2',\n",
       "                                                                               Pipeline(steps=[('simpleimputer',\n",
       "                                                                                                SimpleImputer(strategy='most_frequent')),\n",
       "                                                                                               ('onehotencoder'...\n",
       "                                             ('randomforestclassifier',\n",
       "                                              RandomForestClassifier(random_state=123))]),\n",
       "                   n_iter=50, n_jobs=-1,\n",
       "                   param_distributions={'randomforestclassifier__max_depth': <scipy.stats._distn_infrastructure.rv_frozen object at 0x7fb1aa1d7f40>,\n",
       "                                        'randomforestclassifier__n_estimators': <scipy.stats._distn_infrastructure.rv_frozen object at 0x7fb1aa1d7af0>},\n",
       "                   random_state=123, scoring='f1', verbose=1)"
      ]
     },
     "execution_count": 1446,
     "metadata": {},
     "output_type": "execute_result"
    }
   ],
   "source": [
    "import scipy\n",
    "from scipy.stats import randint\n",
    "\n",
    "rf_pipeline = make_pipeline(\n",
    "    preprocessor, RandomForestClassifier(random_state=123)\n",
    ")\n",
    "\n",
    "param_dist = {\n",
    "    \"randomforestclassifier__n_estimators\": scipy.stats.randint(low=10, high=300),\n",
    "    \"randomforestclassifier__max_depth\": scipy.stats.randint(low=2, high=20),\n",
    "}\n",
    "\n",
    "random_search_unbalanced = RandomizedSearchCV(\n",
    "    rf_pipeline,\n",
    "    param_dist,\n",
    "    n_iter=50,\n",
    "    cv=3,\n",
    "    verbose=1,\n",
    "    n_jobs=-1,\n",
    "    scoring=\"f1\",\n",
    "    random_state=123,\n",
    ")\n",
    "random_search_unbalanced.fit(X_train, y_train)\n"
   ]
  },
  {
   "cell_type": "markdown",
   "metadata": {},
   "source": [
    "Let us look at the best values of hyper parameters and the corresponding scores"
   ]
  },
  {
   "cell_type": "code",
   "execution_count": 1447,
   "metadata": {},
   "outputs": [
    {
     "data": {
      "text/plain": [
       "({'randomforestclassifier__max_depth': 19,\n",
       "  'randomforestclassifier__n_estimators': 12},\n",
       " 0.5493260127406469)"
      ]
     },
     "execution_count": 1447,
     "metadata": {},
     "output_type": "execute_result"
    }
   ],
   "source": [
    "optimal_parameters_unbalanced = random_search_unbalanced.best_params_\n",
    "optimal_parameters\n",
    "\n",
    "optimal_score_unbalanced = random_search_unbalanced.best_score_\n",
    "optimal_score\n",
    "\n",
    "optimal_parameters_unbalanced,optimal_score_unbalanced"
   ]
  },
  {
   "cell_type": "markdown",
   "metadata": {},
   "source": [
    "Let us create our best model based on the hyperparameters without catering for unbalanced class weight in our target column "
   ]
  },
  {
   "cell_type": "code",
   "execution_count": 1448,
   "metadata": {},
   "outputs": [
    {
     "data": {
      "text/plain": [
       "0.9444444444444444"
      ]
     },
     "execution_count": 1448,
     "metadata": {},
     "output_type": "execute_result"
    }
   ],
   "source": [
    "best_pipeline_unbalanced = make_pipeline(preprocessor, \n",
    "                              RandomForestClassifier(n_estimators =12,max_depth =19,random_state=123)\n",
    "                             )\n",
    "best_pipeline_unbalanced.fit(X_train,y_train)\n",
    "training_score_unbalanced=best_pipeline_unbalanced.score(X_train,y_train)\n",
    "training_score_unbalanced\n",
    "\n",
    "#best_pipeline.fit(X_test,y_test)\n",
    "testing_score_unbalanced=best_pipeline_unbalanced.score(X_test,y_test)\n",
    "testing_score_unbalanced"
   ]
  },
  {
   "cell_type": "markdown",
   "metadata": {},
   "source": [
    "Let us create Confusion Matrix to see how successful our model is in predicting that Cheese is Organic as mentioned above in our Problem Statement"
   ]
  },
  {
   "cell_type": "code",
   "execution_count": 1449,
   "metadata": {},
   "outputs": [],
   "source": [
    "from sklearn.metrics import confusion_matrix\n",
    "\n",
    "# Library for printing a Classification Report\n",
    "from sklearn.metrics import classification_report "
   ]
  },
  {
   "cell_type": "markdown",
   "metadata": {},
   "source": [
    "Let us fit our best model , in this scenario to the entire train data set"
   ]
  },
  {
   "cell_type": "code",
   "execution_count": 1450,
   "metadata": {},
   "outputs": [],
   "source": [
    "best_model_unbalanced_rf = best_pipeline_unbalanced.fit(X_train,y_train)"
   ]
  },
  {
   "cell_type": "code",
   "execution_count": 1451,
   "metadata": {},
   "outputs": [
    {
     "data": {
      "text/plain": [
       "<sklearn.metrics._plot.confusion_matrix.ConfusionMatrixDisplay at 0x7fb1af519970>"
      ]
     },
     "execution_count": 1451,
     "metadata": {},
     "output_type": "execute_result"
    },
    {
     "data": {
      "image/png": "[encoded data removed]",
      "text/plain": [
       "<Figure size 432x288 with 2 Axes>"
      ]
     },
     "metadata": {
      "needs_background": "light"
     },
     "output_type": "display_data"
    }
   ],
   "source": [
    "from sklearn.metrics import plot_confusion_matrix\n",
    "cm_plot_unbalanced = plot_confusion_matrix(best_model_unbalanced_rf,X_test,y_test,normalize ='true')\n",
    "cm_plot_unbalanced"
   ]
  },
  {
   "cell_type": "markdown",
   "metadata": {},
   "source": [
    "Classification Report for our best Model with Unbalanced Pipeline"
   ]
  },
  {
   "cell_type": "code",
   "execution_count": 1452,
   "metadata": {},
   "outputs": [
    {
     "name": "stdout",
     "output_type": "stream",
     "text": [
      "              precision    recall  f1-score   support\n",
      "\n",
      "           0     0.9418    1.0000    0.9700       259\n",
      "           1     1.0000    0.4483    0.6190        29\n",
      "\n",
      "    accuracy                         0.9444       288\n",
      "   macro avg     0.9709    0.7241    0.7945       288\n",
      "weighted avg     0.9477    0.9444    0.9347       288\n",
      "\n"
     ]
    }
   ],
   "source": [
    "\n",
    "print(classification_report(y_test,best_model_unbalanced_rf.predict(X_test), target_names =[\"0\", \"1\"],digits=4))\n"
   ]
  },
  {
   "cell_type": "markdown",
   "metadata": {},
   "source": [
    "Based  on the confusion matrix and also the classification report,it is clear that the recall and f1 score is quite low , still"
   ]
  },
  {
   "cell_type": "markdown",
   "metadata": {},
   "source": [
    "Balanced Pipeline with class weight set to Balanced and optimising hyperparameters"
   ]
  },
  {
   "cell_type": "code",
   "execution_count": 1453,
   "metadata": {},
   "outputs": [
    {
     "name": "stdout",
     "output_type": "stream",
     "text": [
      "Fitting 3 folds for each of 50 candidates, totalling 150 fits\n"
     ]
    },
    {
     "name": "stderr",
     "output_type": "stream",
     "text": [
      "[Parallel(n_jobs=-1)]: Using backend SequentialBackend with 1 concurrent workers.\n",
      "[Parallel(n_jobs=-1)]: Done 150 out of 150 | elapsed:  1.6min finished\n"
     ]
    },
    {
     "data": {
      "text/plain": [
       "RandomizedSearchCV(cv=3,\n",
       "                   estimator=Pipeline(steps=[('columntransformer',\n",
       "                                              ColumnTransformer(transformers=[('pipeline-1',\n",
       "                                                                               Pipeline(steps=[('simpleimputer',\n",
       "                                                                                                SimpleImputer()),\n",
       "                                                                                               ('standardscaler',\n",
       "                                                                                                StandardScaler())]),\n",
       "                                                                               ['FatContentPercent',\n",
       "                                                                                'MoisturePercent']),\n",
       "                                                                              ('pipeline-2',\n",
       "                                                                               Pipeline(steps=[('simpleimputer',\n",
       "                                                                                                SimpleImputer(strategy='most_frequent')),\n",
       "                                                                                               ('onehotencoder'...\n",
       "                                              RandomForestClassifier(class_weight='balanced',\n",
       "                                                                     random_state=123))]),\n",
       "                   n_iter=50, n_jobs=-1,\n",
       "                   param_distributions={'randomforestclassifier__max_depth': <scipy.stats._distn_infrastructure.rv_frozen object at 0x7fb1aa0e7460>,\n",
       "                                        'randomforestclassifier__n_estimators': <scipy.stats._distn_infrastructure.rv_frozen object at 0x7fb1aa3ca100>},\n",
       "                   random_state=123, scoring='f1', verbose=1)"
      ]
     },
     "execution_count": 1453,
     "metadata": {},
     "output_type": "execute_result"
    }
   ],
   "source": [
    "import scipy\n",
    "from scipy.stats import randint\n",
    "\n",
    "rf_pipeline_bal = make_pipeline(\n",
    "    preprocessor, RandomForestClassifier(class_weight =\"balanced\",random_state=123)\n",
    ")\n",
    "\n",
    "param_dist = {\n",
    "    \"randomforestclassifier__n_estimators\": scipy.stats.randint(low=10, high=300),\n",
    "    \"randomforestclassifier__max_depth\": scipy.stats.randint(low=2, high=20),\n",
    "}\n",
    "\n",
    "random_search_bal = RandomizedSearchCV(\n",
    "    rf_pipeline_bal,\n",
    "    param_dist,\n",
    "    n_iter=50,\n",
    "    cv=3,\n",
    "    verbose=1,\n",
    "    n_jobs=-1,\n",
    "    scoring=\"f1\",\n",
    "    random_state=123,\n",
    ")\n",
    "random_search_bal.fit(X_train, y_train)\n"
   ]
  },
  {
   "cell_type": "code",
   "execution_count": 1454,
   "metadata": {},
   "outputs": [
    {
     "data": {
      "text/plain": [
       "({'randomforestclassifier__max_depth': 8,\n",
       "  'randomforestclassifier__n_estimators': 126},\n",
       " 0.6791431261770245)"
      ]
     },
     "execution_count": 1454,
     "metadata": {},
     "output_type": "execute_result"
    }
   ],
   "source": [
    "optimal_parameters_bal = random_search_bal.best_params_\n",
    "optimal_parameters\n",
    "\n",
    "optimal_score_bal = random_search_bal.best_score_\n",
    "optimal_score\n",
    "\n",
    "optimal_parameters_bal,optimal_score_bal"
   ]
  },
  {
   "cell_type": "markdown",
   "metadata": {},
   "source": [
    "As you can see the overall scores (f1 and recall) are much better than baseline Model and it can certainly be a good choice for making our predictions"
   ]
  },
  {
   "cell_type": "code",
   "execution_count": 1455,
   "metadata": {},
   "outputs": [],
   "source": [
    "best_pipeline_balanced = make_pipeline(preprocessor, \n",
    "                              RandomForestClassifier(n_estimators =126,max_depth =8,class_weight = \"balanced\",random_state=123)\n",
    "                             )"
   ]
  },
  {
   "cell_type": "code",
   "execution_count": 1456,
   "metadata": {},
   "outputs": [],
   "source": [
    "best_model_balanced_rf = best_pipeline_balanced.fit(X_train,y_train)"
   ]
  },
  {
   "cell_type": "code",
   "execution_count": 1457,
   "metadata": {},
   "outputs": [
    {
     "data": {
      "text/plain": [
       "<sklearn.metrics._plot.confusion_matrix.ConfusionMatrixDisplay at 0x7fb1aa27f4c0>"
      ]
     },
     "execution_count": 1457,
     "metadata": {},
     "output_type": "execute_result"
    },
    {
     "data": {
      "image/png": "[encoded data removed]",
      "text/plain": [
       "<Figure size 432x288 with 2 Axes>"
      ]
     },
     "metadata": {
      "needs_background": "light"
     },
     "output_type": "display_data"
    }
   ],
   "source": [
    "cm_plot_balanced = plot_confusion_matrix(best_model_balanced_rf,X_test,y_test,normalize ='true')\n",
    "cm_plot_balanced"
   ]
  },
  {
   "cell_type": "code",
   "execution_count": 1458,
   "metadata": {},
   "outputs": [
    {
     "name": "stdout",
     "output_type": "stream",
     "text": [
      "              precision    recall  f1-score   support\n",
      "\n",
      "           0     0.9699    0.9961    0.9829       259\n",
      "           1     0.9545    0.7241    0.8235        29\n",
      "\n",
      "    accuracy                         0.9688       288\n",
      "   macro avg     0.9622    0.8601    0.9032       288\n",
      "weighted avg     0.9684    0.9688    0.9668       288\n",
      "\n"
     ]
    }
   ],
   "source": [
    "print(classification_report(y_test,best_model_balanced_rf.predict(X_test), target_names =[\"0\", \"1\"],digits=4))"
   ]
  },
  {
   "cell_type": "code",
   "execution_count": 1459,
   "metadata": {},
   "outputs": [
    {
     "name": "stdout",
     "output_type": "stream",
     "text": [
      "              precision    recall  f1-score   support\n",
      "\n",
      "           0     0.9878    0.9925    0.9901      1060\n",
      "           1     0.9070    0.8571    0.8814        91\n",
      "\n",
      "    accuracy                         0.9818      1151\n",
      "   macro avg     0.9474    0.9248    0.9357      1151\n",
      "weighted avg     0.9814    0.9818    0.9815      1151\n",
      "\n"
     ]
    }
   ],
   "source": [
    "print(classification_report(y_train,best_model_balanced_rf.predict(X_train), target_names =[\"0\", \"1\"],digits=4))"
   ]
  },
  {
   "cell_type": "markdown",
   "metadata": {},
   "source": [
    "** Based on the results above, the \"best model\" with balanced pipeline looks like a good choice to predict our Target Variable. The f1 Scores for our train and test data set is quite close , which means that the model is not under fitting or overfitting and also the recall score for the test data set is also reasonable. This looks like a good choice for predicting our target variable.However let us explore further the Logistic Regressor and check if we can get a better mapping function "
   ]
  },
  {
   "cell_type": "markdown",
   "metadata": {},
   "source": [
    "# Logistic Regression - a very Popular Machine Learning Linaear Model"
   ]
  },
  {
   "cell_type": "markdown",
   "metadata": {},
   "source": [
    "** Creating a best fit logistic regressor to improve F1 and Recall Score "
   ]
  },
  {
   "cell_type": "code",
   "execution_count": 1460,
   "metadata": {},
   "outputs": [],
   "source": [
    "from sklearn.linear_model import LogisticRegression"
   ]
  },
  {
   "cell_type": "code",
   "execution_count": 1461,
   "metadata": {},
   "outputs": [],
   "source": [
    "lr_pipeline = make_pipeline(\n",
    "    preprocessor, LogisticRegression(max_iter = 2000)\n",
    ")"
   ]
  },
  {
   "cell_type": "code",
   "execution_count": 1462,
   "metadata": {},
   "outputs": [
    {
     "data": {
      "text/plain": [
       "Pipeline(steps=[('columntransformer',\n",
       "                 ColumnTransformer(transformers=[('pipeline-1',\n",
       "                                                  Pipeline(steps=[('simpleimputer',\n",
       "                                                                   SimpleImputer()),\n",
       "                                                                  ('standardscaler',\n",
       "                                                                   StandardScaler())]),\n",
       "                                                  ['FatContentPercent',\n",
       "                                                   'MoisturePercent']),\n",
       "                                                 ('pipeline-2',\n",
       "                                                  Pipeline(steps=[('simpleimputer',\n",
       "                                                                   SimpleImputer(strategy='most_frequent')),\n",
       "                                                                  ('onehotencoder',\n",
       "                                                                   OneHotEncoder(dtype=<class 'int'>,...\n",
       "                                                                   CountVectorizer())]),\n",
       "                                                  ['ParticularitiesEn']),\n",
       "                                                 ('pipeline-9',\n",
       "                                                  Pipeline(steps=[('simpleimputer',\n",
       "                                                                   SimpleImputer(strategy='constant')),\n",
       "                                                                  ('functiontransformer',\n",
       "                                                                   FunctionTransformer(func=<function reshape at 0x7fb22c084310>,\n",
       "                                                                                       kw_args={'newshape': -1})),\n",
       "                                                                  ('countvectorizer',\n",
       "                                                                   CountVectorizer())]),\n",
       "                                                  ['ParticularitiesFr'])])),\n",
       "                ('logisticregression', LogisticRegression(max_iter=2000))])"
      ]
     },
     "execution_count": 1462,
     "metadata": {},
     "output_type": "execute_result"
    }
   ],
   "source": [
    "lr_pipeline"
   ]
  },
  {
   "cell_type": "code",
   "execution_count": 1463,
   "metadata": {},
   "outputs": [
    {
     "data": {
      "text/html": [
       "<div>\n",
       "<style scoped>\n",
       "    .dataframe tbody tr th:only-of-type {\n",
       "        vertical-align: middle;\n",
       "    }\n",
       "\n",
       "    .dataframe tbody tr th {\n",
       "        vertical-align: top;\n",
       "    }\n",
       "\n",
       "    .dataframe thead th {\n",
       "        text-align: right;\n",
       "    }\n",
       "</style>\n",
       "<table border=\"1\" class=\"dataframe\">\n",
       "  <thead>\n",
       "    <tr style=\"text-align: right;\">\n",
       "      <th></th>\n",
       "      <th>fit_time</th>\n",
       "      <th>score_time</th>\n",
       "      <th>test_accuracy</th>\n",
       "      <th>train_accuracy</th>\n",
       "      <th>test_f1</th>\n",
       "      <th>train_f1</th>\n",
       "      <th>test_recall</th>\n",
       "      <th>train_recall</th>\n",
       "      <th>test_precision</th>\n",
       "      <th>train_precision</th>\n",
       "    </tr>\n",
       "  </thead>\n",
       "  <tbody>\n",
       "    <tr>\n",
       "      <th>0</th>\n",
       "      <td>0.181468</td>\n",
       "      <td>0.045800</td>\n",
       "      <td>0.969697</td>\n",
       "      <td>0.994565</td>\n",
       "      <td>0.787879</td>\n",
       "      <td>0.964029</td>\n",
       "      <td>0.684211</td>\n",
       "      <td>0.930556</td>\n",
       "      <td>0.928571</td>\n",
       "      <td>1.0</td>\n",
       "    </tr>\n",
       "    <tr>\n",
       "      <th>1</th>\n",
       "      <td>0.192719</td>\n",
       "      <td>0.044566</td>\n",
       "      <td>0.965217</td>\n",
       "      <td>0.997828</td>\n",
       "      <td>0.714286</td>\n",
       "      <td>0.986111</td>\n",
       "      <td>0.555556</td>\n",
       "      <td>0.972603</td>\n",
       "      <td>1.000000</td>\n",
       "      <td>1.0</td>\n",
       "    </tr>\n",
       "    <tr>\n",
       "      <th>2</th>\n",
       "      <td>0.320759</td>\n",
       "      <td>0.096232</td>\n",
       "      <td>0.960870</td>\n",
       "      <td>0.995657</td>\n",
       "      <td>0.666667</td>\n",
       "      <td>0.971831</td>\n",
       "      <td>0.500000</td>\n",
       "      <td>0.945205</td>\n",
       "      <td>1.000000</td>\n",
       "      <td>1.0</td>\n",
       "    </tr>\n",
       "    <tr>\n",
       "      <th>3</th>\n",
       "      <td>0.310260</td>\n",
       "      <td>0.093321</td>\n",
       "      <td>0.956522</td>\n",
       "      <td>0.994571</td>\n",
       "      <td>0.666667</td>\n",
       "      <td>0.964539</td>\n",
       "      <td>0.555556</td>\n",
       "      <td>0.931507</td>\n",
       "      <td>0.833333</td>\n",
       "      <td>1.0</td>\n",
       "    </tr>\n",
       "    <tr>\n",
       "      <th>4</th>\n",
       "      <td>0.322859</td>\n",
       "      <td>0.046898</td>\n",
       "      <td>0.965217</td>\n",
       "      <td>0.993485</td>\n",
       "      <td>0.714286</td>\n",
       "      <td>0.957143</td>\n",
       "      <td>0.555556</td>\n",
       "      <td>0.917808</td>\n",
       "      <td>1.000000</td>\n",
       "      <td>1.0</td>\n",
       "    </tr>\n",
       "  </tbody>\n",
       "</table>\n",
       "</div>"
      ],
      "text/plain": [
       "   fit_time  score_time  test_accuracy  train_accuracy   test_f1  train_f1  \\\n",
       "0  0.181468    0.045800       0.969697        0.994565  0.787879  0.964029   \n",
       "1  0.192719    0.044566       0.965217        0.997828  0.714286  0.986111   \n",
       "2  0.320759    0.096232       0.960870        0.995657  0.666667  0.971831   \n",
       "3  0.310260    0.093321       0.956522        0.994571  0.666667  0.964539   \n",
       "4  0.322859    0.046898       0.965217        0.993485  0.714286  0.957143   \n",
       "\n",
       "   test_recall  train_recall  test_precision  train_precision  \n",
       "0     0.684211      0.930556        0.928571              1.0  \n",
       "1     0.555556      0.972603        1.000000              1.0  \n",
       "2     0.500000      0.945205        1.000000              1.0  \n",
       "3     0.555556      0.931507        0.833333              1.0  \n",
       "4     0.555556      0.917808        1.000000              1.0  "
      ]
     },
     "execution_count": 1463,
     "metadata": {},
     "output_type": "execute_result"
    }
   ],
   "source": [
    "lr_scores = cross_validate(lr_pipeline,X_train,y_train, cv=5, scoring =('accuracy','f1','recall','precision'),return_train_score =True)\n",
    "lr_scores =pd.DataFrame(lr_scores)\n",
    "lr_scores"
   ]
  },
  {
   "cell_type": "code",
   "execution_count": 1464,
   "metadata": {},
   "outputs": [
    {
     "data": {
      "text/plain": [
       "fit_time           0.265613\n",
       "score_time         0.065363\n",
       "test_accuracy      0.963505\n",
       "train_accuracy     0.995221\n",
       "test_f1            0.709957\n",
       "train_f1           0.968731\n",
       "test_recall        0.570175\n",
       "train_recall       0.939536\n",
       "test_precision     0.952381\n",
       "train_precision    1.000000\n",
       "dtype: float64"
      ]
     },
     "execution_count": 1464,
     "metadata": {},
     "output_type": "execute_result"
    }
   ],
   "source": [
    "lr_mean= lr_scores.mean()\n",
    "lr_mean"
   ]
  },
  {
   "cell_type": "code",
   "execution_count": 1465,
   "metadata": {},
   "outputs": [
    {
     "name": "stdout",
     "output_type": "stream",
     "text": [
      "Dummy Model, Mean Test acuuracy 0.86\n",
      "Dummy Model, Mean f1 Score 0.09\n",
      "Basic Loogistic Regressor Model, Mean Test accuracy 0.96\n",
      "Basic Loogistic Regressor Model, Mean F1 score 0.71\n"
     ]
    }
   ],
   "source": [
    "print ( \"Dummy Model, Mean Test acuuracy\", round (dummy_scores_others_mean['test_accuracy'],2))\n",
    "print ( \"Dummy Model, Mean f1 Score\", round (dummy_scores_others_mean['test_f1'],2))\n",
    "print ( \"Basic Loogistic Regressor Model, Mean Test accuracy\", round (lr_mean['test_accuracy'],2))\n",
    "print ( \"Basic Loogistic Regressor Model, Mean F1 score\", round (lr_mean['test_f1'],2))\n"
   ]
  },
  {
   "cell_type": "markdown",
   "metadata": {},
   "source": [
    "As can be seen above the F1 Score of the basic Logistic Regressor is much better than that of our baseline ( Dummy) Model"
   ]
  },
  {
   "cell_type": "markdown",
   "metadata": {},
   "source": [
    "** Optimizing Logistic Regressor's performance by tuning hyper parameters and creating best linear regressor model"
   ]
  },
  {
   "cell_type": "code",
   "execution_count": 1466,
   "metadata": {},
   "outputs": [],
   "source": [
    "param_grid = {\n",
    "    \"logisticregression__C\": loguniform(0.01, 100)\n",
    "}\n"
   ]
  },
  {
   "cell_type": "code",
   "execution_count": 1467,
   "metadata": {},
   "outputs": [
    {
     "name": "stdout",
     "output_type": "stream",
     "text": [
      "Fitting 5 folds for each of 10 candidates, totalling 50 fits\n",
      "[CV] logisticregression__C=27.431049525501745 ........................\n"
     ]
    },
    {
     "name": "stderr",
     "output_type": "stream",
     "text": [
      "[Parallel(n_jobs=-1)]: Using backend SequentialBackend with 1 concurrent workers.\n"
     ]
    },
    {
     "name": "stdout",
     "output_type": "stream",
     "text": [
      "[CV]  logisticregression__C=27.431049525501745, score=(train=0.999, test=0.974), total=   0.3s\n",
      "[CV] logisticregression__C=27.431049525501745 ........................\n"
     ]
    },
    {
     "name": "stderr",
     "output_type": "stream",
     "text": [
      "[Parallel(n_jobs=-1)]: Done   1 out of   1 | elapsed:    0.4s remaining:    0.0s\n"
     ]
    },
    {
     "name": "stdout",
     "output_type": "stream",
     "text": [
      "[CV]  logisticregression__C=27.431049525501745, score=(train=0.999, test=0.952), total=   0.3s\n",
      "[CV] logisticregression__C=27.431049525501745 ........................\n"
     ]
    },
    {
     "name": "stderr",
     "output_type": "stream",
     "text": [
      "[Parallel(n_jobs=-1)]: Done   2 out of   2 | elapsed:    0.8s remaining:    0.0s\n"
     ]
    },
    {
     "name": "stdout",
     "output_type": "stream",
     "text": [
      "[CV]  logisticregression__C=27.431049525501745, score=(train=1.000, test=0.965), total=   0.2s\n",
      "[CV] logisticregression__C=27.431049525501745 ........................\n",
      "[CV]  logisticregression__C=27.431049525501745, score=(train=0.999, test=0.957), total=   0.3s\n",
      "[CV] logisticregression__C=27.431049525501745 ........................\n",
      "[CV]  logisticregression__C=27.431049525501745, score=(train=0.999, test=0.974), total=   0.3s\n",
      "[CV] logisticregression__C=0.045527938026162555 ......................\n",
      "[CV]  logisticregression__C=0.045527938026162555, score=(train=0.947, test=0.922), total=   0.2s\n",
      "[CV] logisticregression__C=0.045527938026162555 ......................\n",
      "[CV]  logisticregression__C=0.045527938026162555, score=(train=0.950, test=0.930), total=   0.2s\n",
      "[CV] logisticregression__C=0.045527938026162555 ......................\n",
      "[CV]  logisticregression__C=0.045527938026162555, score=(train=0.946, test=0.930), total=   0.2s\n",
      "[CV] logisticregression__C=0.045527938026162555 ......................\n",
      "[CV]  logisticregression__C=0.045527938026162555, score=(train=0.945, test=0.935), total=   0.2s\n",
      "[CV] logisticregression__C=0.045527938026162555 ......................\n",
      "[CV]  logisticregression__C=0.045527938026162555, score=(train=0.946, test=0.926), total=   0.3s\n",
      "[CV] logisticregression__C=0.8588233360393741 ........................\n",
      "[CV]  logisticregression__C=0.8588233360393741, score=(train=0.995, test=0.970), total=   0.5s\n",
      "[CV] logisticregression__C=0.8588233360393741 ........................\n",
      "[CV]  logisticregression__C=0.8588233360393741, score=(train=0.997, test=0.965), total=   0.6s\n",
      "[CV] logisticregression__C=0.8588233360393741 ........................\n",
      "[CV]  logisticregression__C=0.8588233360393741, score=(train=0.996, test=0.957), total=   0.3s\n",
      "[CV] logisticregression__C=0.8588233360393741 ........................\n",
      "[CV]  logisticregression__C=0.8588233360393741, score=(train=0.995, test=0.957), total=   0.2s\n",
      "[CV] logisticregression__C=0.8588233360393741 ........................\n",
      "[CV]  logisticregression__C=0.8588233360393741, score=(train=0.991, test=0.965), total=   0.2s\n",
      "[CV] logisticregression__C=48.3180128304469 ..........................\n",
      "[CV]  logisticregression__C=48.3180128304469, score=(train=0.999, test=0.970), total=   0.3s\n",
      "[CV] logisticregression__C=48.3180128304469 ..........................\n",
      "[CV]  logisticregression__C=48.3180128304469, score=(train=0.999, test=0.952), total=   0.3s\n",
      "[CV] logisticregression__C=48.3180128304469 ..........................\n",
      "[CV]  logisticregression__C=48.3180128304469, score=(train=1.000, test=0.965), total=   0.3s\n",
      "[CV] logisticregression__C=48.3180128304469 ..........................\n",
      "[CV]  logisticregression__C=48.3180128304469, score=(train=0.999, test=0.957), total=   0.3s\n",
      "[CV] logisticregression__C=48.3180128304469 ..........................\n",
      "[CV]  logisticregression__C=48.3180128304469, score=(train=0.999, test=0.974), total=   0.3s\n",
      "[CV] logisticregression__C=0.5178759765792263 ........................\n",
      "[CV]  logisticregression__C=0.5178759765792263, score=(train=0.990, test=0.961), total=   0.2s\n",
      "[CV] logisticregression__C=0.5178759765792263 ........................\n",
      "[CV]  logisticregression__C=0.5178759765792263, score=(train=0.992, test=0.961), total=   0.5s\n",
      "[CV] logisticregression__C=0.5178759765792263 ........................\n",
      "[CV]  logisticregression__C=0.5178759765792263, score=(train=0.988, test=0.952), total=   0.4s\n",
      "[CV] logisticregression__C=0.5178759765792263 ........................\n",
      "[CV]  logisticregression__C=0.5178759765792263, score=(train=0.989, test=0.957), total=   0.4s\n",
      "[CV] logisticregression__C=0.5178759765792263 ........................\n",
      "[CV]  logisticregression__C=0.5178759765792263, score=(train=0.988, test=0.965), total=   0.2s\n",
      "[CV] logisticregression__C=0.016976195590890333 ......................\n",
      "[CV]  logisticregression__C=0.016976195590890333, score=(train=0.923, test=0.918), total=   0.2s\n",
      "[CV] logisticregression__C=0.016976195590890333 ......................\n",
      "[CV]  logisticregression__C=0.016976195590890333, score=(train=0.924, test=0.922), total=   0.2s\n",
      "[CV] logisticregression__C=0.016976195590890333 ......................\n",
      "[CV]  logisticregression__C=0.016976195590890333, score=(train=0.921, test=0.922), total=   0.2s\n",
      "[CV] logisticregression__C=0.016976195590890333 ......................\n",
      "[CV]  logisticregression__C=0.016976195590890333, score=(train=0.922, test=0.922), total=   0.2s\n",
      "[CV] logisticregression__C=0.016976195590890333 ......................\n",
      "[CV]  logisticregression__C=0.016976195590890333, score=(train=0.923, test=0.922), total=   0.2s\n",
      "[CV] logisticregression__C=50.12215529087896 .........................\n",
      "[CV]  logisticregression__C=50.12215529087896, score=(train=0.999, test=0.970), total=   0.3s\n",
      "[CV] logisticregression__C=50.12215529087896 .........................\n",
      "[CV]  logisticregression__C=50.12215529087896, score=(train=0.999, test=0.952), total=   0.3s\n",
      "[CV] logisticregression__C=50.12215529087896 .........................\n",
      "[CV]  logisticregression__C=50.12215529087896, score=(train=1.000, test=0.965), total=   0.3s\n",
      "[CV] logisticregression__C=50.12215529087896 .........................\n",
      "[CV]  logisticregression__C=50.12215529087896, score=(train=0.999, test=0.957), total=   0.3s\n",
      "[CV] logisticregression__C=50.12215529087896 .........................\n",
      "[CV]  logisticregression__C=50.12215529087896, score=(train=0.999, test=0.974), total=   0.6s\n",
      "[CV] logisticregression__C=4.269786438796675 .........................\n",
      "[CV]  logisticregression__C=4.269786438796675, score=(train=0.998, test=0.965), total=   0.6s\n",
      "[CV] logisticregression__C=4.269786438796675 .........................\n",
      "[CV]  logisticregression__C=4.269786438796675, score=(train=0.999, test=0.957), total=   0.3s\n",
      "[CV] logisticregression__C=4.269786438796675 .........................\n",
      "[CV]  logisticregression__C=4.269786438796675, score=(train=0.999, test=0.965), total=   0.2s\n",
      "[CV] logisticregression__C=4.269786438796675 .........................\n",
      "[CV]  logisticregression__C=4.269786438796675, score=(train=0.998, test=0.957), total=   0.2s\n",
      "[CV] logisticregression__C=4.269786438796675 .........................\n",
      "[CV]  logisticregression__C=4.269786438796675, score=(train=0.998, test=0.974), total=   0.2s\n",
      "[CV] logisticregression__C=0.03402603563390611 .......................\n",
      "[CV]  logisticregression__C=0.03402603563390611, score=(train=0.933, test=0.918), total=   0.2s\n",
      "[CV] logisticregression__C=0.03402603563390611 .......................\n",
      "[CV]  logisticregression__C=0.03402603563390611, score=(train=0.942, test=0.930), total=   0.2s\n",
      "[CV] logisticregression__C=0.03402603563390611 .......................\n",
      "[CV]  logisticregression__C=0.03402603563390611, score=(train=0.939, test=0.926), total=   0.2s\n",
      "[CV] logisticregression__C=0.03402603563390611 .......................\n",
      "[CV]  logisticregression__C=0.03402603563390611, score=(train=0.937, test=0.926), total=   0.2s\n",
      "[CV] logisticregression__C=0.03402603563390611 .......................\n",
      "[CV]  logisticregression__C=0.03402603563390611, score=(train=0.936, test=0.926), total=   0.2s\n",
      "[CV] logisticregression__C=1.360804385595419 .........................\n",
      "[CV]  logisticregression__C=1.360804385595419, score=(train=0.996, test=0.974), total=   0.2s\n",
      "[CV] logisticregression__C=1.360804385595419 .........................\n",
      "[CV]  logisticregression__C=1.360804385595419, score=(train=0.998, test=0.957), total=   0.2s\n",
      "[CV] logisticregression__C=1.360804385595419 .........................\n",
      "[CV]  logisticregression__C=1.360804385595419, score=(train=0.996, test=0.961), total=   0.3s\n",
      "[CV] logisticregression__C=1.360804385595419 .........................\n",
      "[CV]  logisticregression__C=1.360804385595419, score=(train=0.996, test=0.957), total=   0.4s\n",
      "[CV] logisticregression__C=1.360804385595419 .........................\n",
      "[CV]  logisticregression__C=1.360804385595419, score=(train=0.996, test=0.970), total=   0.4s\n"
     ]
    },
    {
     "name": "stderr",
     "output_type": "stream",
     "text": [
      "[Parallel(n_jobs=-1)]: Done  50 out of  50 | elapsed:   19.6s finished\n"
     ]
    },
    {
     "data": {
      "text/plain": [
       "RandomizedSearchCV(cv=5,\n",
       "                   estimator=Pipeline(steps=[('columntransformer',\n",
       "                                              ColumnTransformer(transformers=[('pipeline-1',\n",
       "                                                                               Pipeline(steps=[('simpleimputer',\n",
       "                                                                                                SimpleImputer()),\n",
       "                                                                                               ('standardscaler',\n",
       "                                                                                                StandardScaler())]),\n",
       "                                                                               ['FatContentPercent',\n",
       "                                                                                'MoisturePercent']),\n",
       "                                                                              ('pipeline-2',\n",
       "                                                                               Pipeline(steps=[('simpleimputer',\n",
       "                                                                                                SimpleImputer(strategy='most_frequent')),\n",
       "                                                                                               ('onehotencoder'...\n",
       "                                                                                                FunctionTransformer(func=<function reshape at 0x7fb22c084310>,\n",
       "                                                                                                                    kw_args={'newshape': -1})),\n",
       "                                                                                               ('countvectorizer',\n",
       "                                                                                                CountVectorizer())]),\n",
       "                                                                               ['ParticularitiesFr'])])),\n",
       "                                             ('logisticregression',\n",
       "                                              LogisticRegression(max_iter=2000))]),\n",
       "                   n_jobs=-1,\n",
       "                   param_distributions={'logisticregression__C': <scipy.stats._distn_infrastructure.rv_frozen object at 0x7fb1b4aba820>},\n",
       "                   random_state=888, return_train_score=True, verbose=3)"
      ]
     },
     "execution_count": 1467,
     "metadata": {},
     "output_type": "execute_result"
    }
   ],
   "source": [
    "random_search=RandomizedSearchCV( lr_pipeline,param_grid,n_iter=10,cv=5, verbose=3, n_jobs=-1,random_state=888,return_train_score = True)\n",
    "random_search.fit(X_train,y_train)\n"
   ]
  },
  {
   "cell_type": "code",
   "execution_count": 1468,
   "metadata": {},
   "outputs": [
    {
     "data": {
      "text/plain": [
       "{'logisticregression__C': 27.431049525501745}"
      ]
     },
     "execution_count": 1468,
     "metadata": {},
     "output_type": "execute_result"
    }
   ],
   "source": [
    "optimal_parameters = random_search.best_params_\n",
    "optimal_parameters\n"
   ]
  },
  {
   "cell_type": "code",
   "execution_count": 1469,
   "metadata": {},
   "outputs": [
    {
     "data": {
      "text/plain": [
       "0.9643704121964991"
      ]
     },
     "execution_count": 1469,
     "metadata": {},
     "output_type": "execute_result"
    }
   ],
   "source": [
    "best_score = random_search.best_score_\n",
    "best_score"
   ]
  },
  {
   "cell_type": "code",
   "execution_count": null,
   "metadata": {},
   "outputs": [],
   "source": [
    "best_model= random_search.best_estimator_\n",
    "best_model"
   ]
  },
  {
   "cell_type": "markdown",
   "metadata": {},
   "source": [
    "**Linear Regressor Coefficients -analyzing the best linaear Model"
   ]
  },
  {
   "cell_type": "markdown",
   "metadata": {},
   "source": [
    "As Logistic Regressor is a linear Model, it assigns a set of coefficients to the features and make a prediction \n",
    "based on that, the following code gets the coefficients / weights assigned to various feature by the model. This uses a custom function below ( as it is not a simple preprocessor). Please note that it generates soome warnings for information but executes properly "
   ]
  },
  {
   "cell_type": "code",
   "execution_count": null,
   "metadata": {},
   "outputs": [],
   "source": [
    "from sklearn.datasets import fetch_openml\n",
    "\n",
    "from sklearn.pipeline import Pipeline\n",
    "from sklearn.compose import ColumnTransformer\n",
    "from sklearn.impute import SimpleImputer\n",
    "from sklearn.preprocessing import StandardScaler, OneHotEncoder\n",
    "\n",
    "from sklearn.model_selection import train_test_split\n",
    "from sklearn.linear_model import LogisticRegression"
   ]
  },
  {
   "cell_type": "code",
   "execution_count": null,
   "metadata": {},
   "outputs": [],
   "source": [
    "import warnings\n",
    "import sklearn\n",
    "import pandas as pd"
   ]
  },
  {
   "cell_type": "code",
   "execution_count": null,
   "metadata": {},
   "outputs": [],
   "source": [
    "def get_feature_names(column_transformer):\n",
    "    \"\"\"Get feature names from all transformers.\n",
    "    Returns\n",
    "    -------\n",
    "    feature_names : list of strings\n",
    "        Names of the features produced by transform.\n",
    "    \"\"\"\n",
    "    # Remove the internal helper function\n",
    "    #check_is_fitted(column_transformer)\n",
    "    \n",
    "    # Turn loopkup into function for better handling with pipeline later\n",
    "    def get_names(trans):\n",
    "        # >> Original get_feature_names() method\n",
    "        if trans == 'drop' or (\n",
    "                hasattr(column, '__len__') and not len(column)):\n",
    "            return []\n",
    "        if trans == 'passthrough':\n",
    "            if hasattr(column_transformer, '_df_columns'):\n",
    "                if ((not isinstance(column, slice))\n",
    "                        and all(isinstance(col, str) for col in column)):\n",
    "                    return column\n",
    "                else:\n",
    "                    return column_transformer._df_columns[column]\n",
    "            else:\n",
    "                indices = np.arange(column_transformer._n_features)\n",
    "                return ['x%d' % i for i in indices[column]]\n",
    "        if not hasattr(trans, 'get_feature_names'):\n",
    "        # >>> Change: Return input column names if no method avaiable\n",
    "            # Turn error into a warning\n",
    "            warnings.warn(\"Transformer %s (type %s) does not \"\n",
    "                                 \"provide get_feature_names. \"\n",
    "                                 \"Will return input column names if available\"\n",
    "                                 % (str(name), type(trans).__name__))\n",
    "            # For transformers without a get_features_names method, use the input\n",
    "            # names to the column transformer\n",
    "            if column is None:\n",
    "                return []\n",
    "            else:\n",
    "                return [name + \"__\" + f for f in column]\n",
    "\n",
    "        return [name + \"__\" + f for f in trans.get_feature_names()]\n",
    "    \n",
    "    ### Start of processing\n",
    "    feature_names = []\n",
    "    \n",
    "    # Allow transformers to be pipelines. Pipeline steps are named differently, so preprocessing is needed\n",
    "    if type(column_transformer) == sklearn.pipeline.Pipeline:\n",
    "        l_transformers = [(name, trans, None, None) for step, name, trans in column_transformer._iter()]\n",
    "    else:\n",
    "        # For column transformers, follow the original method\n",
    "        l_transformers = list(column_transformer._iter(fitted=True))\n",
    "    \n",
    "    \n",
    "    for name, trans, column, _ in l_transformers: \n",
    "        if type(trans) == sklearn.pipeline.Pipeline:\n",
    "            # Recursive call on pipeline\n",
    "            _names = get_feature_names(trans)\n",
    "            # if pipeline has no transformer that returns names\n",
    "            if len(_names)==0:\n",
    "                _names = [name + \"__\" + f for f in column]\n",
    "            feature_names.extend(_names)\n",
    "        else:\n",
    "            feature_names.extend(get_names(trans))\n",
    "    \n",
    "    return feature_names"
   ]
  },
  {
   "cell_type": "code",
   "execution_count": null,
   "metadata": {},
   "outputs": [],
   "source": [
    "vocab = get_feature_names(preprocessor)"
   ]
  },
  {
   "cell_type": "code",
   "execution_count": null,
   "metadata": {},
   "outputs": [],
   "source": [
    "#clf.named_steps['classifier'].coef_\n",
    "best_model.named_steps['logisticregression'].coef_"
   ]
  },
  {
   "cell_type": "code",
   "execution_count": null,
   "metadata": {},
   "outputs": [],
   "source": [
    "#pd.DataFrame(clf.named_steps['classifier'].coef_.flatten(), index=get_feature_names(preprocessor))\n",
    "coeff_df = pd.DataFrame(best_model.named_steps['logisticregression'].coef_.flatten(), index=get_feature_names(preprocessor))\n",
    "coeff_df.head(5)"
   ]
  },
  {
   "cell_type": "markdown",
   "metadata": {},
   "source": [
    "** Creating a Data Frame of Coefficients"
   ]
  },
  {
   "cell_type": "code",
   "execution_count": null,
   "metadata": {},
   "outputs": [],
   "source": [
    "\n",
    "coeff_df_1 = coeff_df.rename_axis('feature').reset_index()\n",
    "coeff_df_1.columns"
   ]
  },
  {
   "cell_type": "code",
   "execution_count": null,
   "metadata": {},
   "outputs": [],
   "source": [
    "coeff_df_1.rename(columns = {0:'coefficients'}, inplace = True)\n",
    "coeff_df_1.head(5)\n"
   ]
  },
  {
   "cell_type": "markdown",
   "metadata": {},
   "source": [
    "**Top Five Coefficients (Weights) used by tuned linear regressor to make prediction"
   ]
  },
  {
   "cell_type": "code",
   "execution_count": null,
   "metadata": {},
   "outputs": [],
   "source": [
    "coeff_df_sort_values = coeff_df_1.sort_values (by = 'coefficients', ascending = False )\n",
    "coeff_df_sort_values[:5]"
   ]
  },
  {
   "cell_type": "markdown",
   "metadata": {},
   "source": [
    "The above coeffiencts ( values in data frame above ) are the weights(top five highest weights) assigned by logistic regressor to various features , hence the model has given highest weightage to the feature Organic created as the result of Transformation of Count Vectorizer of the text columns that was part of the data set "
   ]
  },
  {
   "cell_type": "markdown",
   "metadata": {},
   "source": [
    "**Five Coefficients (Weights) given least priority by linear regressor"
   ]
  },
  {
   "cell_type": "code",
   "execution_count": null,
   "metadata": {},
   "outputs": [],
   "source": [
    "coeff_df_sort_values_1 = coeff_df_1.sort_values (by = 'coefficients', ascending = True )\n",
    "coeff_df_sort_values_1[:5]"
   ]
  },
  {
   "cell_type": "markdown",
   "metadata": {},
   "source": [
    "The above coeffiencts ( values in data frame above ) are the weights(top five lowest weights) assigned by \n",
    "logistic regressor to various features , hence the model has given lowest weightage to the feature Qualicum Cheeseworkcreated as the result of Transformation by one hot encoder of the  that was part of the data set "
   ]
  },
  {
   "cell_type": "markdown",
   "metadata": {},
   "source": [
    "**Optimized Linear Regressor Model"
   ]
  },
  {
   "cell_type": "code",
   "execution_count": null,
   "metadata": {},
   "outputs": [],
   "source": [
    "best_model.fit(X_train,y_train)"
   ]
  },
  {
   "cell_type": "code",
   "execution_count": null,
   "metadata": {},
   "outputs": [],
   "source": [
    "from sklearn.metrics import plot_confusion_matrix\n",
    "cm_plot_best_linear_regressor = plot_confusion_matrix(best_model,X_test,y_test,normalize ='true')\n",
    "cm_plot_best_linear_regressor"
   ]
  },
  {
   "cell_type": "code",
   "execution_count": null,
   "metadata": {},
   "outputs": [],
   "source": [
    "print(classification_report(y_test,best_model.predict(X_test), target_names =[\"1\", \"0\"],digits=4))"
   ]
  },
  {
   "cell_type": "code",
   "execution_count": null,
   "metadata": {},
   "outputs": [],
   "source": [
    "print(classification_report(y_train,best_model.predict(X_train), target_names =[\"1\", \"0\"],digits=4))"
   ]
  },
  {
   "cell_type": "markdown",
   "metadata": {},
   "source": [
    "# Our Mapping Function for this Supervised Learning Problem"
   ]
  },
  {
   "cell_type": "markdown",
   "metadata": {},
   "source": [
    "Based on the above, let us plot the F1 and accuracy Prediction for our Postive Class (Organic)"
   ]
  },
  {
   "cell_type": "code",
   "execution_count": null,
   "metadata": {},
   "outputs": [],
   "source": [
    "lst =['baseline model','Random Forest', 'Linear Regressor']\n",
    "lst2 =[0.0692,0.8235,0.9885]\n",
    "df = pd.DataFrame(list(zip(lst, lst2)), \n",
    "               columns =['Model', 'f1 Score']) \n",
    "df "
   ]
  },
  {
   "cell_type": "code",
   "execution_count": null,
   "metadata": {},
   "outputs": [],
   "source": [
    "plot_f1_score =alt.Chart(df).mark_bar().encode(\n",
    "                    x =alt.X(\"Model\",sort ='y',title=\"ML Model\"),\n",
    "                    y= alt.Y(\"f1 Score:Q\",title=\" f1 Score\")).properties (width =200, height =200)\n",
    "                    \n",
    "plot_f1_score"
   ]
  },
  {
   "cell_type": "markdown",
   "metadata": {},
   "source": [
    "Our positive class in this case is Organic, let us plot how different models predicted our positive class based on confusion matrix above "
   ]
  },
  {
   "cell_type": "code",
   "execution_count": null,
   "metadata": {},
   "outputs": [],
   "source": [
    "lst2 =['Random Forest', 'Linear Regressor']\n",
    "lst3 =[0.72,0.79]\n",
    "df2 = pd.DataFrame(list(zip(lst2, lst3)), \n",
    "               columns =['Model', 'correct prediction']) \n",
    "df2 "
   ]
  },
  {
   "cell_type": "code",
   "execution_count": null,
   "metadata": {},
   "outputs": [],
   "source": [
    "plot_correct_score =alt.Chart(df2).mark_bar().encode(\n",
    "                    x =alt.X(\"Model\",sort ='y',title=\"ML Model\"),\n",
    "                    y= alt.Y(\"correct prediction:Q\",title=\" correct prediction\")).properties (width =200, height =200)\n",
    "                    \n",
    "plot_correct_score"
   ]
  },
  {
   "cell_type": "markdown",
   "metadata": {},
   "source": [
    "# Concluding Remarks"
   ]
  },
  {
   "cell_type": "markdown",
   "metadata": {},
   "source": [
    "In this Project I built a predictive answer ( machine learning Model) for predicting if the type of Cheese is Organic or Not based on the Data Set provided to me. Based on my analysis a linear regressor model will be the best predictor / will provide the best answer to this Question. As discussed aabove the F1 Score for Linear Regressor on our test data is quite high as well as based on the confusion matrices plotted above."
   ]
  },
  {
   "cell_type": "markdown",
   "metadata": {},
   "source": [
    "# References"
   ]
  },
  {
   "cell_type": "markdown",
   "metadata": {},
   "source": [
    "Not all work in this notebook is Original. Some of it was burrowed from on-line resources  and from assignments in the course. I take no credit of parts that are not mine.However, without mentioning any specific resources, let me thank all for making my journey of making Machine Learning a Fun."
   ]
  },
  {
   "cell_type": "markdown",
   "metadata": {},
   "source": []
  },
  {
   "cell_type": "markdown",
   "metadata": {},
   "source": []
  },
  {
   "cell_type": "code",
   "execution_count": null,
   "metadata": {},
   "outputs": [],
   "source": []
  },
  {
   "cell_type": "code",
   "execution_count": null,
   "metadata": {},
   "outputs": [],
   "source": []
  },
  {
   "cell_type": "code",
   "execution_count": null,
   "metadata": {},
   "outputs": [],
   "source": []
  },
  {
   "cell_type": "code",
   "execution_count": null,
   "metadata": {},
   "outputs": [],
   "source": []
  },
  {
   "cell_type": "code",
   "execution_count": null,
   "metadata": {},
   "outputs": [],
   "source": []
  },
  {
   "cell_type": "code",
   "execution_count": null,
   "metadata": {},
   "outputs": [],
   "source": []
  },
  {
   "cell_type": "code",
   "execution_count": null,
   "metadata": {},
   "outputs": [],
   "source": []
  },
  {
   "cell_type": "code",
   "execution_count": null,
   "metadata": {},
   "outputs": [],
   "source": []
  },
  {
   "cell_type": "code",
   "execution_count": null,
   "metadata": {},
   "outputs": [],
   "source": []
  },
  {
   "cell_type": "code",
   "execution_count": null,
   "metadata": {},
   "outputs": [],
   "source": []
  },
  {
   "cell_type": "code",
   "execution_count": null,
   "metadata": {},
   "outputs": [],
   "source": [
    "\n",
    "\n"
   ]
  },
  {
   "cell_type": "code",
   "execution_count": null,
   "metadata": {},
   "outputs": [],
   "source": []
  },
  {
   "cell_type": "code",
   "execution_count": null,
   "metadata": {},
   "outputs": [],
   "source": [
    "\n"
   ]
  },
  {
   "cell_type": "code",
   "execution_count": null,
   "metadata": {},
   "outputs": [],
   "source": []
  },
  {
   "cell_type": "markdown",
   "metadata": {},
   "source": []
  },
  {
   "cell_type": "code",
   "execution_count": null,
   "metadata": {},
   "outputs": [],
   "source": []
  },
  {
   "cell_type": "code",
   "execution_count": null,
   "metadata": {},
   "outputs": [],
   "source": []
  },
  {
   "cell_type": "code",
   "execution_count": null,
   "metadata": {},
   "outputs": [],
   "source": []
  },
  {
   "cell_type": "markdown",
   "metadata": {},
   "source": []
  },
  {
   "cell_type": "code",
   "execution_count": null,
   "metadata": {},
   "outputs": [],
   "source": []
  },
  {
   "cell_type": "markdown",
   "metadata": {},
   "source": []
  },
  {
   "cell_type": "code",
   "execution_count": null,
   "metadata": {},
   "outputs": [],
   "source": []
  },
  {
   "cell_type": "code",
   "execution_count": null,
   "metadata": {},
   "outputs": [],
   "source": []
  },
  {
   "cell_type": "code",
   "execution_count": null,
   "metadata": {},
   "outputs": [],
   "source": []
  },
  {
   "cell_type": "markdown",
   "metadata": {},
   "source": []
  },
  {
   "cell_type": "code",
   "execution_count": null,
   "metadata": {},
   "outputs": [],
   "source": []
  },
  {
   "cell_type": "code",
   "execution_count": null,
   "metadata": {},
   "outputs": [],
   "source": [
    "\n"
   ]
  },
  {
   "cell_type": "code",
   "execution_count": null,
   "metadata": {},
   "outputs": [],
   "source": []
  },
  {
   "cell_type": "code",
   "execution_count": null,
   "metadata": {},
   "outputs": [],
   "source": []
  },
  {
   "cell_type": "code",
   "execution_count": null,
   "metadata": {},
   "outputs": [],
   "source": []
  },
  {
   "cell_type": "code",
   "execution_count": null,
   "metadata": {},
   "outputs": [],
   "source": []
  },
  {
   "cell_type": "code",
   "execution_count": null,
   "metadata": {},
   "outputs": [],
   "source": []
  },
  {
   "cell_type": "markdown",
   "metadata": {},
   "source": []
  },
  {
   "cell_type": "code",
   "execution_count": null,
   "metadata": {},
   "outputs": [],
   "source": [
    "\n"
   ]
  },
  {
   "cell_type": "code",
   "execution_count": null,
   "metadata": {},
   "outputs": [],
   "source": []
  },
  {
   "cell_type": "code",
   "execution_count": null,
   "metadata": {},
   "outputs": [],
   "source": []
  },
  {
   "cell_type": "code",
   "execution_count": null,
   "metadata": {},
   "outputs": [],
   "source": []
  },
  {
   "cell_type": "code",
   "execution_count": null,
   "metadata": {},
   "outputs": [],
   "source": []
  },
  {
   "cell_type": "markdown",
   "metadata": {},
   "source": []
  },
  {
   "cell_type": "code",
   "execution_count": null,
   "metadata": {},
   "outputs": [],
   "source": [
    "\n"
   ]
  },
  {
   "cell_type": "code",
   "execution_count": null,
   "metadata": {},
   "outputs": [],
   "source": []
  },
  {
   "cell_type": "code",
   "execution_count": null,
   "metadata": {},
   "outputs": [],
   "source": [
    "\n",
    "\n"
   ]
  },
  {
   "cell_type": "code",
   "execution_count": null,
   "metadata": {},
   "outputs": [],
   "source": []
  },
  {
   "cell_type": "code",
   "execution_count": null,
   "metadata": {},
   "outputs": [],
   "source": []
  },
  {
   "cell_type": "code",
   "execution_count": null,
   "metadata": {},
   "outputs": [],
   "source": []
  },
  {
   "cell_type": "markdown",
   "metadata": {},
   "source": []
  },
  {
   "cell_type": "code",
   "execution_count": null,
   "metadata": {},
   "outputs": [],
   "source": []
  },
  {
   "cell_type": "code",
   "execution_count": null,
   "metadata": {},
   "outputs": [],
   "source": []
  },
  {
   "cell_type": "code",
   "execution_count": null,
   "metadata": {},
   "outputs": [],
   "source": []
  },
  {
   "cell_type": "code",
   "execution_count": null,
   "metadata": {},
   "outputs": [],
   "source": []
  },
  {
   "cell_type": "code",
   "execution_count": null,
   "metadata": {},
   "outputs": [],
   "source": []
  },
  {
   "cell_type": "code",
   "execution_count": null,
   "metadata": {},
   "outputs": [],
   "source": []
  },
  {
   "cell_type": "code",
   "execution_count": null,
   "metadata": {},
   "outputs": [],
   "source": []
  },
  {
   "cell_type": "code",
   "execution_count": null,
   "metadata": {},
   "outputs": [],
   "source": []
  },
  {
   "cell_type": "code",
   "execution_count": null,
   "metadata": {},
   "outputs": [],
   "source": []
  },
  {
   "cell_type": "code",
   "execution_count": null,
   "metadata": {},
   "outputs": [],
   "source": []
  },
  {
   "cell_type": "code",
   "execution_count": null,
   "metadata": {},
   "outputs": [],
   "source": []
  },
  {
   "cell_type": "code",
   "execution_count": null,
   "metadata": {},
   "outputs": [],
   "source": []
  },
  {
   "cell_type": "code",
   "execution_count": null,
   "metadata": {},
   "outputs": [],
   "source": []
  },
  {
   "cell_type": "markdown",
   "metadata": {},
   "source": []
  },
  {
   "cell_type": "code",
   "execution_count": null,
   "metadata": {},
   "outputs": [],
   "source": []
  },
  {
   "cell_type": "code",
   "execution_count": null,
   "metadata": {},
   "outputs": [],
   "source": []
  },
  {
   "cell_type": "code",
   "execution_count": null,
   "metadata": {},
   "outputs": [],
   "source": [
    "\n"
   ]
  },
  {
   "cell_type": "code",
   "execution_count": null,
   "metadata": {},
   "outputs": [],
   "source": []
  },
  {
   "cell_type": "code",
   "execution_count": null,
   "metadata": {},
   "outputs": [],
   "source": [
    "\n"
   ]
  },
  {
   "cell_type": "code",
   "execution_count": null,
   "metadata": {},
   "outputs": [],
   "source": []
  },
  {
   "cell_type": "code",
   "execution_count": null,
   "metadata": {},
   "outputs": [],
   "source": [
    "\n"
   ]
  },
  {
   "cell_type": "code",
   "execution_count": null,
   "metadata": {},
   "outputs": [],
   "source": [
    "\n"
   ]
  },
  {
   "cell_type": "code",
   "execution_count": null,
   "metadata": {},
   "outputs": [],
   "source": [
    "\n"
   ]
  },
  {
   "cell_type": "code",
   "execution_count": null,
   "metadata": {},
   "outputs": [],
   "source": []
  },
  {
   "cell_type": "code",
   "execution_count": null,
   "metadata": {},
   "outputs": [],
   "source": []
  },
  {
   "cell_type": "code",
   "execution_count": null,
   "metadata": {},
   "outputs": [],
   "source": []
  },
  {
   "cell_type": "code",
   "execution_count": null,
   "metadata": {},
   "outputs": [],
   "source": []
  },
  {
   "cell_type": "code",
   "execution_count": null,
   "metadata": {},
   "outputs": [],
   "source": [
    "\n"
   ]
  },
  {
   "cell_type": "code",
   "execution_count": null,
   "metadata": {},
   "outputs": [],
   "source": []
  },
  {
   "cell_type": "code",
   "execution_count": null,
   "metadata": {},
   "outputs": [],
   "source": []
  },
  {
   "cell_type": "code",
   "execution_count": null,
   "metadata": {},
   "outputs": [],
   "source": []
  },
  {
   "cell_type": "code",
   "execution_count": null,
   "metadata": {},
   "outputs": [],
   "source": []
  },
  {
   "cell_type": "code",
   "execution_count": null,
   "metadata": {},
   "outputs": [],
   "source": []
  },
  {
   "cell_type": "code",
   "execution_count": null,
   "metadata": {},
   "outputs": [],
   "source": []
  },
  {
   "cell_type": "code",
   "execution_count": null,
   "metadata": {},
   "outputs": [],
   "source": []
  },
  {
   "cell_type": "code",
   "execution_count": null,
   "metadata": {},
   "outputs": [],
   "source": []
  },
  {
   "cell_type": "code",
   "execution_count": null,
   "metadata": {},
   "outputs": [],
   "source": [
    "\n"
   ]
  },
  {
   "cell_type": "code",
   "execution_count": null,
   "metadata": {},
   "outputs": [],
   "source": []
  },
  {
   "cell_type": "code",
   "execution_count": null,
   "metadata": {},
   "outputs": [],
   "source": []
  },
  {
   "cell_type": "code",
   "execution_count": null,
   "metadata": {},
   "outputs": [],
   "source": []
  },
  {
   "cell_type": "code",
   "execution_count": null,
   "metadata": {},
   "outputs": [],
   "source": []
  },
  {
   "cell_type": "code",
   "execution_count": null,
   "metadata": {},
   "outputs": [],
   "source": []
  },
  {
   "cell_type": "code",
   "execution_count": null,
   "metadata": {},
   "outputs": [],
   "source": []
  },
  {
   "cell_type": "code",
   "execution_count": null,
   "metadata": {},
   "outputs": [],
   "source": []
  },
  {
   "cell_type": "code",
   "execution_count": null,
   "metadata": {},
   "outputs": [],
   "source": []
  },
  {
   "cell_type": "code",
   "execution_count": null,
   "metadata": {},
   "outputs": [],
   "source": [
    "\n"
   ]
  },
  {
   "cell_type": "code",
   "execution_count": null,
   "metadata": {},
   "outputs": [],
   "source": []
  },
  {
   "cell_type": "code",
   "execution_count": null,
   "metadata": {},
   "outputs": [],
   "source": []
  },
  {
   "cell_type": "code",
   "execution_count": null,
   "metadata": {},
   "outputs": [],
   "source": []
  },
  {
   "cell_type": "code",
   "execution_count": null,
   "metadata": {},
   "outputs": [],
   "source": []
  },
  {
   "cell_type": "code",
   "execution_count": null,
   "metadata": {},
   "outputs": [],
   "source": []
  },
  {
   "cell_type": "code",
   "execution_count": null,
   "metadata": {},
   "outputs": [],
   "source": []
  },
  {
   "cell_type": "code",
   "execution_count": null,
   "metadata": {},
   "outputs": [],
   "source": [
    "\n"
   ]
  },
  {
   "cell_type": "code",
   "execution_count": null,
   "metadata": {},
   "outputs": [],
   "source": []
  },
  {
   "cell_type": "code",
   "execution_count": null,
   "metadata": {},
   "outputs": [],
   "source": []
  },
  {
   "cell_type": "code",
   "execution_count": null,
   "metadata": {},
   "outputs": [],
   "source": []
  },
  {
   "cell_type": "code",
   "execution_count": null,
   "metadata": {},
   "outputs": [],
   "source": []
  },
  {
   "cell_type": "code",
   "execution_count": null,
   "metadata": {},
   "outputs": [],
   "source": []
  },
  {
   "cell_type": "code",
   "execution_count": null,
   "metadata": {},
   "outputs": [],
   "source": []
  },
  {
   "cell_type": "code",
   "execution_count": null,
   "metadata": {},
   "outputs": [],
   "source": []
  },
  {
   "cell_type": "code",
   "execution_count": null,
   "metadata": {},
   "outputs": [],
   "source": [
    "\n"
   ]
  },
  {
   "cell_type": "code",
   "execution_count": null,
   "metadata": {},
   "outputs": [],
   "source": []
  }
 ],
 "metadata": {
  "kernelspec": {
   "display_name": "Python 3",
   "language": "python",
   "name": "python3"
  },
  "language_info": {
   "codemirror_mode": {
    "name": "ipython",
    "version": 3
   },
   "file_extension": ".py",
   "mimetype": "text/x-python",
   "name": "python",
   "nbconvert_exporter": "python",
   "pygments_lexer": "ipython3",
   "version": "3.8.5"
  }
 },
 "nbformat": 4,
 "nbformat_minor": 4
}
